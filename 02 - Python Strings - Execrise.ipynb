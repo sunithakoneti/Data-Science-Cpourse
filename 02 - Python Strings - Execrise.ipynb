{
 "cells": [
  {
   "cell_type": "markdown",
   "metadata": {},
   "source": [
    "# Assignment Instructions\n",
    "\n",
    "`Hello Innominion,`\n",
    "\n",
    "- **Try to attempt all the questions in every possible way.**\n",
    "- **Some other topics are required to solve some questions. don't panic.**\n",
    "- **Those questions can be answered after the topics are taught.**\n",
    "\n",
    "\n",
    "- `Join Mentoring Session for the Support/Doubts Resolving with Our Technical Mentors (2.00 PM - 6.00 PM  Mon-Sat)` \n",
    "\n",
    "Happy Learning !!!"
   ]
  },
  {
   "cell_type": "markdown",
   "metadata": {},
   "source": [
    "# Strings - Execrise"
   ]
  },
  {
   "cell_type": "code",
   "execution_count": 2,
   "metadata": {},
   "outputs": [],
   "source": [
    "text = \"\"\"The University of Hawaii began using radio to send digital information as early as 1971,using ALOHAnet. \n",
    "Friedhelm Hillebrand conceptualised SMS in 1984 while working for Deutsche Telekom. Sitting at a typewriter at home, \n",
    "Hillebrand typed out random sentences and counted every letter, number, punctuation, and space. \n",
    "Almost every time, the messages contained fewer than 160 characters, thus giving the basis for the \n",
    "limit one could type via text messaging. With Bernard Ghillebaert of France Télécom, he developed \n",
    "a proposal for the GSM (Groupe Spécial Mobile) meeting in February 1985 in Oslo. \n",
    "The first technical solution evolved in a GSM subgroup under the leadership of Finn Trosby. \n",
    "It was further developed under the leadership of Kevin Holley and Ian Harris (see Short Message Service). \n",
    "SMS forms an integral part of SS7 (Signalling System No. 7). Under SS7, it is a \"state\" with a 160 character data, \n",
    "coded in the ITU-T \"T.56\" text format, that has a \"sequence lead in\" to determine different language codes, \n",
    "and may have special character codes that permits, for example, sending simple graphs as text. \n",
    "This was part of ISDN (Integrated Services Digital Network) and since GSM is based on this, \n",
    "made its way to the mobile phone. Messages could be sent and received on ISDN phones, \n",
    "and these can send SMS to any GSM phone. The possibility of doing something is one thing, \n",
    "implementing it another, but systems existed from 1988 that sent SMS messages to mobile phones (compare ND-NOTIS).\"\"\""
   ]
  },
  {
   "cell_type": "markdown",
   "metadata": {},
   "source": [
    ">  `Question:` How many characters in text"
   ]
  },
  {
   "cell_type": "markdown",
   "metadata": {},
   "source": [
    "### Answer"
   ]
  },
  {
   "cell_type": "code",
   "execution_count": 2,
   "metadata": {},
   "outputs": [
    {
     "name": "stdout",
     "output_type": "stream",
     "text": [
      "The characters in the text are :  1507\n"
     ]
    }
   ],
   "source": [
    "# How many characters in  rhe above text\n",
    "\n",
    "length=len(text)\n",
    "print(\"The characters in the text are : \",length)"
   ]
  },
  {
   "cell_type": "markdown",
   "metadata": {},
   "source": [
    ">  `Question:` How many words are there in the \"text\""
   ]
  },
  {
   "cell_type": "markdown",
   "metadata": {},
   "source": [
    "### Answer\n"
   ]
  },
  {
   "cell_type": "code",
   "execution_count": 3,
   "metadata": {},
   "outputs": [
    {
     "name": "stdout",
     "output_type": "stream",
     "text": [
      "The total number of words in the text are :  244\n"
     ]
    }
   ],
   "source": [
    "#  How many words are there in the \"text\"\n",
    "words=len(text.split())\n",
    "print(\"The total number of words in the text are : \",words)"
   ]
  },
  {
   "cell_type": "markdown",
   "metadata": {},
   "source": [
    ">  `Question:` How many unique words in the \"text\""
   ]
  },
  {
   "cell_type": "markdown",
   "metadata": {},
   "source": [
    "### Answer"
   ]
  },
  {
   "cell_type": "code",
   "execution_count": 6,
   "metadata": {},
   "outputs": [
    {
     "name": "stdout",
     "output_type": "stream",
     "text": [
      "the total number of unique words are :  174\n"
     ]
    }
   ],
   "source": [
    "# >  How many unique words in the \"text\"\n",
    "\n",
    "words = text.split()\n",
    "count_unique = len(set(words))\n",
    "print(\"the total number of unique words are : \",count_unique)"
   ]
  },
  {
   "cell_type": "code",
   "execution_count": 8,
   "metadata": {},
   "outputs": [
    {
     "name": "stdout",
     "output_type": "stream",
     "text": [
      "The total number of unique words are : 174\n"
     ]
    }
   ],
   "source": [
    "# another way\n",
    "words = text.split()\n",
    "unique_words = dict.fromkeys(words)\n",
    "unique_words_count = len(unique_words)\n",
    "print(\"The total number of unique words are :\",unique_words_count)"
   ]
  },
  {
   "cell_type": "markdown",
   "metadata": {},
   "source": [
    ">  `Question:` Find Lexical diversity\n",
    "\n",
    "lexical_diversity = (number of words)/(number of unique words)"
   ]
  },
  {
   "cell_type": "markdown",
   "metadata": {},
   "source": [
    "### Answer"
   ]
  },
  {
   "cell_type": "code",
   "execution_count": 8,
   "metadata": {},
   "outputs": [
    {
     "name": "stdout",
     "output_type": "stream",
     "text": [
      "The lexical diversity of the text is:  1.4022988505747127\n"
     ]
    }
   ],
   "source": [
    "# Find Lexical diversity\n",
    "\n",
    "words = text.split()\n",
    "count_unique = len(set(words))\n",
    "words=len(words)\n",
    "lexical_diversity = words / count_unique\n",
    "print(\"The lexical diversity of the text is: \",lexical_diversity)"
   ]
  },
  {
   "cell_type": "markdown",
   "metadata": {},
   "source": [
    ">  `Question:` Count how many \"the\" in text"
   ]
  },
  {
   "cell_type": "markdown",
   "metadata": {},
   "source": [
    "### Answer"
   ]
  },
  {
   "cell_type": "code",
   "execution_count": 4,
   "metadata": {},
   "outputs": [
    {
     "name": "stdout",
     "output_type": "stream",
     "text": [
      "number of 'the's in the text are :  14\n"
     ]
    }
   ],
   "source": [
    "# Count how many \"the\" in text\n",
    "text=text.lower()\n",
    "#words = text.split()\n",
    "num = text.count('the')\n",
    "print(\"number of 'the's in the text are : \",num)"
   ]
  },
  {
   "cell_type": "code",
   "execution_count": 10,
   "metadata": {},
   "outputs": [
    {
     "data": {
      "text/plain": [
       "14"
      ]
     },
     "execution_count": 10,
     "metadata": {},
     "output_type": "execute_result"
    }
   ],
   "source": []
  },
  {
   "cell_type": "markdown",
   "metadata": {},
   "source": [
    ">  `Question:` Count how many \"a\" in text"
   ]
  },
  {
   "cell_type": "markdown",
   "metadata": {},
   "source": [
    "### Answer"
   ]
  },
  {
   "cell_type": "code",
   "execution_count": 15,
   "metadata": {},
   "outputs": [
    {
     "name": "stdout",
     "output_type": "stream",
     "text": [
      "The occurance of 'a' in the text is :  92\n"
     ]
    }
   ],
   "source": [
    "# Count how many \"a\" in text\n",
    "\n",
    "text = text.lower()\n",
    "num = text.count('a')\n",
    "print(\"The occurance of 'a' in the text is : \",num)"
   ]
  },
  {
   "cell_type": "markdown",
   "metadata": {},
   "source": [
    ">  `Question:` Extract First 10 words in text"
   ]
  },
  {
   "cell_type": "markdown",
   "metadata": {},
   "source": [
    "### Answer"
   ]
  },
  {
   "cell_type": "code",
   "execution_count": 4,
   "metadata": {},
   "outputs": [
    {
     "name": "stdout",
     "output_type": "stream",
     "text": [
      "'The University of Hawaii began using radio to send digital'\n"
     ]
    }
   ],
   "source": [
    "# Extract First 10 words in text\n",
    "\n",
    "words = text.split()\n",
    "first_10_words = words[:10]\n",
    "first_10_words = \" \".join(first_10_words[:10])\n",
    "print(\"'\"+first_10_words+\"'\")   \n"
   ]
  },
  {
   "cell_type": "markdown",
   "metadata": {},
   "source": [
    ">  `Question:` Append \" Innomatics Reseach Labs\" after first 10 words in the text"
   ]
  },
  {
   "cell_type": "markdown",
   "metadata": {},
   "source": [
    "### Answer"
   ]
  },
  {
   "cell_type": "code",
   "execution_count": 5,
   "metadata": {},
   "outputs": [
    {
     "name": "stdout",
     "output_type": "stream",
     "text": [
      "'The University of Hawaii began using radio to send digital Innomatics Reaserch Labs'\n"
     ]
    }
   ],
   "source": [
    "# Append \" Innomatics Reseach Labs\" after first 10 words in the text\n",
    "words = text.split()\n",
    "first_10_words = words[:10]\n",
    "first_10_words = \" \".join(first_10_words[:10])\n",
    "string = \"Innomatics Reaserch Labs\"\n",
    "new_line = first_10_words + \" \" + (string)\n",
    "print(\"'\"+new_line+\"'\")"
   ]
  },
  {
   "cell_type": "markdown",
   "metadata": {},
   "source": [
    ">  `Question:` Extract First Fourteen (14) character in text"
   ]
  },
  {
   "cell_type": "markdown",
   "metadata": {},
   "source": [
    "### Answer"
   ]
  },
  {
   "cell_type": "code",
   "execution_count": 3,
   "metadata": {},
   "outputs": [
    {
     "name": "stdout",
     "output_type": "stream",
     "text": [
      "'The University'\n"
     ]
    }
   ],
   "source": [
    "# Extract First Fourteen (14) characters in text\n",
    "\n",
    "new_line = text[:14]\n",
    "print(\"'\"+new_line+\"'\")\n"
   ]
  },
  {
   "cell_type": "markdown",
   "metadata": {},
   "source": [
    ">  `Question:` Extract first Fourteen (14) words in text"
   ]
  },
  {
   "cell_type": "markdown",
   "metadata": {},
   "source": [
    "### Answer"
   ]
  },
  {
   "cell_type": "code",
   "execution_count": 4,
   "metadata": {},
   "outputs": [
    {
     "name": "stdout",
     "output_type": "stream",
     "text": [
      "'The University of Hawaii began using radio to send digital information as early as'\n"
     ]
    }
   ],
   "source": [
    "# Extract first Fourteen (14) words in text\n",
    "words = text.split()\n",
    "new_line = words[:14]\n",
    "new_line = \" \".join(new_line[:14])\n",
    "print(\"'\"+new_line+\"'\")"
   ]
  },
  {
   "cell_type": "markdown",
   "metadata": {},
   "source": [
    ">  `Question:` Extract First 10 words in text\n",
    "- Convert every letter into ***upper*** case\n",
    "- Convert every letter into ***lower*** case"
   ]
  },
  {
   "cell_type": "markdown",
   "metadata": {},
   "source": [
    "### Answer"
   ]
  },
  {
   "cell_type": "code",
   "execution_count": 5,
   "metadata": {},
   "outputs": [
    {
     "name": "stdout",
     "output_type": "stream",
     "text": [
      "'THE UNIVERSITY OF HAWAII BEGAN USING RADIO TO SEND DIGITAL'\n"
     ]
    }
   ],
   "source": [
    "# Extract First 10 words in text\n",
    "# - Convert every letter into ***upper*** case\n",
    "words = text.split()\n",
    "first_10_words = words[:10]\n",
    "first_10_words = \" \".join(first_10_words[:10])\n",
    "first_10_words = first_10_words.upper()\n",
    "print(\"'\"+first_10_words+\"'\")"
   ]
  },
  {
   "cell_type": "markdown",
   "metadata": {},
   "source": [
    "### Answer"
   ]
  },
  {
   "cell_type": "code",
   "execution_count": 24,
   "metadata": {},
   "outputs": [
    {
     "name": "stdout",
     "output_type": "stream",
     "text": [
      "' the university of hawaii began using radio to send digital '\n"
     ]
    }
   ],
   "source": [
    "# - Convert every letter into ***lower*** case\n",
    "\n",
    "words = text.split()\n",
    "first_10_words = words[:10]\n",
    "first_10_words = \" \".join(first_10_words[:10])\n",
    "first_10_words = first_10_words.lower()\n",
    "print(\"'\",first_10_words,\"'\")"
   ]
  },
  {
   "cell_type": "markdown",
   "metadata": {},
   "source": [
    ">  `Question:`  Find the list of letter starting with \n",
    "- u\n",
    "- o\n",
    "> `hint - You need to use for loop for this`"
   ]
  },
  {
   "cell_type": "markdown",
   "metadata": {},
   "source": [
    "### Answer"
   ]
  },
  {
   "cell_type": "code",
   "execution_count": 18,
   "metadata": {},
   "outputs": [
    {
     "name": "stdout",
     "output_type": "stream",
     "text": [
      "List of words starting with 'u'is:\n",
      "'using','under','under',"
     ]
    }
   ],
   "source": [
    "# Find the list of words starting with 'u'\n",
    "\n",
    "words = text.split()\n",
    "print(\"List of words starting with 'u'is:\")\n",
    "\n",
    "for i in range(0,len(words)):\n",
    "    if words[i].startswith('u'):\n",
    "        new_words = words[i]\n",
    "        print(\"'\"+new_words+\"'\",end=',')  \n"
   ]
  },
  {
   "cell_type": "code",
   "execution_count": 20,
   "metadata": {},
   "outputs": [
    {
     "name": "stdout",
     "output_type": "stream",
     "text": [
      "List of words starting with 'u' is :\n",
      " {'university', 'under', 'using'}\n"
     ]
    }
   ],
   "source": [
    "# Other way of extracting words starting with 'u'\n",
    "words = text.split()\n",
    "new_words=[]\n",
    "for i in words:\n",
    "    if i.startswith('u'):\n",
    "        new_words.append(i)\n",
    "print(\"List of words starting with 'u' is :\\n\",set(new_words) ) \n"
   ]
  },
  {
   "cell_type": "markdown",
   "metadata": {},
   "source": [
    "### Answer"
   ]
  },
  {
   "cell_type": "code",
   "execution_count": 11,
   "metadata": {},
   "outputs": [
    {
     "name": "stdout",
     "output_type": "stream",
     "text": [
      "List of words starting with is:\n",
      "'of','out','one','of','oslo.','of','of','of','of','on','on','of','one',"
     ]
    }
   ],
   "source": [
    "# Find the list of words starting with 'o'\n",
    "text = text.lower()\n",
    "words = text.split()\n",
    "print(\"List of words starting with is:\")\n",
    "for i in range(0,len(words)):\n",
    "    if words[i].startswith('o'):\n",
    "        new_words = words[i]\n",
    "        print(\"'\"+new_words+\"'\",end=',')   \n"
   ]
  },
  {
   "cell_type": "code",
   "execution_count": 13,
   "metadata": {},
   "outputs": [
    {
     "name": "stdout",
     "output_type": "stream",
     "text": [
      "List of words starting with 'o' is : {'on', 'out', 'oslo.', 'of', 'one'}\n"
     ]
    }
   ],
   "source": [
    "# other way of extracting words with stating'o'\n",
    "text=text.lower()\n",
    "words = text.split()\n",
    "new_words1=[]\n",
    "for i in words:\n",
    "    if i.startswith('o'):\n",
    "        new_words1.append(i)\n",
    "print(\"List of words starting with 'o' is :\\n\",set(new_words1) )\n",
    "        \n",
    "          \n"
   ]
  },
  {
   "cell_type": "markdown",
   "metadata": {},
   "source": [
    ">  `Question:` Find the list of letter ending with \n",
    "- e\n",
    "- n\n",
    "> `hint - You need to use for loop for this`"
   ]
  },
  {
   "cell_type": "markdown",
   "metadata": {},
   "source": [
    "### Answer"
   ]
  },
  {
   "cell_type": "code",
   "execution_count": 20,
   "metadata": {},
   "outputs": [
    {
     "name": "stdout",
     "output_type": "stream",
     "text": [
      "List of words starting with 'e' is:\n",
      "'The', 'while', 'Deutsche', 'the', 'the', 'the', 'one', 'type', 'France', 'he', 'the', '(Groupe', 'The', 'the', 'the', '(see', 'Message', 'the', '\"sequence', 'determine', 'language', 'have', 'simple', 'since', 'made', 'the', 'mobile', 'be', 'these', 'The', 'one', 'mobile', '(compare', "
     ]
    }
   ],
   "source": [
    "# List of words ending wuth 'e'\n",
    "words = text.split()\n",
    "print(\"List of words starting with 'e' is:\")\n",
    "for i in range(0,len(words)):\n",
    "    if words[i].endswith('e'):\n",
    "        new_words = words[i]\n",
    "        print(\"'\"+new_words+\"'\",end=', ')\n",
    "        "
   ]
  },
  {
   "cell_type": "code",
   "execution_count": 19,
   "metadata": {},
   "outputs": [
    {
     "name": "stdout",
     "output_type": "stream",
     "text": [
      "List of words ends with 'e' is :\n",
      " {'mobile', 'france', 'message', '(groupe', 'have', 'type', '(compare', 'these', '(see', 'determine', '\"sequence', 'deutsche', 'while', 'language', 'since', 'the', 'be', 'made', 'simple', 'he', 'one'}\n"
     ]
    }
   ],
   "source": [
    "# other way of extracting words ending with 'e' from the text\n",
    "text = text.lower()\n",
    "words = text.split()\n",
    "new_words2=[]\n",
    "for i in words:\n",
    "    if i.endswith('e'):\n",
    "        new_words2.append(i)\n",
    "print(\"List of words ends with 'e' is :\\n\",set(new_words2) )"
   ]
  },
  {
   "cell_type": "code",
   "execution_count": 27,
   "metadata": {},
   "outputs": [
    {
     "name": "stdout",
     "output_type": "stream",
     "text": [
      "List of words ends with 'n' is:\n",
      "'began','information','in','than','in','in','solution','in','finn','kevin','ian','an','in','isdn','on','on','isdn','can',"
     ]
    }
   ],
   "source": [
    "# List of words ending wuth 'n'\n",
    "text = text.lower()\n",
    "words= text.split()\n",
    "print(\"List of words ends with 'n' is:\")\n",
    "for i in range(0,len(words)):\n",
    "    if words[i].endswith('n'):\n",
    "        new_words = words[i]\n",
    "        print(\"'\"+new_words+\"'\",end=',') "
   ]
  },
  {
   "cell_type": "code",
   "execution_count": 18,
   "metadata": {},
   "outputs": [
    {
     "name": "stdout",
     "output_type": "stream",
     "text": [
      "List of words ends with 'n' is :\n",
      " {'finn', 'solution', 'can', 'on', 'an', 'ian', 'information', 'began', 'isdn', 'in', 'kevin', 'than'}\n"
     ]
    }
   ],
   "source": [
    "# other way of extracting words endin with 'n'\n",
    "text = text.lower()\n",
    "words = text.split()\n",
    "new_words3=[]\n",
    "for i in words:\n",
    "    if i.endswith('n'):\n",
    "        new_words3.append(i)\n",
    "print(\"List of words ends with 'n' is :\\n\",set(new_words3) )"
   ]
  },
  {
   "cell_type": "markdown",
   "metadata": {},
   "source": [
    ">  `Question:` Extract first 10 words of text and Capitalize first letter of each word"
   ]
  },
  {
   "cell_type": "markdown",
   "metadata": {},
   "source": [
    "### Answer"
   ]
  },
  {
   "cell_type": "code",
   "execution_count": 14,
   "metadata": {},
   "outputs": [
    {
     "name": "stdout",
     "output_type": "stream",
     "text": [
      "'The University Of Hawaii Began Using Radio To Send Digital'\n"
     ]
    }
   ],
   "source": [
    "#  Extract first 10 words of text and Capitalize first letter of each word\n",
    "words = text.split()\n",
    "first_10_words = words[:10]\n",
    "first_10_words = \" \".join(first_10_words[:10])\n",
    "first_10_words = first_10_words.title()\n",
    "print(\"'\"+first_10_words+\"'\")\n"
   ]
  },
  {
   "cell_type": "markdown",
   "metadata": {},
   "source": [
    ">  `Question:` Replace the word \"University\" with name \"Innomatics\" in text"
   ]
  },
  {
   "cell_type": "markdown",
   "metadata": {},
   "source": [
    "### Answer"
   ]
  },
  {
   "cell_type": "code",
   "execution_count": 19,
   "metadata": {},
   "outputs": [
    {
     "name": "stdout",
     "output_type": "stream",
     "text": [
      "The Innomatics of Hawaii began using radio to send digital information as early as 1971,using ALOHAnet. \n",
      "Friedhelm Hillebrand conceptualised SMS in 1984 while working for Deutsche Telekom. Sitting at a typewriter at home, \n",
      "Hillebrand typed out random sentences and counted every letter, number, punctuation, and space. \n",
      "Almost every time, the messages contained fewer than 160 characters, thus giving the basis for the \n",
      "limit one could type via text messaging. With Bernard Ghillebaert of France Télécom, he developed \n",
      "a proposal for the GSM (Groupe Spécial Mobile) meeting in February 1985 in Oslo. \n",
      "The first technical solution evolved in a GSM subgroup under the leadership of Finn Trosby. \n",
      "It was further developed under the leadership of Kevin Holley and Ian Harris (see Short Message Service). \n",
      "SMS forms an integral part of SS7 (Signalling System No. 7). Under SS7, it is a \"state\" with a 160 character data, \n",
      "coded in the ITU-T \"T.56\" text format, that has a \"sequence lead in\" to determine different language codes, \n",
      "and may have special character codes that permits, for example, sending simple graphs as text. \n",
      "This was part of ISDN (Integrated Services Digital Network) and since GSM is based on this, \n",
      "made its way to the mobile phone. Messages could be sent and received on ISDN phones, \n",
      "and these can send SMS to any GSM phone. The possibility of doing something is one thing, \n",
      "implementing it another, but systems existed from 1988 that sent SMS messages to mobile phones (compare ND-NOTIS).\n"
     ]
    }
   ],
   "source": [
    "# Replace the word \"University\" with name \"Innomatics\" in text\n",
    "\n",
    "\n",
    "new_text = text.replace('University', 'Innomatics')\n",
    "print(new_text)\n"
   ]
  },
  {
   "cell_type": "markdown",
   "metadata": {},
   "source": [
    "> `Question:`  Convert the \"text\" into sentances and store those into one variable called \"sentance\""
   ]
  },
  {
   "cell_type": "markdown",
   "metadata": {},
   "source": [
    "### Answer"
   ]
  },
  {
   "cell_type": "code",
   "execution_count": 18,
   "metadata": {},
   "outputs": [
    {
     "name": "stdout",
     "output_type": "stream",
     "text": [
      "\n",
      "The University of Hawaii began using radio to send digital information as early as 1971,using ALOHAnet. \n",
      "Friedhelm Hillebrand conceptualised SMS in 1984 while working for Deutsche Telekom. Sitting at a typewriter at home, \n",
      "Hillebrand typed out random sentences and counted every letter, number, punctuation, and space. \n",
      "Almost every time, the messages contained fewer than 160 characters, thus giving the basis for the \n",
      "limit one could type via text messaging. With Bernard Ghillebaert of France Télécom, he developed \n",
      "a proposal for the GSM (Groupe Spécial Mobile) meeting in February 1985 in Oslo. \n",
      "The first technical solution evolved in a GSM subgroup under the leadership of Finn Trosby. \n",
      "It was further developed under the leadership of Kevin Holley and Ian Harris (see Short Message Service). \n",
      "SMS forms an integral part of SS7 (Signalling System No. 7). Under SS7, it is a \"state\" with a 160 character data, \n",
      "coded in the ITU-T \"T.56\" text format, that has a \"sequence lead in\" to determine different language codes, \n",
      "and may have special character codes that permits, for example, sending simple graphs as text. \n",
      "This was part of ISDN (Integrated Services Digital Network) and since GSM is based on this, \n",
      "made its way to the mobile phone. Messages could be sent and received on ISDN phones, \n",
      "and these can send SMS to any GSM phone. The possibility of doing something is one thing, \n",
      "implementing it another, but systems existed from 1988 that sent SMS messages to mobile phones (compare ND-NOTIS).\n"
     ]
    }
   ],
   "source": [
    "# Convert the \"text\" into sentances and store those into one variable called \"sentance\"\n",
    "\n",
    "sentance = text.split(\"\\n\")\n",
    "sentance = \"\\n\".join(sentance)\n",
    "print(sentance)"
   ]
  },
  {
   "cell_type": "markdown",
   "metadata": {},
   "source": [
    " `Question:`\n",
    " \n",
    "> 1.From the above sentance remove '\\n'\n"
   ]
  },
  {
   "cell_type": "markdown",
   "metadata": {},
   "source": [
    "### Answer"
   ]
  },
  {
   "cell_type": "code",
   "execution_count": 31,
   "metadata": {},
   "outputs": [
    {
     "name": "stdout",
     "output_type": "stream",
     "text": [
      "The University of Hawaii began using radio to send digital information as early as 1971,using ALOHAnet. \n",
      "Friedhelm Hillebrand conceptualised SMS in 1984 while working for Deutsche Telekom. Sitting at a typewriter at home, \n",
      "Hillebrand typed out random sentences and counted every letter, number, punctuation, and space. \n",
      "Almost every time, the messages contained fewer than 160 characters, thus giving the basis for the \n",
      "limit one could type via text messaging. With Bernard Ghillebaert of France Télécom, he developed \n",
      "a proposal for the GSM (Groupe Spécial Mobile) meeting in February 1985 in Oslo. \n",
      "The first technical solution evolved in a GSM subgroup under the leadership of Finn Trosby. \n",
      "It was further developed under the leadership of Kevin Holley and Ian Harris (see Short Message Service). \n",
      "SMS forms an integral part of SS7 (Signalling System No. 7). Under SS7, it is a \"state\" with a 160 character data, \n",
      "coded in the ITU-T \"T.56\" text format, that has a \"sequence lead in\" to determine different language codes, \n",
      "and may have special character codes that permits, for example, sending simple graphs as text. \n",
      "This was part of ISDN (Integrated Services Digital Network) and since GSM is based on this, \n",
      "made its way to the mobile phone. Messages could be sent and received on ISDN phones, \n",
      "and these can send SMS to any GSM phone. The possibility of doing something is one thing, \n",
      "implementing it another, but systems existed from 1988 that sent SMS messages to mobile phones (compare ND-NOTIS).\n"
     ]
    }
   ],
   "source": [
    "sentance = text.split(\"\\n\")\n",
    "sentance = \"\\n\".join(sentance)\n",
    "print(new_text)"
   ]
  },
  {
   "cell_type": "markdown",
   "metadata": {},
   "source": [
    " > 2. From the above sentace print the first word from each sentance\n"
   ]
  },
  {
   "cell_type": "markdown",
   "metadata": {},
   "source": [
    "### Answer"
   ]
  },
  {
   "cell_type": "code",
   "execution_count": 9,
   "metadata": {},
   "outputs": [
    {
     "name": "stdout",
     "output_type": "stream",
     "text": [
      "The\n",
      "Friedhelm\n",
      "Hillebrand\n",
      "Almost\n",
      "limit\n",
      "a\n",
      "The\n",
      "It\n",
      "SMS\n",
      "coded\n",
      "and\n",
      "This\n",
      "made\n",
      "and\n",
      "implementing\n"
     ]
    }
   ],
   "source": [
    "sentance = text.split(\"\\n\")\n",
    "n=len(sentance)\n",
    "for i in sentance:\n",
    "    words = i.split()\n",
    "    first_words = words[0]\n",
    "    print(first_words)\n",
    "\n",
    "\n",
    "\n",
    "\n",
    "    \n"
   ]
  },
  {
   "cell_type": "markdown",
   "metadata": {},
   "source": [
    "> 3. From the above sentace print even posioned sentances"
   ]
  },
  {
   "cell_type": "markdown",
   "metadata": {},
   "source": [
    "### Answer"
   ]
  },
  {
   "cell_type": "code",
   "execution_count": 57,
   "metadata": {
    "scrolled": true
   },
   "outputs": [
    {
     "name": "stdout",
     "output_type": "stream",
     "text": [
      "15\n",
      "The University of Hawaii began using radio to send digital information as early as 1971,using ALOHAnet. \n",
      "Hillebrand typed out random sentences and counted every letter, number, punctuation, and space. \n",
      "limit one could type via text messaging. With Bernard Ghillebaert of France Télécom, he developed \n",
      "The first technical solution evolved in a GSM subgroup under the leadership of Finn Trosby. \n",
      "SMS forms an integral part of SS7 (Signalling System No. 7). Under SS7, it is a \"state\" with a 160 character data, \n",
      "and may have special character codes that permits, for example, sending simple graphs as text. \n",
      "made its way to the mobile phone. Messages could be sent and received on ISDN phones, \n",
      "implementing it another, but systems existed from 1988 that sent SMS messages to mobile phones (compare ND-NOTIS).\n"
     ]
    }
   ],
   "source": [
    "# Using slicing\n",
    "\n",
    "sentance = text.split(\"\\n\")\n",
    "c=len(sentance)\n",
    "print(c)\n",
    "\n",
    "sentance = sentance[0:15:2]\n",
    "sentance = \"\\n\".join(sentance)\n",
    "print(sentance)"
   ]
  },
  {
   "cell_type": "code",
   "execution_count": 16,
   "metadata": {},
   "outputs": [
    {
     "name": "stdout",
     "output_type": "stream",
     "text": [
      "The University of Hawaii began using radio to send digital information as early as 1971,using ALOHAnet. \n",
      "Hillebrand typed out random sentences and counted every letter, number, punctuation, and space. \n",
      "limit one could type via text messaging. With Bernard Ghillebaert of France Télécom, he developed \n",
      "The first technical solution evolved in a GSM subgroup under the leadership of Finn Trosby. \n",
      "SMS forms an integral part of SS7 (Signalling System No. 7). Under SS7, it is a \"state\" with a 160 character data, \n",
      "and may have special character codes that permits, for example, sending simple graphs as text. \n",
      "made its way to the mobile phone. Messages could be sent and received on ISDN phones, \n",
      "implementing it another, but systems existed from 1988 that sent SMS messages to mobile phones (compare ND-NOTIS).\n"
     ]
    }
   ],
   "source": [
    "# another way by Using forloop \n",
    "sentance = text.split(\"\\n\")\n",
    "for i in range(len(sentance)):\n",
    "    if i % 2 != 0:\n",
    "        continue\n",
    "    print(sentance[i])\n"
   ]
  },
  {
   "cell_type": "markdown",
   "metadata": {},
   "source": [
    ">   `Question:` If the following string is given as input to the program:\n",
    "\n",
    "- H1e2l3l4o5w6o7r8l9d\n",
    "\n",
    ">   `Output:`  Then, the output of the program should be:\n",
    "\n",
    "- Helloworld"
   ]
  },
  {
   "cell_type": "markdown",
   "metadata": {},
   "source": [
    "### Answer"
   ]
  },
  {
   "cell_type": "code",
   "execution_count": 46,
   "metadata": {},
   "outputs": [
    {
     "name": "stdout",
     "output_type": "stream",
     "text": [
      "Helloworld\n"
     ]
    }
   ],
   "source": [
    "# using slicing\n",
    "string_with_numbers = \"H1e2l3l4o5w6o7r8l9d\"\n",
    "string_with_out_numbers = string_with_numbers[0:19:2]\n",
    "print(string_with_out_numbers)\n",
    "    \n"
   ]
  },
  {
   "cell_type": "code",
   "execution_count": 13,
   "metadata": {},
   "outputs": [
    {
     "name": "stdout",
     "output_type": "stream",
     "text": [
      "Helloworld"
     ]
    }
   ],
   "source": [
    "# Another way by using for loop and if condition\n",
    "\n",
    "word = \"H1e2l3l4o5w6o7r8l9d\"\n",
    "for i in range(len(word)):\n",
    "    if i % 2 == 1:\n",
    "        continue\n",
    "    print(word[i],end='')"
   ]
  },
  {
   "cell_type": "markdown",
   "metadata": {},
   "source": [
    "# [Innomatics Research Labs](https:/innomatics.in/)\n",
    "[www.innomatics.in](https:/innomatics.in/)"
   ]
  }
 ],
 "metadata": {
  "kernelspec": {
   "display_name": "Python 3 (ipykernel)",
   "language": "python",
   "name": "python3"
  },
  "language_info": {
   "codemirror_mode": {
    "name": "ipython",
    "version": 3
   },
   "file_extension": ".py",
   "mimetype": "text/x-python",
   "name": "python",
   "nbconvert_exporter": "python",
   "pygments_lexer": "ipython3",
   "version": "3.9.13"
  }
 },
 "nbformat": 4,
 "nbformat_minor": 2
}
