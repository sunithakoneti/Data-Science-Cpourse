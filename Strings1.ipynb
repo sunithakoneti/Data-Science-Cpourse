{
 "cells": [
  {
   "cell_type": "markdown",
   "id": "c3f2a90a",
   "metadata": {},
   "source": [
    "# <CENTER>STRINGS\n",
    "------------------"
   ]
  },
  {
   "cell_type": "markdown",
   "id": "3bc4b91d",
   "metadata": {},
   "source": [
    "> # **What is String**\n",
    "\n",
    "- A stinr is a sequence of characters.\n",
    "- Computerrs do not deal with characters, they deal with numbers(binary). Even though you may see characters on your screen, internally it is stored and manipulated as a combination of 0's and 1's.\n",
    "- This conversion of character to a number is called encoding, and the reverse process is decoding. ASCII and Unicode are some of the popular encoding used.\n",
    "\n",
    "\n",
    "> # **Strings are Arrays**\n",
    "\n",
    "Like many other popular programming languages, strings in Python are arrays of bytesrepresenting unicode characters.\n",
    "However, Python does not have a character data type, a single character is simply a string with a length of 1. Square brackets can be used to access elemnts of the string.\n"
   ]
  },
  {
   "cell_type": "markdown",
   "id": "96d21673",
   "metadata": {},
   "source": [
    "# <Sub head> Simple exercise on String Declaration"
   ]
  },
  {
   "cell_type": "code",
   "execution_count": 1,
   "id": "347c4652",
   "metadata": {},
   "outputs": [
    {
     "data": {
      "text/plain": [
       "'sunitha'"
      ]
     },
     "execution_count": 1,
     "metadata": {},
     "output_type": "execute_result"
    }
   ],
   "source": [
    "# Using single inverted comma\n",
    "var='sunitha'\n",
    "var"
   ]
  },
  {
   "cell_type": "code",
   "execution_count": 6,
   "id": "503ac962",
   "metadata": {},
   "outputs": [
    {
     "data": {
      "text/plain": [
       "\"jijfd97987 97977\\\\s,'jkl'\""
      ]
     },
     "execution_count": 6,
     "metadata": {},
     "output_type": "execute_result"
    }
   ],
   "source": [
    "# Using double quotes when we use special characters and more than one string in a single variable\n",
    "var1=\"jijfd97987 97977\\s,'jkl'\"\n",
    "var1"
   ]
  },
  {
   "cell_type": "code",
   "execution_count": 9,
   "id": "2b989508",
   "metadata": {},
   "outputs": [
    {
     "data": {
      "text/plain": [
       "'Hello\\n\\nthis is a\\n\\nhappy world'"
      ]
     },
     "execution_count": 9,
     "metadata": {},
     "output_type": "execute_result"
    }
   ],
   "source": [
    "# Using triple quotes when we use multiple lines in a single variable and for  commenting\n",
    "var2=\"\"\"Hello\n",
    "this is a\n",
    "happy world\"\"\"\n",
    "var2"
   ]
  },
  {
   "cell_type": "markdown",
   "id": "a8aefc1b",
   "metadata": {},
   "source": [
    "### String Concatination"
   ]
  },
  {
   "cell_type": "code",
   "execution_count": 15,
   "id": "ccfea3f4",
   "metadata": {},
   "outputs": [
    {
     "name": "stdout",
     "output_type": "stream",
     "text": [
      "Enter First Name :koneti\n",
      "Enter Middle Name:sunitha\n",
      "Enter Last Name:devi\n",
      "The complete Name is: Koneti Sunitha Devi\n"
     ]
    }
   ],
   "source": [
    "var1=input(\"Enter First Name :\")\n",
    "var2=input(\"Enter Middle Name:\")\n",
    "var3=input(\"Enter Last Name:\")\n",
    "name=var1+ \" \"+var2+\" \"+var3\n",
    "name1=name.title()\n",
    "print(\"The complete Name is:\",name1)"
   ]
  },
  {
   "cell_type": "markdown",
   "id": "d7890e0b",
   "metadata": {},
   "source": [
    "### Encoding a string along with storage space"
   ]
  },
  {
   "cell_type": "code",
   "execution_count": 4,
   "id": "9152e5db",
   "metadata": {},
   "outputs": [
    {
     "name": "stdout",
     "output_type": "stream",
     "text": [
      "Enter a string:sunitha\n",
      "The storage space of s  is 115 And ASCII value is 0b1110011\n",
      "The storage space of u  is 117 And ASCII value is 0b1110101\n",
      "The storage space of n  is 110 And ASCII value is 0b1101110\n",
      "The storage space of i  is 105 And ASCII value is 0b1101001\n",
      "The storage space of t  is 116 And ASCII value is 0b1110100\n",
      "The storage space of h  is 104 And ASCII value is 0b1101000\n",
      "The storage space of a  is 97 And ASCII value is 0b1100001\n"
     ]
    }
   ],
   "source": [
    "# To find a particular character's storage number and it's Encoding value using for loop\n",
    "var=input(\"Enter a string:\")\n",
    "for i in var:\n",
    "    print(\"The storage space of\",i,\" is\",ord(i),\"And ASCII value is\",bin(ord(i)))\n"
   ]
  },
  {
   "cell_type": "markdown",
   "id": "59c7b34a",
   "metadata": {},
   "source": [
    "# <center>String Slicing"
   ]
  },
  {
   "cell_type": "markdown",
   "id": "e7949c39",
   "metadata": {},
   "source": [
    "String slicing refers to the process of extracting a portion of a string, known as a substring, by specifying a start index and an end index. The start index is the position of the first character of the substring, and the end index is the position of the last character of the substring, plus one.\n",
    "\n",
    "In Python, strings are zero-indexed, meaning that the first character of a string has an index of 0, the second character has an index of 1, and so on. To extract a substring, you can use the following syntax:\n",
    ">- var = \"string\"\n",
    ">- substring = var[start:end]\n",
    "> where 'start' and 'end' are the indexes of the first and last characters of the substring, respectively.\n",
    ">- If we write var[:], default it will take index of the First character.\n",
    ">- var[start:stop:step] is the other syntaxt to extract needed characters in a particular string.\n",
    "\n",
    "\n"
   ]
  },
  {
   "cell_type": "markdown",
   "id": "af5d3e5e",
   "metadata": {},
   "source": [
    "### Slicing Example 1"
   ]
  },
  {
   "cell_type": "code",
   "execution_count": 23,
   "id": "ec579b7f",
   "metadata": {},
   "outputs": [
    {
     "name": "stdout",
     "output_type": "stream",
     "text": [
      "Enter Your Name:innomatics\n",
      "First two letter of the name are in\n",
      "Last two letters of the name are cs\n"
     ]
    }
   ],
   "source": [
    "# Extracting First and Last two characters of a string\n",
    "\n",
    "name=input(\"Enter Your Name:\")\n",
    "print(\"First two letter of the name are\",name[:2])\n",
    "print(\"Last two letters of the name are\",name[-2:])"
   ]
  },
  {
   "cell_type": "markdown",
   "id": "f4e4b5af",
   "metadata": {},
   "source": [
    "### Slicing Example 2"
   ]
  },
  {
   "cell_type": "code",
   "execution_count": 3,
   "id": "d6db9710",
   "metadata": {},
   "outputs": [
    {
     "name": "stdout",
     "output_type": "stream",
     "text": [
      "Enter Your Name:   Innomatics \n",
      "Enter Your Location:   Hyderabad\n",
      "Enter your number:  239898778789\n"
     ]
    }
   ],
   "source": [
    "name=input(\"Enter Your Name:\")\n",
    "loc=input(\"Enter Your Location:\")\n",
    "number=input(\"Enter your number:\")"
   ]
  },
  {
   "cell_type": "code",
   "execution_count": 6,
   "id": "af914765",
   "metadata": {},
   "outputs": [
    {
     "name": "stdout",
     "output_type": "stream",
     "text": [
      "Hello Innomatics \n",
      "Hello Hyderabad\n",
      "Hello 9898778789\n"
     ]
    }
   ],
   "source": [
    "print(\"Hello\",name[3:])\n",
    "print(\"Hello\",loc[3:])\n",
    "print(\"Hello\",number[4:14:1])"
   ]
  },
  {
   "cell_type": "markdown",
   "id": "861ac24f",
   "metadata": {},
   "source": [
    "### Some simple string operations"
   ]
  },
  {
   "cell_type": "code",
   "execution_count": 14,
   "id": "e47ff50b",
   "metadata": {},
   "outputs": [
    {
     "name": "stdout",
     "output_type": "stream",
     "text": [
      "Enter Any string :hggjhik\n",
      "The length of the string is 7\n",
      "Upper case of the string is HGGJHIK\n",
      "Lower case of the string is hggjhik\n"
     ]
    }
   ],
   "source": [
    "# length of a string\n",
    "\n",
    "var=input(\"Enter Any string :\")\n",
    "var1=len(var)\n",
    "print(\"The length of the string is\",var1)\n",
    "\n",
    "# Changing to Upperrcase\n",
    "var2=var.upper()\n",
    "print(\"Upper case of the string is\",var2)\n",
    "\n",
    "# Changing to Lowercase\n",
    "var3=var.lower()\n",
    "print(\"Lower case of the string is\",var3)"
   ]
  },
  {
   "cell_type": "markdown",
   "id": "d6a835fc",
   "metadata": {},
   "source": [
    "# For loop"
   ]
  },
  {
   "cell_type": "markdown",
   "id": "97e6c87a",
   "metadata": {},
   "source": [
    "> Syntaxes of for loop\n",
    ">- for <i> in <var>:\n",
    ">- for <i> in range(start,end):\n",
    ">- for <i> in range(start,stop,step):\n"
   ]
  },
  {
   "cell_type": "code",
   "execution_count": 20,
   "id": "b08b51b4",
   "metadata": {},
   "outputs": [
    {
     "name": "stdout",
     "output_type": "stream",
     "text": [
      "Enter a string:ghjhgjk\n",
      "the string is: \n",
      "g\n",
      "h\n",
      "j\n",
      "h\n",
      "g\n",
      "j\n",
      "k\n"
     ]
    }
   ],
   "source": [
    "# printing a string using for loop\n",
    "\n",
    "var=input(\"Enter a string:\")\n",
    "print(\"the string is: \")\n",
    "for i in var:\n",
    "    print(i)"
   ]
  },
  {
   "cell_type": "code",
   "execution_count": 24,
   "id": "393d339f",
   "metadata": {},
   "outputs": [
    {
     "name": "stdout",
     "output_type": "stream",
     "text": [
      "Enter a Number:9\n",
      "The Even numbers till  9  are\n",
      "2\n",
      "4\n",
      "6\n",
      "8\n"
     ]
    }
   ],
   "source": [
    "# Printing Even numberrs below the number given by user\n",
    "\n",
    "num=input(\"Enter a Number:\")\n",
    "print(\"The Even numbers till \",num,\" are\")\n",
    "for i in range(1,int(num)):\n",
    "    if (i%2==0):\n",
    "        print(i) "
   ]
  },
  {
   "cell_type": "code",
   "execution_count": 13,
   "id": "d5b8a915",
   "metadata": {},
   "outputs": [
    {
     "name": "stdout",
     "output_type": "stream",
     "text": [
      "Enter a Number:3\n",
      "The Odd numbers till  3  are\n",
      "1\n"
     ]
    }
   ],
   "source": [
    "# Printing odd numberrs below the number given by user\n",
    "num=input(\"Enter a Number:\")\n",
    "print(\"The Odd numbers till \",num,\" are\")\n",
    "for i in range(1,int(num)):\n",
    "    if (i%2!=0):\n",
    "        print(i)\n"
   ]
  },
  {
   "cell_type": "code",
   "execution_count": 18,
   "id": "e15863c8",
   "metadata": {},
   "outputs": [
    {
     "name": "stdout",
     "output_type": "stream",
     "text": [
      "Enter the maximum number: 6\n",
      "2\n",
      "3\n",
      "5\n"
     ]
    }
   ],
   "source": [
    "# Printing Prime numbers below the given number by user\n",
    "num = int(input(\"Enter the maximum number: \"))\n",
    "for j in range(2,num + 1):\n",
    "    is_prime = True\n",
    "    for i in range(2, j):\n",
    "        if j % i == 0:\n",
    "            is_prime = False\n",
    "            break\n",
    "    if is_prime:\n",
    "        print(j)"
   ]
  },
  {
   "cell_type": "markdown",
   "id": "ddc37406",
   "metadata": {},
   "source": [
    "# Reversing a string"
   ]
  },
  {
   "cell_type": "code",
   "execution_count": 10,
   "id": "5b3be066",
   "metadata": {},
   "outputs": [
    {
     "name": "stdout",
     "output_type": "stream",
     "text": [
      "Enter any string:hjj\n",
      "The reversed string is  jjh\n",
      "The reversed string is  nohtyp\n",
      "Enter any String:7uyjjhk\n",
      "The reversed string is   khjjyu7\n"
     ]
    }
   ],
   "source": [
    "# one way of reversing a string\n",
    "var=input(\"Enter any string:\")\n",
    "var1=var[::-1]\n",
    "print(\"The reversed string is \",var1)\n",
    "\n",
    "# Another way\n",
    "var='python'\n",
    "print(\"The reversed string is \",var[-1:-7:-1])\n",
    "\n",
    "#using for loops\n",
    "var=input(\"Enter any String:\")\n",
    "var1=\" \"\n",
    "for i in range(len(var)-1,-1,-1):\n",
    "    var1=var1+var[i]\n",
    "print(\"The reversed string is \",var1)"
   ]
  },
  {
   "cell_type": "markdown",
   "id": "8e559e85",
   "metadata": {},
   "source": [
    "# Using String Commands"
   ]
  },
  {
   "cell_type": "code",
   "execution_count": 26,
   "id": "b1a0b106",
   "metadata": {},
   "outputs": [
    {
     "name": "stdout",
     "output_type": "stream",
     "text": [
      "Enter a string:innomatics\n",
      "The string is Innomatics\n",
      "The index of 'c' is: 0\n",
      "cat is moving her eyes.\n",
      "5\n",
      "The count of 'c' is: 2\n"
     ]
    }
   ],
   "source": [
    "# Capitalize the first character of the string\n",
    "var=input(\"Enter a string:\")\n",
    "var1=var.capitalize() # it capitalizes only alphabets not numbers or special characterrs\n",
    "print(\"The string is\",var1)\n",
    "\n",
    "# Index\n",
    "var=\"cat is closing her eyes.\"\n",
    "var1=var.index('c')\n",
    "print(\"The index of 'c' is:\",var1)\n",
    "\n",
    "# Replace()\n",
    "var1=var.replace('closing','moving')\n",
    "print(var1)\n",
    "\n",
    "# Find\n",
    "var2=var.find('s')\n",
    "print(var2)\n",
    "\n",
    "# Count\n",
    "var1=var.count('c') \n",
    "print(\"The count of 'c' is:\",var1)"
   ]
  },
  {
   "cell_type": "markdown",
   "id": "fc304db5",
   "metadata": {},
   "source": [
    "### Enumerate"
   ]
  },
  {
   "cell_type": "markdown",
   "id": "27efbaa6",
   "metadata": {},
   "source": [
    "The enumerate() function in Python is used to iterate over a sequence (such as a list, tuple, or string) \n",
    "and return an iterator that produces tuples containing the index and the value of each element of the sequence. \n",
    "This can be useful when you need to keep track of the index while iterating over a sequence.\n"
   ]
  },
  {
   "cell_type": "code",
   "execution_count": 3,
   "id": "f32f23b5",
   "metadata": {},
   "outputs": [
    {
     "name": "stdout",
     "output_type": "stream",
     "text": [
      "0 rose\n",
      "1 lotus\n",
      "2 jasmin\n"
     ]
    }
   ],
   "source": [
    "# Enumerate()\n",
    "list=['rose','lotus','jasmin']\n",
    "for index,value in enumerate(list):\n",
    "    print(index,value)"
   ]
  },
  {
   "cell_type": "markdown",
   "id": "2cf90803",
   "metadata": {},
   "source": [
    "### Strip"
   ]
  },
  {
   "cell_type": "markdown",
   "id": "0bf85bcd",
   "metadata": {},
   "source": [
    "strip() is a built-in Python method that is used to remove leading and trailing whitespace characters\n",
    "(such as spaces, tabs, and newlines) from a string. you want to clean up user input, file data,\n",
    "or other strings that may have unnecessary whitespace.\n"
   ]
  },
  {
   "cell_type": "code",
   "execution_count": 4,
   "id": "4835c390",
   "metadata": {},
   "outputs": [
    {
     "name": "stdout",
     "output_type": "stream",
     "text": [
      "Helloworld\n"
     ]
    }
   ],
   "source": [
    "# Strip()\n",
    "string=\"    Hello   world      \"\n",
    "string1=string.strip()\n",
    "string1=string1.replace(\" \",\"\")\n",
    "print(string1)"
   ]
  },
  {
   "cell_type": "code",
   "execution_count": 9,
   "id": "05e89e11",
   "metadata": {},
   "outputs": [
    {
     "name": "stdout",
     "output_type": "stream",
     "text": [
      "Enter the string:   iNNonmmndsk jJKKjbb    \n",
      "Innonmmndsk Jjkkjbb\n"
     ]
    }
   ],
   "source": [
    "# To take input from the user and captalise first name and last name first characterr.\n",
    "# program should change everything to lower case first also remove leading and trailing whitespaces\n",
    "\n",
    "string=input(\"Enter the string:\")\n",
    "string1=string.lower()\n",
    "string1=string1.strip()\n",
    "string1=string1.title()\n",
    "print(string1)"
   ]
  },
  {
   "cell_type": "markdown",
   "id": "39f1558d",
   "metadata": {},
   "source": [
    "### Startswith and Endswith"
   ]
  },
  {
   "cell_type": "code",
   "execution_count": 11,
   "id": "a598c2b7",
   "metadata": {},
   "outputs": [
    {
     "name": "stdout",
     "output_type": "stream",
     "text": [
      "  \n",
      "from:abc@123.com  \n",
      "\n",
      "to:xyz@456.com  \n",
      "\n",
      "\n"
     ]
    }
   ],
   "source": [
    "string=\"\"\"  \n",
    "from:abc@123.com  \n",
    "\n",
    "to:xyz@456.com  \n",
    "\n",
    "\"\"\"\n",
    "print(string)"
   ]
  },
  {
   "cell_type": "code",
   "execution_count": 12,
   "id": "46519a62",
   "metadata": {},
   "outputs": [
    {
     "data": {
      "text/plain": [
       "False"
      ]
     },
     "execution_count": 12,
     "metadata": {},
     "output_type": "execute_result"
    }
   ],
   "source": [
    "# Startswith()\n",
    "string.strip().startswith('to')"
   ]
  },
  {
   "cell_type": "code",
   "execution_count": 13,
   "id": "8d4702d4",
   "metadata": {},
   "outputs": [
    {
     "data": {
      "text/plain": [
       "True"
      ]
     },
     "execution_count": 13,
     "metadata": {},
     "output_type": "execute_result"
    }
   ],
   "source": [
    "# Endswith()\n",
    "string.strip().endswith('.com')"
   ]
  },
  {
   "cell_type": "code",
   "execution_count": 14,
   "id": "79d00bd2",
   "metadata": {},
   "outputs": [
    {
     "name": "stdout",
     "output_type": "stream",
     "text": [
      "Hello, World!\n"
     ]
    }
   ],
   "source": [
    "# Removing $ from given string using strip() method\n",
    "my_string = \"$Hello, World!\"\n",
    "my_string = my_string.strip(\"$\")\n",
    "print(my_string)"
   ]
  },
  {
   "cell_type": "code",
   "execution_count": 15,
   "id": "fe421d97",
   "metadata": {},
   "outputs": [
    {
     "name": "stdout",
     "output_type": "stream",
     "text": [
      "Hello, World!\n"
     ]
    }
   ],
   "source": [
    "# Removing $ from given string using slicing\n",
    "my_string = \"$Hello, World!\"\n",
    "my_string = my_string[1:]\n",
    "print(my_string)"
   ]
  },
  {
   "cell_type": "markdown",
   "id": "084aaabd",
   "metadata": {},
   "source": [
    "### Isdigit"
   ]
  },
  {
   "cell_type": "code",
   "execution_count": 16,
   "id": "452250e0",
   "metadata": {},
   "outputs": [
    {
     "data": {
      "text/plain": [
       "False"
      ]
     },
     "execution_count": 16,
     "metadata": {},
     "output_type": "execute_result"
    }
   ],
   "source": [
    "string='sunitha'\n",
    "string.isdigit()"
   ]
  },
  {
   "cell_type": "code",
   "execution_count": 17,
   "id": "dedd58dc",
   "metadata": {},
   "outputs": [
    {
     "data": {
      "text/plain": [
       "True"
      ]
     },
     "execution_count": 17,
     "metadata": {},
     "output_type": "execute_result"
    }
   ],
   "source": [
    "string.isalpha()"
   ]
  },
  {
   "cell_type": "code",
   "execution_count": 18,
   "id": "ba78bf06",
   "metadata": {},
   "outputs": [
    {
     "data": {
      "text/plain": [
       "True"
      ]
     },
     "execution_count": 18,
     "metadata": {},
     "output_type": "execute_result"
    }
   ],
   "source": [
    "string.isalnum()"
   ]
  },
  {
   "cell_type": "code",
   "execution_count": 20,
   "id": "1c0d530b",
   "metadata": {},
   "outputs": [
    {
     "data": {
      "text/plain": [
       "True"
      ]
     },
     "execution_count": 20,
     "metadata": {},
     "output_type": "execute_result"
    }
   ],
   "source": [
    "number='566778'\n",
    "number.isdigit()"
   ]
  },
  {
   "cell_type": "code",
   "execution_count": 22,
   "id": "124f0a89",
   "metadata": {},
   "outputs": [
    {
     "data": {
      "text/plain": [
       "True"
      ]
     },
     "execution_count": 22,
     "metadata": {},
     "output_type": "execute_result"
    }
   ],
   "source": [
    "number.isnumeric()"
   ]
  },
  {
   "cell_type": "code",
   "execution_count": 5,
   "id": "84e53874",
   "metadata": {},
   "outputs": [
    {
     "name": "stdout",
     "output_type": "stream",
     "text": [
      "Enter Your Name:kjh\n",
      "The output is:\n",
      "kjh\n",
      "Enter Your Name:nbnb'\n",
      "The output is:\n",
      "nbnb'\n",
      "Enter Your Name:hjk\n",
      "The output is:\n",
      "hjk\n",
      "Enter Your Name:njkl\n",
      "The output is:\n",
      "njkl\n",
      "Enter Your Name:knkljh\\\n",
      "The output is:\n",
      "knkljh\\\n",
      "Enter Your Name:hkhjkl\n",
      "The output is:\n",
      "hkhjkl\n",
      "Enter Your Name:jkljlk\n",
      "The output is:\n",
      "jkljlk\n",
      "Enter Your Name:jhkjh\n",
      "The output is:\n",
      "jhkjh\n",
      "Enter Your Name:jjkhjk\n",
      "The output is:\n",
      "jjkhjk\n",
      "Enter Your Name:jkj\n",
      "The output is:\n",
      "jkj\n",
      "Enter Your Name:jjkh\n",
      "The output is:\n",
      "jjkh\n"
     ]
    }
   ],
   "source": [
    "\n",
    "for i in range(0,11):\n",
    "    name=input(\"Enter Your Name:\")\n",
    "    print(\"The output is:\")\n",
    "    print(name)   \n",
    "    "
   ]
  },
  {
   "cell_type": "markdown",
   "id": "32ebacd7",
   "metadata": {},
   "source": [
    "### Split()\n"
   ]
  },
  {
   "cell_type": "code",
   "execution_count": 7,
   "id": "64d25d00",
   "metadata": {},
   "outputs": [
    {
     "data": {
      "text/plain": [
       "['Hello', 'World']"
      ]
     },
     "execution_count": 7,
     "metadata": {},
     "output_type": "execute_result"
    }
   ],
   "source": [
    "\"Hello World\".split()"
   ]
  },
  {
   "cell_type": "code",
   "execution_count": 2,
   "id": "5b1d5de4",
   "metadata": {},
   "outputs": [
    {
     "name": "stdout",
     "output_type": "stream",
     "text": [
      "Enter string:sunitha devi\n",
      "['sunitha', 'devi']\n"
     ]
    }
   ],
   "source": [
    "name=input(\"Enter string:\")\n",
    "name1=name.split()\n",
    "print(name1)"
   ]
  },
  {
   "cell_type": "code",
   "execution_count": 4,
   "id": "a9cece79",
   "metadata": {},
   "outputs": [
    {
     "name": "stdout",
     "output_type": "stream",
     "text": [
      " $  \n",
      "from:abc@123.com  \n",
      "\n",
      "to:xyz@456.com  \n",
      "\n",
      "\n"
     ]
    }
   ],
   "source": [
    "string=\"\"\" $  \n",
    "from:abc@123.com  \n",
    "\n",
    "to:xyz@456.com  \n",
    "\n",
    "\"\"\"\n",
    "string1=string.strip(\"$\")\n",
    "#string1=string.replace('$',\"\")\n",
    "print(string1)"
   ]
  },
  {
   "cell_type": "markdown",
   "id": "953f2545",
   "metadata": {},
   "source": []
  },
  {
   "cell_type": "code",
   "execution_count": 1,
   "id": "b64c2683",
   "metadata": {},
   "outputs": [
    {
     "name": "stdout",
     "output_type": "stream",
     "text": [
      "[' $  ', 'from:abc@123.com  ', '', 'to:xyz@456.com  ', '']\n"
     ]
    }
   ],
   "source": [
    "string=\"\"\" $  \n",
    "from:abc@123.com  \n",
    "\n",
    "to:xyz@456.com  \n",
    "\n",
    "\"\"\"\n",
    "string1=string.splitlines()\n",
    "\n",
    "print(string1)"
   ]
  },
  {
   "cell_type": "code",
   "execution_count": null,
   "id": "0f4617cf",
   "metadata": {},
   "outputs": [],
   "source": []
  }
 ],
 "metadata": {
  "kernelspec": {
   "display_name": "Python 3 (ipykernel)",
   "language": "python",
   "name": "python3"
  },
  "language_info": {
   "codemirror_mode": {
    "name": "ipython",
    "version": 3
   },
   "file_extension": ".py",
   "mimetype": "text/x-python",
   "name": "python",
   "nbconvert_exporter": "python",
   "pygments_lexer": "ipython3",
   "version": "3.9.13"
  }
 },
 "nbformat": 4,
 "nbformat_minor": 5
}
