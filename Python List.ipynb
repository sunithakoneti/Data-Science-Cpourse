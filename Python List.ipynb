{
 "cells": [
  {
   "cell_type": "markdown",
   "id": "a423420f",
   "metadata": {},
   "source": [
    "# List \n",
    "\n",
    "- A collection that allows us to many values in a single \"variable\".\n",
    "- A collection is benificial because we can carry many values around in one convenient pscksge.\n",
    "> Ex: friends=['Sandhya','Ramya','Karthika']\n",
    "- List constants should surrounded by square brackets '[ ]' and the elements are seperated by comma ','.\n",
    "> Ex: nums=[1,2,3,4]\n",
    "- A list can be any python object, even it can be a list also.\n",
    "> Ex: s=[1,2,3,4,[5,6,7]]\n",
    "- A list can be empty.\n",
    "> Ex:[ ]"
   ]
  },
  {
   "cell_type": "code",
   "execution_count": 2,
   "id": "966ad58a",
   "metadata": {},
   "outputs": [
    {
     "data": {
      "text/plain": [
       "[1, 2, 3, 4, 5]"
      ]
     },
     "execution_count": 2,
     "metadata": {},
     "output_type": "execute_result"
    }
   ],
   "source": [
    "l=[1,2,3,4,5]\n",
    "l"
   ]
  },
  {
   "cell_type": "code",
   "execution_count": 4,
   "id": "d35ec161",
   "metadata": {},
   "outputs": [
    {
     "data": {
      "text/plain": [
       "[1, 2, 3, 4, 1.2, 1.4, 'str1', 'str2']"
      ]
     },
     "execution_count": 4,
     "metadata": {},
     "output_type": "execute_result"
    }
   ],
   "source": [
    "#2\n",
    "l1=[1,2,3,4,1.2,1.4,'str1','str2']\n",
    "l1"
   ]
  },
  {
   "cell_type": "code",
   "execution_count": 5,
   "id": "6ecdbe79",
   "metadata": {},
   "outputs": [
    {
     "data": {
      "text/plain": [
       "['Ibtheda', 30]"
      ]
     },
     "execution_count": 5,
     "metadata": {},
     "output_type": "execute_result"
    }
   ],
   "source": [
    "l3=['Ibtheda',30]\n",
    "l3"
   ]
  },
  {
   "cell_type": "code",
   "execution_count": 6,
   "id": "3a60bfa8",
   "metadata": {},
   "outputs": [
    {
     "data": {
      "text/plain": [
       "[]"
      ]
     },
     "execution_count": 6,
     "metadata": {},
     "output_type": "execute_result"
    }
   ],
   "source": [
    "# empty list\n",
    "l4=[]\n",
    "l4"
   ]
  },
  {
   "cell_type": "code",
   "execution_count": 7,
   "id": "e1ff4e92",
   "metadata": {},
   "outputs": [
    {
     "data": {
      "text/plain": [
       "[]"
      ]
     },
     "execution_count": 7,
     "metadata": {},
     "output_type": "execute_result"
    }
   ],
   "source": [
    "#list command\n",
    "l3=list()\n",
    "l3"
   ]
  },
  {
   "cell_type": "code",
   "execution_count": 10,
   "id": "1c907e4f",
   "metadata": {},
   "outputs": [
    {
     "data": {
      "text/plain": [
       "4"
      ]
     },
     "execution_count": 10,
     "metadata": {},
     "output_type": "execute_result"
    }
   ],
   "source": [
    "x=list((1,2,3,4,5))\n",
    "x[3]"
   ]
  },
  {
   "cell_type": "code",
   "execution_count": 9,
   "id": "4bdf9cfc",
   "metadata": {},
   "outputs": [
    {
     "data": {
      "text/plain": [
       "['s', 't', 'r']"
      ]
     },
     "execution_count": 9,
     "metadata": {},
     "output_type": "execute_result"
    }
   ],
   "source": [
    "list('str')"
   ]
  },
  {
   "cell_type": "code",
   "execution_count": 20,
   "id": "a16fa4f5",
   "metadata": {},
   "outputs": [],
   "source": [
    "friends =['Ibteda','Umiya','nitya']"
   ]
  },
  {
   "cell_type": "code",
   "execution_count": 21,
   "id": "f9c18ee0",
   "metadata": {},
   "outputs": [
    {
     "name": "stdout",
     "output_type": "stream",
     "text": [
      "Ibteda\n",
      "Umiya\n",
      "nitya\n"
     ]
    }
   ],
   "source": [
    "for friend in friends:\n",
    "    print(friend)"
   ]
  },
  {
   "cell_type": "code",
   "execution_count": 21,
   "id": "22d93e5c",
   "metadata": {},
   "outputs": [
    {
     "data": {
      "text/plain": [
       "['Ibteda', 'Umiya', 'nitya', 'suni']"
      ]
     },
     "execution_count": 21,
     "metadata": {},
     "output_type": "execute_result"
    }
   ],
   "source": [
    "friends =['Ibteda','Umiya','nitya']\n",
    "friends.insert(4,\"suni\")\n",
    "friends"
   ]
  },
  {
   "cell_type": "markdown",
   "id": "ac502834",
   "metadata": {},
   "source": [
    "### List is immutable:\n",
    "\n",
    "- In Python, a list is considered immutable if its elements cannot be modified after it is created. \n",
    "- This means that once a list is created, its elements cannot be added, removed, or changed in any way. \n",
    "- Attempting to do so will result in an error."
   ]
  },
  {
   "cell_type": "code",
   "execution_count": 3,
   "id": "aec79b63",
   "metadata": {},
   "outputs": [
    {
     "ename": "TypeError",
     "evalue": "'str' object does not support item assignment",
     "output_type": "error",
     "traceback": [
      "\u001b[1;31m---------------------------------------------------------------------------\u001b[0m",
      "\u001b[1;31mTypeError\u001b[0m                                 Traceback (most recent call last)",
      "\u001b[1;32m~\\AppData\\Local\\Temp\\ipykernel_5800\\1103667375.py\u001b[0m in \u001b[0;36m<module>\u001b[1;34m\u001b[0m\n\u001b[0;32m      1\u001b[0m \u001b[1;31m# Immutable\u001b[0m\u001b[1;33m\u001b[0m\u001b[1;33m\u001b[0m\u001b[0m\n\u001b[0;32m      2\u001b[0m \u001b[0mst\u001b[0m\u001b[1;33m=\u001b[0m\u001b[1;34m'Hello World'\u001b[0m\u001b[1;33m\u001b[0m\u001b[1;33m\u001b[0m\u001b[0m\n\u001b[1;32m----> 3\u001b[1;33m \u001b[0mst\u001b[0m\u001b[1;33m[\u001b[0m\u001b[1;36m0\u001b[0m\u001b[1;33m]\u001b[0m\u001b[1;33m=\u001b[0m\u001b[1;34m'h'\u001b[0m\u001b[1;33m\u001b[0m\u001b[1;33m\u001b[0m\u001b[0m\n\u001b[0m",
      "\u001b[1;31mTypeError\u001b[0m: 'str' object does not support item assignment"
     ]
    }
   ],
   "source": [
    "# Immutable\n",
    "st='Hello World'\n",
    "st[0]='h'"
   ]
  },
  {
   "cell_type": "markdown",
   "id": "91c432d3",
   "metadata": {},
   "source": [
    "### List is mutable:\n",
    "\n",
    "- In Python, a list is considered mutable if its elements can be modified after it is created. \n",
    "- This means that once a list is created, its elements can be added, removed, or changed in any way.\n",
    "- Uain the methods like append(),remove()....\n"
   ]
  },
  {
   "cell_type": "code",
   "execution_count": null,
   "id": "8625b437",
   "metadata": {},
   "outputs": [],
   "source": [
    "# mutable\n",
    "l1=[1,2,3,4,5]"
   ]
  },
  {
   "cell_type": "code",
   "execution_count": 18,
   "id": "053fd444",
   "metadata": {},
   "outputs": [
    {
     "data": {
      "text/plain": [
       "'STRING'"
      ]
     },
     "execution_count": 18,
     "metadata": {},
     "output_type": "execute_result"
    }
   ],
   "source": [
    "x=\"STRING\"\n",
    "x.lower()\n",
    "x"
   ]
  },
  {
   "cell_type": "code",
   "execution_count": 3,
   "id": "7722ff96",
   "metadata": {},
   "outputs": [
    {
     "ename": "TypeError",
     "evalue": "'str' object does not support item assignment",
     "output_type": "error",
     "traceback": [
      "\u001b[1;31m---------------------------------------------------------------------------\u001b[0m",
      "\u001b[1;31mTypeError\u001b[0m                                 Traceback (most recent call last)",
      "\u001b[1;32m~\\AppData\\Local\\Temp\\ipykernel_17180\\3869311827.py\u001b[0m in \u001b[0;36m<module>\u001b[1;34m\u001b[0m\n\u001b[0;32m      1\u001b[0m \u001b[0mfruit\u001b[0m\u001b[1;33m=\u001b[0m\u001b[1;34m'Banana'\u001b[0m\u001b[1;33m\u001b[0m\u001b[1;33m\u001b[0m\u001b[0m\n\u001b[1;32m----> 2\u001b[1;33m \u001b[0mfruit\u001b[0m\u001b[1;33m[\u001b[0m\u001b[1;36m0\u001b[0m\u001b[1;33m]\u001b[0m\u001b[1;33m=\u001b[0m\u001b[1;34m'b'\u001b[0m\u001b[1;33m\u001b[0m\u001b[1;33m\u001b[0m\u001b[0m\n\u001b[0m\u001b[0;32m      3\u001b[0m \u001b[0mfruit\u001b[0m\u001b[1;33m\u001b[0m\u001b[1;33m\u001b[0m\u001b[0m\n",
      "\u001b[1;31mTypeError\u001b[0m: 'str' object does not support item assignment"
     ]
    }
   ],
   "source": [
    "fruit='Banana'\n",
    "fruit[0]='b'\n",
    "fruit\n"
   ]
  },
  {
   "cell_type": "code",
   "execution_count": 24,
   "id": "733aed45",
   "metadata": {},
   "outputs": [
    {
     "name": "stdout",
     "output_type": "stream",
     "text": [
      "9\n"
     ]
    }
   ],
   "source": [
    "greet='Hello Bob'\n",
    "print(len(greet))"
   ]
  },
  {
   "cell_type": "code",
   "execution_count": 26,
   "id": "cf3ceefb",
   "metadata": {},
   "outputs": [
    {
     "name": "stdout",
     "output_type": "stream",
     "text": [
      "4\n"
     ]
    }
   ],
   "source": [
    "x=[1,2,'joe',99]\n",
    "print(len(x))\n"
   ]
  },
  {
   "cell_type": "code",
   "execution_count": 30,
   "id": "ea85d275",
   "metadata": {},
   "outputs": [
    {
     "name": "stdout",
     "output_type": "stream",
     "text": [
      "Happy new Year: Ibteda\n",
      "Happy new Year: Umiya\n",
      "Happy new Year: nitya\n"
     ]
    }
   ],
   "source": [
    "friends =['Ibteda','Umiya','nitya']\n",
    "for i in friends:\n",
    "    print(\"Happy new Year:\",i)"
   ]
  },
  {
   "cell_type": "code",
   "execution_count": 41,
   "id": "b0b87e89",
   "metadata": {},
   "outputs": [
    {
     "name": "stdout",
     "output_type": "stream",
     "text": [
      "Happy new year Ibteda\n",
      "Happy new year Umiya\n",
      "Happy new year nitya\n"
     ]
    }
   ],
   "source": [
    "for i in range(len(friends)):\n",
    "    \n",
    "    print(\"Happy new year\",friends[i])"
   ]
  },
  {
   "cell_type": "code",
   "execution_count": 33,
   "id": "543e432c",
   "metadata": {},
   "outputs": [
    {
     "data": {
      "text/plain": [
       "[1, 2, 3, 4, 5, 6]"
      ]
     },
     "execution_count": 33,
     "metadata": {},
     "output_type": "execute_result"
    }
   ],
   "source": [
    "#Merging\n",
    "l1=[1,2,3]\n",
    "l2=[4,5,6]\n",
    "l1 + l2"
   ]
  },
  {
   "cell_type": "code",
   "execution_count": 34,
   "id": "f6f32316",
   "metadata": {},
   "outputs": [
    {
     "data": {
      "text/plain": [
       "[1, 2, 3, 1, 2, 3]"
      ]
     },
     "execution_count": 34,
     "metadata": {},
     "output_type": "execute_result"
    }
   ],
   "source": [
    "l1 * 2"
   ]
  },
  {
   "cell_type": "code",
   "execution_count": 35,
   "id": "c18d2000",
   "metadata": {},
   "outputs": [
    {
     "data": {
      "text/plain": [
       "[1, 2, 3, 4, 5, 6]"
      ]
     },
     "execution_count": 35,
     "metadata": {},
     "output_type": "execute_result"
    }
   ],
   "source": [
    "[1,2,3,] + [4,5,6]"
   ]
  },
  {
   "cell_type": "code",
   "execution_count": 36,
   "id": "6518407c",
   "metadata": {},
   "outputs": [
    {
     "data": {
      "text/plain": [
       "[4, 5, 6, 4, 5, 6, 4, 5, 6]"
      ]
     },
     "execution_count": 36,
     "metadata": {},
     "output_type": "execute_result"
    }
   ],
   "source": [
    "[4,5,6] * 3\n"
   ]
  },
  {
   "cell_type": "code",
   "execution_count": 42,
   "id": "2e087a9e",
   "metadata": {},
   "outputs": [
    {
     "name": "stdout",
     "output_type": "stream",
     "text": [
      "[1, 2, 3, 4, 5, 6]\n",
      "[1, 2, 3]\n"
     ]
    }
   ],
   "source": [
    "a=[1,2,3]\n",
    "b=[4,5,6]\n",
    "c=a+b\n",
    "print(c)\n",
    "print(a)"
   ]
  },
  {
   "cell_type": "code",
   "execution_count": 46,
   "id": "b119b541",
   "metadata": {},
   "outputs": [
    {
     "data": {
      "text/plain": [
       "[9, 3, 15]"
      ]
     },
     "execution_count": 46,
     "metadata": {},
     "output_type": "execute_result"
    }
   ],
   "source": [
    "t=[9,41,12,3,74,15]\n",
    "t[0:6:3] + t[5:]\n"
   ]
  },
  {
   "cell_type": "code",
   "execution_count": 47,
   "id": "d097369b",
   "metadata": {},
   "outputs": [
    {
     "data": {
      "text/plain": [
       "list"
      ]
     },
     "execution_count": 47,
     "metadata": {},
     "output_type": "execute_result"
    }
   ],
   "source": [
    "# List methods\n",
    "x =list()\n",
    "type(x)"
   ]
  },
  {
   "cell_type": "code",
   "execution_count": 48,
   "id": "4bc3d6b2",
   "metadata": {},
   "outputs": [
    {
     "data": {
      "text/plain": [
       "['__add__',\n",
       " '__class__',\n",
       " '__class_getitem__',\n",
       " '__contains__',\n",
       " '__delattr__',\n",
       " '__delitem__',\n",
       " '__dir__',\n",
       " '__doc__',\n",
       " '__eq__',\n",
       " '__format__',\n",
       " '__ge__',\n",
       " '__getattribute__',\n",
       " '__getitem__',\n",
       " '__gt__',\n",
       " '__hash__',\n",
       " '__iadd__',\n",
       " '__imul__',\n",
       " '__init__',\n",
       " '__init_subclass__',\n",
       " '__iter__',\n",
       " '__le__',\n",
       " '__len__',\n",
       " '__lt__',\n",
       " '__mul__',\n",
       " '__ne__',\n",
       " '__new__',\n",
       " '__reduce__',\n",
       " '__reduce_ex__',\n",
       " '__repr__',\n",
       " '__reversed__',\n",
       " '__rmul__',\n",
       " '__setattr__',\n",
       " '__setitem__',\n",
       " '__sizeof__',\n",
       " '__str__',\n",
       " '__subclasshook__',\n",
       " 'append',\n",
       " 'clear',\n",
       " 'copy',\n",
       " 'count',\n",
       " 'extend',\n",
       " 'index',\n",
       " 'insert',\n",
       " 'pop',\n",
       " 'remove',\n",
       " 'reverse',\n",
       " 'sort']"
      ]
     },
     "execution_count": 48,
     "metadata": {},
     "output_type": "execute_result"
    }
   ],
   "source": [
    "dir(x)"
   ]
  },
  {
   "cell_type": "code",
   "execution_count": 50,
   "id": "77ea6c07",
   "metadata": {},
   "outputs": [
    {
     "data": {
      "text/plain": [
       "[]"
      ]
     },
     "execution_count": 50,
     "metadata": {},
     "output_type": "execute_result"
    }
   ],
   "source": [
    "list()"
   ]
  },
  {
   "cell_type": "code",
   "execution_count": 51,
   "id": "6c94cf45",
   "metadata": {},
   "outputs": [
    {
     "data": {
      "text/plain": [
       "[1, 1]"
      ]
     },
     "execution_count": 51,
     "metadata": {},
     "output_type": "execute_result"
    }
   ],
   "source": [
    "list((1,1))"
   ]
  },
  {
   "cell_type": "code",
   "execution_count": 52,
   "id": "cf38bf7f",
   "metadata": {},
   "outputs": [
    {
     "data": {
      "text/plain": [
       "['S', 't', 'r', 'i', 'n', 'g']"
      ]
     },
     "execution_count": 52,
     "metadata": {},
     "output_type": "execute_result"
    }
   ],
   "source": [
    "# Convert the phrace to list\n",
    "s='String'\n",
    "list(s)"
   ]
  },
  {
   "cell_type": "code",
   "execution_count": 2,
   "id": "6ca3e590",
   "metadata": {},
   "outputs": [
    {
     "data": {
      "text/plain": [
       "[1, 2, 3, 4, 5]"
      ]
     },
     "execution_count": 2,
     "metadata": {},
     "output_type": "execute_result"
    }
   ],
   "source": [
    "s=(1,2,3,4,5)\n",
    "list(s)"
   ]
  },
  {
   "cell_type": "code",
   "execution_count": 3,
   "id": "10e611a4",
   "metadata": {},
   "outputs": [
    {
     "data": {
      "text/plain": [
       "list"
      ]
     },
     "execution_count": 3,
     "metadata": {},
     "output_type": "execute_result"
    }
   ],
   "source": [
    "type([s])"
   ]
  },
  {
   "cell_type": "code",
   "execution_count": 4,
   "id": "ecf6837b",
   "metadata": {},
   "outputs": [
    {
     "data": {
      "text/plain": [
       "1"
      ]
     },
     "execution_count": 4,
     "metadata": {},
     "output_type": "execute_result"
    }
   ],
   "source": [
    "len([s])\n"
   ]
  },
  {
   "cell_type": "code",
   "execution_count": 79,
   "id": "2c05854e",
   "metadata": {},
   "outputs": [
    {
     "data": {
      "text/plain": [
       "([0, 2, 4, 6, 8, 10, 12, 14, 16, 18, 20], [1, 3, 5, 7, 9, 11, 13, 15, 17, 19])"
      ]
     },
     "execution_count": 79,
     "metadata": {},
     "output_type": "execute_result"
    }
   ],
   "source": [
    "even = []\n",
    "odd = []\n",
    "for i in range(0,21):\n",
    "    if i % 2 == 0:\n",
    "        even.append(i)\n",
    "    else:\n",
    "        odd.append(i)\n",
    "\n",
    "even,odd"
   ]
  },
  {
   "cell_type": "code",
   "execution_count": 65,
   "id": "e254ec3b",
   "metadata": {},
   "outputs": [
    {
     "data": {
      "text/plain": [
       "[0, 2, 4, 6, 8, 10, 12, 14, 16, 18, 20]"
      ]
     },
     "execution_count": 65,
     "metadata": {},
     "output_type": "execute_result"
    }
   ],
   "source": [
    "even\n"
   ]
  },
  {
   "cell_type": "code",
   "execution_count": 73,
   "id": "a62ac120",
   "metadata": {},
   "outputs": [
    {
     "data": {
      "text/plain": [
       "[1, 3, 5, 7, 9, 11, 13, 15]"
      ]
     },
     "execution_count": 73,
     "metadata": {},
     "output_type": "execute_result"
    }
   ],
   "source": [
    "odd"
   ]
  },
  {
   "cell_type": "code",
   "execution_count": 76,
   "id": "714917db",
   "metadata": {},
   "outputs": [
    {
     "data": {
      "text/plain": [
       "[1, 3, 5, 7, 9]"
      ]
     },
     "execution_count": 76,
     "metadata": {},
     "output_type": "execute_result"
    }
   ],
   "source": [
    "odd.pop()\n",
    "odd"
   ]
  },
  {
   "cell_type": "markdown",
   "id": "f7175912",
   "metadata": {},
   "source": [
    "### List Comprehention:\n",
    "- A Python list comprehension consists of brackets containing the expression, which is executed for each element along with the for loop to iterate over each element in the Python list.\n",
    "\n",
    "- Python List comprehension provides a much more short syntax for creating a new list based on the values of an existing list.\n",
    ">Advantages of List Comprehension\n",
    "> - More time-efficient and space-efficient than loops.\n",
    "> - Require fewer lines of code.\n",
    "> - Transforms iterative statement into a formula.\n",
    "#### Basic syntax:\n",
    "> [expression for item in list if condition]"
   ]
  },
  {
   "cell_type": "code",
   "execution_count": 23,
   "id": "9091ed09",
   "metadata": {},
   "outputs": [
    {
     "name": "stdout",
     "output_type": "stream",
     "text": [
      "[4, 16]\n"
     ]
    }
   ],
   "source": [
    "# Example for List comprehension\n",
    "\n",
    "numbers = [1, 2, 3, 4, 5]\n",
    "squared_numbers = [x**2 for x in numbers if x % 2 == 0]\n",
    "print(squared_numbers)"
   ]
  },
  {
   "cell_type": "code",
   "execution_count": 24,
   "id": "b59984b9",
   "metadata": {},
   "outputs": [
    {
     "name": "stdout",
     "output_type": "stream",
     "text": [
      "[4, 16]\n"
     ]
    }
   ],
   "source": [
    "# Same code with out list comprehension\n",
    "\n",
    "numbers = [1,2,3,4,5]\n",
    "y =[ ]\n",
    "for i in numbers:\n",
    "    if i % 2 == 0:\n",
    "        y.append(i**2)\n",
    "print(y)"
   ]
  },
  {
   "cell_type": "code",
   "execution_count": 25,
   "id": "888e5bbd",
   "metadata": {},
   "outputs": [
    {
     "name": "stdout",
     "output_type": "stream",
     "text": [
      "[24, 35, 70, 155]\n"
     ]
    }
   ],
   "source": [
    "# By using list comprehension, please write a program to print the list after removing the 0th,4th,5th\n",
    "# numbers in [12,24,35,70,88,120,155].\n",
    "\n",
    "l =  [12,24,35,70,88,120,155] \n",
    "new_list=[num for i,num in enumerate(l) if i not in [0,4,5]]\n",
    "print(new_list)"
   ]
  },
  {
   "cell_type": "code",
   "execution_count": 62,
   "id": "b5ec3749",
   "metadata": {},
   "outputs": [
    {
     "data": {
      "text/plain": [
       "[0, 1, 2, 3, 4, 5, 6, 7, 8, 9, 10]"
      ]
     },
     "execution_count": 62,
     "metadata": {},
     "output_type": "execute_result"
    }
   ],
   "source": [
    "# List comprehention\n",
    "even=[i for i in range(11)]\n",
    "even"
   ]
  },
  {
   "cell_type": "code",
   "execution_count": 78,
   "id": "64acc791",
   "metadata": {},
   "outputs": [
    {
     "data": {
      "text/plain": [
       "[0, 2, 4, 6, 8, 10]"
      ]
     },
     "execution_count": 78,
     "metadata": {},
     "output_type": "execute_result"
    }
   ],
   "source": [
    "even=[i for i in range(10) if i%2==0]\n",
    "even.append(10)\n",
    "even"
   ]
  },
  {
   "cell_type": "code",
   "execution_count": 70,
   "id": "f165ea60",
   "metadata": {},
   "outputs": [
    {
     "data": {
      "text/plain": [
       "['even', 'odd', 'even', 'odd', 'even', 'odd', 'even', 'odd', 'even', 'odd']"
      ]
     },
     "execution_count": 70,
     "metadata": {},
     "output_type": "execute_result"
    }
   ],
   "source": [
    "odd_even=['even' if i%2==0 else 'odd' for i in range(10)]\n",
    "odd_even"
   ]
  },
  {
   "cell_type": "code",
   "execution_count": 84,
   "id": "6aeab237",
   "metadata": {},
   "outputs": [
    {
     "data": {
      "text/plain": [
       "[0, 1, 2, 3, 4, 5, 6, 7, 8, 9]"
      ]
     },
     "execution_count": 84,
     "metadata": {},
     "output_type": "execute_result"
    }
   ],
   "source": [
    "l1=[i for i in range(10)]\n",
    "l1"
   ]
  },
  {
   "cell_type": "markdown",
   "id": "5a85e701",
   "metadata": {},
   "source": [
    "### Append() \n",
    "\n",
    "- In Python, the append() method is used to add an item to the end of a list.\n",
    "> Syntax: list.append(item)\n",
    "> - Here list is the list in which the item needs to be added and item is the element which needs to be added to the list.\n",
    "- It is important to note that the append() method modifies the original list adding a single value at a time.\n",
    "- It only adds the item to the end of the list.\n",
    "### Extned()\n",
    "- if you need to add multiple items or multiple lists you should use extend() method or concatenation operator +.\n",
    "- Both extend() and + do the same thing, but extend() can be faster if you are adding many items to a list because it uses in-place addition, whereas the + operator creates a new list.\n"
   ]
  },
  {
   "cell_type": "code",
   "execution_count": 85,
   "id": "0afb64c8",
   "metadata": {},
   "outputs": [],
   "source": [
    "l1.append(1)"
   ]
  },
  {
   "cell_type": "code",
   "execution_count": 10,
   "id": "c139b391",
   "metadata": {},
   "outputs": [
    {
     "data": {
      "text/plain": [
       "['sankar', 'sunitha']"
      ]
     },
     "execution_count": 10,
     "metadata": {},
     "output_type": "execute_result"
    }
   ],
   "source": [
    "l=['sankar','parvathi']\n",
    "l[1] = 'sunitha'\n",
    "l\n"
   ]
  },
  {
   "cell_type": "code",
   "execution_count": 5,
   "id": "ff0da45e",
   "metadata": {},
   "outputs": [
    {
     "data": {
      "text/plain": [
       "['sankar', 'parvathi', 'sunitha']"
      ]
     },
     "execution_count": 5,
     "metadata": {},
     "output_type": "execute_result"
    }
   ],
   "source": [
    "l=['sankar','parvathi']\n",
    "l.append('sunitha')\n",
    "l\n"
   ]
  },
  {
   "cell_type": "code",
   "execution_count": 9,
   "id": "7f791c4c",
   "metadata": {},
   "outputs": [
    {
     "data": {
      "text/plain": [
       "['Hello', 'World']"
      ]
     },
     "execution_count": 9,
     "metadata": {},
     "output_type": "execute_result"
    }
   ],
   "source": [
    "l1=['Hello']\n",
    "l2=['World']\n",
    "l1.extend(l2)\n",
    "l1"
   ]
  },
  {
   "cell_type": "code",
   "execution_count": 7,
   "id": "e6f8b806",
   "metadata": {},
   "outputs": [
    {
     "data": {
      "text/plain": [
       "[1, 2, 3, 4, 5, 6, 7, 8]"
      ]
     },
     "execution_count": 7,
     "metadata": {},
     "output_type": "execute_result"
    }
   ],
   "source": [
    "l=[1,2,3,4,5]\n",
    "l.extend([6,7,8])\n",
    "l"
   ]
  },
  {
   "cell_type": "code",
   "execution_count": 92,
   "id": "26124d65",
   "metadata": {},
   "outputs": [
    {
     "data": {
      "text/plain": [
       "[1, 2, 3, 4, 5, 'new value']"
      ]
     },
     "execution_count": 92,
     "metadata": {},
     "output_type": "execute_result"
    }
   ],
   "source": [
    "# create a new list and change index position 5s\n",
    "\n",
    "l=[1,2,3,4,5,6]\n",
    "\n",
    "l[5]=\"new value\"\n",
    "l\n"
   ]
  },
  {
   "cell_type": "code",
   "execution_count": 93,
   "id": "2e61b318",
   "metadata": {},
   "outputs": [
    {
     "data": {
      "text/plain": [
       "3"
      ]
     },
     "execution_count": 93,
     "metadata": {},
     "output_type": "execute_result"
    }
   ],
   "source": [
    "l.pop(2)"
   ]
  },
  {
   "cell_type": "code",
   "execution_count": 94,
   "id": "7ee21d38",
   "metadata": {},
   "outputs": [
    {
     "data": {
      "text/plain": [
       "[1, 2, 3, 4]"
      ]
     },
     "execution_count": 94,
     "metadata": {},
     "output_type": "execute_result"
    }
   ],
   "source": [
    "l=[1,2,3,4,5]\n",
    "l.remove(5)\n",
    "l"
   ]
  },
  {
   "cell_type": "code",
   "execution_count": 95,
   "id": "bb6236de",
   "metadata": {},
   "outputs": [
    {
     "data": {
      "text/plain": [
       "['a', 'b']"
      ]
     },
     "execution_count": 95,
     "metadata": {},
     "output_type": "execute_result"
    }
   ],
   "source": [
    "l=['a','b','c']\n",
    "l.remove('c')\n",
    "l\n",
    "   "
   ]
  },
  {
   "cell_type": "code",
   "execution_count": 96,
   "id": "708a063f",
   "metadata": {},
   "outputs": [],
   "source": [
    "var=1"
   ]
  },
  {
   "cell_type": "code",
   "execution_count": 99,
   "id": "1f53040e",
   "metadata": {},
   "outputs": [
    {
     "data": {
      "text/plain": [
       "[0, 1, 2, 3, 4, 5, 6, 7, 8, 9]"
      ]
     },
     "execution_count": 99,
     "metadata": {},
     "output_type": "execute_result"
    }
   ],
   "source": [
    "var=[i for i in range(10)]\n",
    "var"
   ]
  },
  {
   "cell_type": "code",
   "execution_count": 101,
   "id": "f0b48c76",
   "metadata": {},
   "outputs": [
    {
     "data": {
      "text/plain": [
       "[0, 1, 4, 5, 6, 7, 8, 9]"
      ]
     },
     "execution_count": 101,
     "metadata": {},
     "output_type": "execute_result"
    }
   ],
   "source": [
    "del(var[2])\n",
    "var"
   ]
  },
  {
   "cell_type": "code",
   "execution_count": 8,
   "id": "15dea689",
   "metadata": {},
   "outputs": [
    {
     "name": "stdout",
     "output_type": "stream",
     "text": [
      "15\n"
     ]
    }
   ],
   "source": [
    "#Finding sum of digits in a list\n",
    "l=[1,2,3,4,5]\n",
    "print(sum(l))"
   ]
  },
  {
   "cell_type": "code",
   "execution_count": 9,
   "id": "eccfc281",
   "metadata": {},
   "outputs": [
    {
     "name": "stdout",
     "output_type": "stream",
     "text": [
      "the largest namer is  sunitha\n"
     ]
    }
   ],
   "source": [
    "# To take list of stringd and return string with largest length:#\n",
    "l=['sunitha','manju','hema']\n",
    "if len(l[0]) > len(l[1]) and len(l[0]) > len(l[2]):\n",
    "    print(\"the largest namer is \",l[0])\n",
    "elif len(l[1]) > len(l[0]) and len(l[1]) > len(l[2]):\n",
    "    print(\"The largest name is \",l[1])\n",
    "elif len(l[2]) > len(l[0]) and len(l[2]) > len(l[1]):\n",
    "    print(\"The largest name is \",l[2])"
   ]
  },
  {
   "cell_type": "markdown",
   "id": "7a435fb1",
   "metadata": {},
   "source": [
    "### Most commonly used methods in list:\n",
    "\n",
    "- append(element): Adds an element to the end of the list.\n",
    "- insert(index, element): Inserts an element at a specific position in the list.\n",
    "- remove(element): Removes the first occurrence of an element from the list.\n",
    "- pop(index): Removes the element at a specific position and returns it.\n",
    "- clear(): Removes all elements from the list.\n",
    "- index(element): Returns the index of the first occurrence of an element.\n",
    "- count(element): Returns the number of times an element appears in the list.\n",
    "- sort(): Sorts the elements in the list in ascending order.\n",
    "- reverse(): Reverses the order of the elements in the list.\n",
    "- copy(): Returns a shallow copy of the list."
   ]
  },
  {
   "cell_type": "code",
   "execution_count": 1,
   "id": "29781115",
   "metadata": {},
   "outputs": [
    {
     "data": {
      "text/plain": [
       "[1, 2, 3, 4]"
      ]
     },
     "execution_count": 1,
     "metadata": {},
     "output_type": "execute_result"
    }
   ],
   "source": [
    "# copy()\n",
    "l=[1,2,3,4]\n",
    "l1=l.copy()\n",
    "l1"
   ]
  },
  {
   "cell_type": "code",
   "execution_count": 3,
   "id": "47dba955",
   "metadata": {},
   "outputs": [
    {
     "data": {
      "text/plain": [
       "0"
      ]
     },
     "execution_count": 3,
     "metadata": {},
     "output_type": "execute_result"
    }
   ],
   "source": [
    "[1,2,3,1].index(1)"
   ]
  },
  {
   "cell_type": "code",
   "execution_count": 4,
   "id": "73d7884c",
   "metadata": {},
   "outputs": [
    {
     "data": {
      "text/plain": [
       "[0, 1, 1, 1, 2, 3, 4, 4, 6]"
      ]
     },
     "execution_count": 4,
     "metadata": {},
     "output_type": "execute_result"
    }
   ],
   "source": [
    "# sort()\n",
    "l=[1,1,2,4,0,6,4,3,1]\n",
    "l.sort()\n",
    "l"
   ]
  },
  {
   "cell_type": "code",
   "execution_count": 6,
   "id": "ac97f87c",
   "metadata": {},
   "outputs": [
    {
     "data": {
      "text/plain": [
       "[0, 1, 1, 'hello', 1, 2, 3, 4, 4, 6]"
      ]
     },
     "execution_count": 6,
     "metadata": {},
     "output_type": "execute_result"
    }
   ],
   "source": [
    "l.insert(3,\"hello\")\n",
    "l"
   ]
  },
  {
   "cell_type": "code",
   "execution_count": null,
   "id": "c8ec58a6",
   "metadata": {},
   "outputs": [],
   "source": []
  }
 ],
 "metadata": {
  "kernelspec": {
   "display_name": "Python 3 (ipykernel)",
   "language": "python",
   "name": "python3"
  },
  "language_info": {
   "codemirror_mode": {
    "name": "ipython",
    "version": 3
   },
   "file_extension": ".py",
   "mimetype": "text/x-python",
   "name": "python",
   "nbconvert_exporter": "python",
   "pygments_lexer": "ipython3",
   "version": "3.9.13"
  }
 },
 "nbformat": 4,
 "nbformat_minor": 5
}
