{
 "cells": [
  {
   "cell_type": "markdown",
   "metadata": {},
   "source": [
    "# IF , ELSE.... FOR LOOP"
   ]
  },
  {
   "cell_type": "markdown",
   "metadata": {},
   "source": [
    "> print this is hour in current minute is odd"
   ]
  },
  {
   "cell_type": "markdown",
   "metadata": {},
   "source": [
    "### Answer"
   ]
  },
  {
   "cell_type": "code",
   "execution_count": 11,
   "metadata": {},
   "outputs": [
    {
     "name": "stdout",
     "output_type": "stream",
     "text": [
      "Enter current time in the format hh:mm :8:20\n",
      "Current minutes are : 500\n",
      "Current minutes are Even minutes\n"
     ]
    }
   ],
   "source": [
    "# print this is hour in current minute is odd\n",
    "time = input(\"Enter current time in the format hh:mm :\")\n",
    "hours_minutes = time.split(\":\")\n",
    "hours = int(hours_minutes[0])\n",
    "minutes = int(hours_minutes[1])\n",
    "current_minutes = (hours * 60) + minutes\n",
    "print(\"Current minutes are :\",current_minutes)\n",
    "if (minutes % 2) != 0:\n",
    "    print(\"Current minutes are Odd minutes\")\n",
    "else:\n",
    "    print(\"Current minutes are Even minutes\")\n",
    "    "
   ]
  },
  {
   "cell_type": "markdown",
   "metadata": {},
   "source": [
    "> if today is satarday then print 'Party !!!' or if sunday print take rest other wise print work , work, work"
   ]
  },
  {
   "cell_type": "markdown",
   "metadata": {},
   "source": [
    "### Answer"
   ]
  },
  {
   "cell_type": "code",
   "execution_count": 15,
   "metadata": {},
   "outputs": [
    {
     "name": "stdout",
     "output_type": "stream",
     "text": [
      "Enter today :monday\n",
      "work, work, work......\n"
     ]
    }
   ],
   "source": [
    "# if today is satarday then print 'Party !!!' or if sunday print take rest other wise print work , work, work\n",
    "\n",
    "day = input(\"Enter today :\")\n",
    "if day == \"saturday\":\n",
    "    print(\"Party !!!\")\n",
    "elif day == \"sunday\":\n",
    "    print(\"Take Rest\")\n",
    "else:\n",
    "    print(\"work, work, work......\")\n"
   ]
  },
  {
   "cell_type": "markdown",
   "metadata": {},
   "source": [
    "> Write a program which will find all such numbers which are divisible by 7 but are not a multiple of 5, between 2000 and 3200 (both included). The numbers obtained should be printed in a comma-separated sequence on a single line."
   ]
  },
  {
   "cell_type": "markdown",
   "metadata": {},
   "source": [
    "### Answer"
   ]
  },
  {
   "cell_type": "code",
   "execution_count": 16,
   "metadata": {},
   "outputs": [
    {
     "name": "stdout",
     "output_type": "stream",
     "text": [
      "2002,2009,2016,2023,2037,2044,2051,2058,2072,2079,2086,2093,2107,2114,2121,2128,2142,2149,2156,2163,2177,2184,2191,2198,2212,2219,2226,2233,2247,2254,2261,2268,2282,2289,2296,2303,2317,2324,2331,2338,2352,2359,2366,2373,2387,2394,2401,2408,2422,2429,2436,2443,2457,2464,2471,2478,2492,2499,2506,2513,2527,2534,2541,2548,2562,2569,2576,2583,2597,2604,2611,2618,2632,2639,2646,2653,2667,2674,2681,2688,2702,2709,2716,2723,2737,2744,2751,2758,2772,2779,2786,2793,2807,2814,2821,2828,2842,2849,2856,2863,2877,2884,2891,2898,2912,2919,2926,2933,2947,2954,2961,2968,2982,2989,2996,3003,3017,3024,3031,3038,3052,3059,3066,3073,3087,3094,3101,3108,3122,3129,3136,3143,3157,3164,3171,3178,3192,3199,"
     ]
    }
   ],
   "source": [
    "#  Write a program which will find all such numbers which are divisible by 7 but are not a multiple of 5, between 2000 and 3200\n",
    "# (both included). The numbers obtained should be printed in a comma-separated sequence on a single line.\n",
    "\n",
    "for i in range(2000,3200):\n",
    "    if (i % 7 == 0) and (i % 5 != 0):\n",
    "        print(i,end=\",\")\n"
   ]
  },
  {
   "cell_type": "markdown",
   "metadata": {},
   "source": [
    "> Write a program which can compute the factorial of a given numbers.\n",
    "The results should be printed in a comma-separated sequence on a single line.\n",
    "Suppose the following input is supplied to the program:\n",
    "8\n",
    "Then, the output should be:\n",
    "40320"
   ]
  },
  {
   "cell_type": "code",
   "execution_count": 5,
   "metadata": {},
   "outputs": [
    {
     "name": "stdout",
     "output_type": "stream",
     "text": [
      "Enter a number :8\n",
      "8! = 40320\n"
     ]
    }
   ],
   "source": [
    "# Write a program which can compute the factorial of a given numbers.\n",
    "# The results should be printed in a comma-separated sequence on a single line.\n",
    "# Suppose the following input is supplied to the program: 8\n",
    "# Then, the output should be:  40320\n",
    "num = int(input(\"Enter a number :\"))\n",
    "factorial = 1\n",
    "for i in range(1,num+1):\n",
    "    factorial = factorial * i \n",
    "print(f'{num}! = {factorial}')    \n",
    "    "
   ]
  },
  {
   "cell_type": "markdown",
   "metadata": {},
   "source": [
    "> With a given integral number n, write a program to generate a dictionary that contains (i, i*i) such that is an integral number between 1 and n (both included). and then the program should print the dictionary.\n",
    "Suppose the following input is supplied to the program:\n",
    "8\n",
    "Then, the output should be:\n",
    "{1: 1, 2: 4, 3: 9, 4: 16, 5: 25, 6: 36, 7: 49, 8: 64}\n",
    "\n",
    "*Hint* : use dict()"
   ]
  },
  {
   "cell_type": "markdown",
   "metadata": {},
   "source": [
    "### Answer"
   ]
  },
  {
   "cell_type": "code",
   "execution_count": 41,
   "metadata": {},
   "outputs": [
    {
     "name": "stdout",
     "output_type": "stream",
     "text": [
      "Enter integral number :6\n",
      "{1: 1, 2: 4, 3: 9, 4: 16, 5: 25, 6: 36}\n"
     ]
    }
   ],
   "source": [
    "#With a given integral number n, write a program to generate a dictionary that contains (i, i*i) such that is an integral number\n",
    "#between 1 and n (both included). and then the program should print the dictionary. Suppose the following input is \n",
    "#supplied to the program: 8 Then, the output should be: {1: 1, 2: 4, 3: 9, 4: 16, 5: 25, 6: 36, 7: 49, 8: 64}\n",
    "\n",
    "num=int(input(\"Enter integral number :\"))\n",
    "d = {}\n",
    "for i in range(1, num+1):\n",
    "    d[i] = i*i\n",
    "print(d)    \n",
    "    "
   ]
  },
  {
   "cell_type": "markdown",
   "metadata": {},
   "source": [
    "> create user defined fuction for \n",
    "- addition \"add\"\n",
    "- subtraction \"sub\"\n",
    "- multiplication \"mul\"\n",
    "- division \"div\"\n",
    "- power \"pow\""
   ]
  },
  {
   "cell_type": "markdown",
   "metadata": {},
   "source": [
    "### Answer"
   ]
  },
  {
   "cell_type": "code",
   "execution_count": 1,
   "metadata": {},
   "outputs": [
    {
     "name": "stdout",
     "output_type": "stream",
     "text": [
      "Please Enter the value : 3\n",
      "Please Enter the value : 2\n",
      "please enter key: pow\n",
      "power of 3 and 2 is : 9\n"
     ]
    }
   ],
   "source": [
    "# create user defined fuction for addition \"add\",subtraction \"sub\",multiplication \"mul\",division \"div\",power \"pow\"\n",
    "num1=int(input(\"Please Enter the value : \"))\n",
    "num2=int(input(\"Please Enter the value : \"))\n",
    "k=input(\"please enter key: \")\n",
    "def add():\n",
    "    result = num1 + num2\n",
    "    print(f'Addition of {num1} and {num2} is : {result}')\n",
    "def sub():\n",
    "    if num1 > num2 and num1 != 0:\n",
    "        result = num1 - num2\n",
    "        print(f'subtraction of {num1} and {num2} is : {result}')\n",
    "    elif num2 > num1 and num2 != 0:\n",
    "        result = num2 - num1\n",
    "        print(f'subtraction of {num2} and {num1} is : {result}')\n",
    "def mul():\n",
    "    result = num1 * num2\n",
    "    print(f'Product of {num1} and {num2} is : {result}')\n",
    "def div():\n",
    "    if num1 > num2 and num2 !=0:\n",
    "        result = num1 / num2\n",
    "        print(f'Result of {num1} / {num2} is : {result}')\n",
    "    elif num2 > num1 and num1 != 0:\n",
    "        result = num2 / num1\n",
    "        print(f'Result of {num1} / {num2} is : {result}')\n",
    "def pow():\n",
    "    if num1 != 0 and num2 != 0:\n",
    "        result = num1 ** num2\n",
    "        print(f'power of {num1} and {num2} is : {result}')\n",
    "if k == 'add':\n",
    "    add()\n",
    "elif k == 'sub':\n",
    "    sub()\n",
    "elif k == 'mul':\n",
    "    mul()\n",
    "elif k == 'div':\n",
    "    div()\n",
    "elif k == 'pow':\n",
    "    pow()"
   ]
  },
  {
   "cell_type": "markdown",
   "metadata": {},
   "source": [
    "### Write a Python program that accepts a string and calculate the number of digits and letters.\n",
    "- Input\n",
    "\n",
    "    - Hello321Bye360\n",
    "- Output\n",
    "\n",
    "    - Digit - 6\n",
    "\n",
    "    - Letter - 8"
   ]
  },
  {
   "cell_type": "code",
   "execution_count": 37,
   "metadata": {},
   "outputs": [
    {
     "name": "stdout",
     "output_type": "stream",
     "text": [
      "ENter the text: 79879jjhkljjoij\n",
      "Letters: 10\n",
      "Digits: 5\n"
     ]
    }
   ],
   "source": [
    "# Write a Python program that accepts a string and calculate the number of digits and letters.\n",
    "word = input(\"ENter the text: \")\n",
    "digit=0\n",
    "letter=0\n",
    "for i in word:\n",
    "   if i.isdigit():\n",
    "      digit+=1\n",
    "   elif i.isalpha():\n",
    "      letter+=1\n",
    "   else:\n",
    "    pass\n",
    "print(\"Letters:\", letter)\n",
    "print(\"Digits:\", digit)\n",
    "\n",
    "        \n"
   ]
  },
  {
   "cell_type": "markdown",
   "metadata": {},
   "source": [
    "### With a given tuple (1,2,3,4,5,6,7,8,9,10), write a program to print the first half values in one line and the last half values in one line."
   ]
  },
  {
   "cell_type": "markdown",
   "metadata": {},
   "source": [
    "### Answer"
   ]
  },
  {
   "cell_type": "code",
   "execution_count": 3,
   "metadata": {},
   "outputs": [
    {
     "name": "stdout",
     "output_type": "stream",
     "text": [
      "(1, 2, 3, 4, 5) (6, 7, 8, 9, 10)\n"
     ]
    }
   ],
   "source": [
    "# METHOD - 1\n",
    "given_tuple = (1,2,3,4,5,6,7,8,9,10)\n",
    "length_tuple = len(given_tuple)\n",
    "first_tuple = given_tuple[:length_tuple // 2]\n",
    "second_tuple = given_tuple[length_tuple // 2:]\n",
    "print(first_tuple,second_tuple)\n"
   ]
  },
  {
   "cell_type": "code",
   "execution_count": 22,
   "metadata": {},
   "outputs": [
    {
     "name": "stdout",
     "output_type": "stream",
     "text": [
      "1 2 3 4 5  \n",
      "6 7 8 9 10 "
     ]
    }
   ],
   "source": [
    "# METHOD - 2\n",
    "given_tuple = (1,2,3,4,5,6,7,8,9,10)\n",
    "length_tuple = len(given_tuple)\n",
    "for i in range(1,(length_tuple//2)+1):\n",
    "    print(i,end=' ')\n",
    "print(\" \")\n",
    "\n",
    "for j in range((length_tuple//2)+1,11):\n",
    "    print(j,end=' ')\n",
    "    \n"
   ]
  },
  {
   "cell_type": "code",
   "execution_count": 5,
   "metadata": {},
   "outputs": [
    {
     "name": "stdout",
     "output_type": "stream",
     "text": [
      "[1, 2, 3, 4, 5]\n",
      "[6, 7, 8, 9, 10]\n"
     ]
    }
   ],
   "source": [
    "# METHOD - 3\n",
    "given_tuple = (1,2,3,4,5,6,7,8,9,10)\n",
    "length_tuple = len(given_tuple)\n",
    "first_tuple = list(given_tuple[:length_tuple // 2])\n",
    "second_tuple =list(given_tuple[length_tuple // 2:])\n",
    "print(first_tuple)\n",
    "print(second_tuple)\n"
   ]
  },
  {
   "cell_type": "markdown",
   "metadata": {},
   "source": [
    "### Write a program to generate and print another tuple whose values are even numbers in the given tuple (1,2,3,4,5,6,7,8,9,10)"
   ]
  },
  {
   "cell_type": "markdown",
   "metadata": {},
   "source": [
    "### Answer"
   ]
  },
  {
   "cell_type": "code",
   "execution_count": 24,
   "metadata": {},
   "outputs": [
    {
     "name": "stdout",
     "output_type": "stream",
     "text": [
      "(2, 4, 6, 8, 10)\n"
     ]
    }
   ],
   "source": [
    "# Write a program to generate and print another tuple whose values are even numbers in the given tuple (1,2,3,4,5,6,7,8,9,10)\n",
    "\n",
    "t=(1,2,3,4,5,6,7,8,9,10)\n",
    "l=[]\n",
    "for i in t:\n",
    "    if i % 2 == 0:\n",
    "        l.append(i)\n",
    "print(tuple(l))"
   ]
  },
  {
   "cell_type": "markdown",
   "metadata": {},
   "source": [
    "### Write a program which accepts a string as input to print \"Yes\" if the string is \"yes\" or \"YES\" or \"Yes\", otherwise print \"No\""
   ]
  },
  {
   "cell_type": "markdown",
   "metadata": {},
   "source": [
    "### Answer"
   ]
  },
  {
   "cell_type": "code",
   "execution_count": 45,
   "metadata": {},
   "outputs": [
    {
     "name": "stdout",
     "output_type": "stream",
     "text": [
      "Please type something. --> YES\n",
      "Yes\n"
     ]
    }
   ],
   "source": [
    "# Write a program which accepts a string as input to print \"Yes\" if the string is \"yes\" or \"YES\" or \"Yes\", otherwise print \"No\"\n",
    "\n",
    "text = input(\"Please type something. --> \")\n",
    "if text in [\"yes\", \"YES\", \"Yes\"]:\n",
    "    print(\"Yes\")\n",
    "else:\n",
    "    print(\"No\")\n"
   ]
  },
  {
   "cell_type": "markdown",
   "metadata": {},
   "source": [
    "### Please write a program to generate a list with 5 random numbers between 100 and 200 inclusive."
   ]
  },
  {
   "cell_type": "code",
   "execution_count": 3,
   "metadata": {},
   "outputs": [],
   "source": [
    "# Please write a program to generate a list with 5 random numbers between 100 and 200 inclusive.\n",
    "\n",
    "import random\n",
    "def generate():\n",
    "    l = []\n",
    "    for i in range(5):\n",
    "        l.append(random.randint(100,200))\n",
    "    return(l) \n",
    "    "
   ]
  },
  {
   "cell_type": "code",
   "execution_count": 4,
   "metadata": {},
   "outputs": [
    {
     "data": {
      "text/plain": [
       "[141, 128, 191, 168, 176]"
      ]
     },
     "execution_count": 4,
     "metadata": {},
     "output_type": "execute_result"
    }
   ],
   "source": [
    "generate()"
   ]
  },
  {
   "cell_type": "markdown",
   "metadata": {},
   "source": [
    "### Please generate a random float where the value is between 5 and 95 using Python module."
   ]
  },
  {
   "cell_type": "code",
   "execution_count": 1,
   "metadata": {},
   "outputs": [],
   "source": [
    "# Please generate a random float where the value is between 5 and 95 using Python module.\n",
    "\n",
    "import random\n",
    "def num():\n",
    "    float_value = random.uniform(5,95)\n",
    "    print(float_value)"
   ]
  },
  {
   "cell_type": "code",
   "execution_count": 2,
   "metadata": {},
   "outputs": [
    {
     "name": "stdout",
     "output_type": "stream",
     "text": [
      "57.467224726316815\n"
     ]
    }
   ],
   "source": [
    "num()"
   ]
  },
  {
   "cell_type": "markdown",
   "metadata": {},
   "source": [
    "### [1,1,1,1,3,3,4,4,4,5,6,7,8,8,8]\n",
    "#### 1. from the above list print the uniques values\n",
    "#### 2. count how many times each number exist\n",
    "#### 3. Print the number which is occured more number of times"
   ]
  },
  {
   "cell_type": "code",
   "execution_count": 47,
   "metadata": {},
   "outputs": [
    {
     "data": {
      "text/plain": [
       "[1, 3, 4, 5, 6, 7, 8]"
      ]
     },
     "execution_count": 47,
     "metadata": {},
     "output_type": "execute_result"
    }
   ],
   "source": [
    "# from the above list print the uniques values\n",
    "\n",
    "l=[1,1,1,1,3,3,4,4,4,5,6,7,8,8,8]\n",
    "s=list(set(l))\n",
    "s"
   ]
  },
  {
   "cell_type": "code",
   "execution_count": 2,
   "metadata": {},
   "outputs": [
    {
     "name": "stdout",
     "output_type": "stream",
     "text": [
      "{1: 4, 3: 2, 4: 3, 5: 1, 6: 1, 7: 1, 8: 3}\n"
     ]
    }
   ],
   "source": [
    "# count how many times each number exist\n",
    "\n",
    "l=[1,1,1,1,3,3,4,4,4,5,6,7,8,8,8]\n",
    "count={}\n",
    "for i in l:\n",
    "    if i in count:\n",
    "        count[i]+=1\n",
    "    else:\n",
    "        count[i]=1\n",
    "    \n",
    "print(count)"
   ]
  },
  {
   "cell_type": "code",
   "execution_count": 4,
   "metadata": {},
   "outputs": [
    {
     "name": "stdout",
     "output_type": "stream",
     "text": [
      "1\n"
     ]
    }
   ],
   "source": [
    "# Print the number which is occured more number of times\n",
    "\n",
    "l=[1,1,1,1,3,3,4,4,4,5,6,7,8,8,8]\n",
    "count={}\n",
    "for i in l:\n",
    "    if i in count:\n",
    "        count[i]+=1\n",
    "    else:\n",
    "        count[i]=1\n",
    "most_frequent = max(count, key=count.get)\n",
    "print(most_frequent)\n",
    "\n"
   ]
  },
  {
   "cell_type": "markdown",
   "metadata": {},
   "source": [
    "# [Innomatics Research Labs](https:/innomatics.in/)\n",
    "[www.innomatics.in](https:/innomatics.in/)"
   ]
  },
  {
   "cell_type": "code",
   "execution_count": null,
   "metadata": {},
   "outputs": [],
   "source": []
  }
 ],
 "metadata": {
  "kernelspec": {
   "display_name": "Python 3 (ipykernel)",
   "language": "python",
   "name": "python3"
  },
  "language_info": {
   "codemirror_mode": {
    "name": "ipython",
    "version": 3
   },
   "file_extension": ".py",
   "mimetype": "text/x-python",
   "name": "python",
   "nbconvert_exporter": "python",
   "pygments_lexer": "ipython3",
   "version": "3.9.13"
  }
 },
 "nbformat": 4,
 "nbformat_minor": 2
}
