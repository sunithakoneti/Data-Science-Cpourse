{
 "cells": [
  {
   "cell_type": "markdown",
   "metadata": {
    "colab_type": "text",
    "id": "ulWPjwCr5CTn"
   },
   "source": [
    "# Functions and Methods Homework \n",
    "\n",
    "Complete the following questions:\n",
    "____\n",
    "**Write a function that computes the volume of a sphere given its radius.**"
   ]
  },
  {
   "cell_type": "markdown",
   "metadata": {
    "colab_type": "text",
    "id": "h7FOxpgS5CTr"
   },
   "source": [
    "volume = 4/3 pi $r ^3$"
   ]
  },
  {
   "cell_type": "code",
   "execution_count": 1,
   "metadata": {
    "colab": {},
    "colab_type": "code",
    "id": "zWF2MYhR5CTt"
   },
   "outputs": [],
   "source": [
    "# Write a function that computes the volume of a sphere given its radius.\n",
    "\n",
    "def vol():\n",
    "    rad = float(input(\"Enter the radius :\"))\n",
    "    pi = 3.14 # pi = 22/7 or 3.14\n",
    "    volume_of_sphere = 4 / 3 * pi * rad ** 3 # using sphere volume formula 4/3pir^3 calculating value \n",
    "    print(\"volume of the sphere : \",volume_of_sphere) # printing volume value\n",
    "    return(volume_of_sphere) # returning the value"
   ]
  },
  {
   "cell_type": "code",
   "execution_count": 2,
   "metadata": {},
   "outputs": [
    {
     "name": "stdout",
     "output_type": "stream",
     "text": [
      "Enter the radius :3.2\n",
      "volume of the sphere :  137.18869333333336\n"
     ]
    },
    {
     "data": {
      "text/plain": [
       "137.18869333333336"
      ]
     },
     "execution_count": 2,
     "metadata": {},
     "output_type": "execute_result"
    }
   ],
   "source": [
    "vol() # calling function\n",
    "   "
   ]
  },
  {
   "cell_type": "markdown",
   "metadata": {
    "colab_type": "text",
    "id": "HMo_Rw5a5CTy"
   },
   "source": [
    "___\n",
    "**Write a function that checks whether a number is in a given range (Inclusive of high and low)**"
   ]
  },
  {
   "cell_type": "code",
   "execution_count": 12,
   "metadata": {
    "colab": {},
    "colab_type": "code",
    "id": "n0yqPe8E5CT0"
   },
   "outputs": [],
   "source": [
    "# Write a function that checks whether a number is in a given range (Inclusive of high and low)\n",
    "\n",
    "def ran_check(num,low,high): # defining a function with three parameters num,low,high\n",
    "    if (num >=  low) and (num <= high): # comparing num with low and high to find num is with in the range \n",
    "        print(\"The given number is in the given range.\") # if true print with in range.\n",
    "    else:\n",
    "        print(\"The given number is out of range\") # if false print out of range\n",
    "    "
   ]
  },
  {
   "cell_type": "code",
   "execution_count": 13,
   "metadata": {},
   "outputs": [
    {
     "name": "stdout",
     "output_type": "stream",
     "text": [
      "The given number is in the given range.\n"
     ]
    }
   ],
   "source": [
    "ran_check(3,1,10) # callinf function by passing three parameters num,low,high"
   ]
  },
  {
   "cell_type": "markdown",
   "metadata": {
    "colab_type": "text",
    "id": "iwjtPA8c5CT7"
   },
   "source": [
    "If you only wanted to return a boolean:"
   ]
  },
  {
   "cell_type": "code",
   "execution_count": 14,
   "metadata": {
    "colab": {},
    "colab_type": "code",
    "id": "MpXji4ez5CT9"
   },
   "outputs": [],
   "source": [
    "#If you only wanted to return a boolean:\n",
    "\n",
    "def ran_bool(num,low,high):\n",
    "    if (num >= low) and (num <= high):\n",
    "        return(True)\n",
    "    else:\n",
    "        return(False)"
   ]
  },
  {
   "cell_type": "code",
   "execution_count": 15,
   "metadata": {
    "colab": {},
    "colab_type": "code",
    "id": "0V5Z-P4x5CUB",
    "outputId": "b840e6e7-7c34-491b-e39f-7ee3ed5feba5"
   },
   "outputs": [
    {
     "data": {
      "text/plain": [
       "True"
      ]
     },
     "execution_count": 15,
     "metadata": {},
     "output_type": "execute_result"
    }
   ],
   "source": [
    "ran_bool(3,1,10)"
   ]
  },
  {
   "cell_type": "markdown",
   "metadata": {
    "colab_type": "text",
    "id": "vqDY4M-45CUJ"
   },
   "source": [
    "____\n",
    "**Write a Python function that accepts a string and calculate the number of upper case letters and lower case letters.**\n",
    "\n",
    "    Sample String : 'Hello Mr. Rogers, how are you this fine Tuesday?'\n",
    "    Expected Output : \n",
    "    No. of Upper case characters : 4\n",
    "    No. of Lower case Characters : 33\n",
    "\n",
    "If you feel ambitious, explore the Collections module to solve this problem!"
   ]
  },
  {
   "cell_type": "code",
   "execution_count": 16,
   "metadata": {
    "colab": {},
    "colab_type": "code",
    "id": "zK0dlL0J5CUK"
   },
   "outputs": [],
   "source": [
    "# Write a Python function that accepts a string and calculate the number of upper case letters and lower case letters.\n",
    "def up_low(s):\n",
    "    \n",
    "    upper_case = 0 # Initialising uppercase with 0\n",
    "    lower_case = 0 # Initialising lower case with 0\n",
    "    for i in s: # checking all the characters teking iterations\n",
    "        if i.isupper(): # check every character from the given string is upper bynusing isupper() function\n",
    "            upper_case += 1 # if yes uppercase is incremented by 1\n",
    "        elif i.islower(): # check every character from the given string is lower by using islower() function \n",
    "            lower_case += 1 # if yes lowercase is incremented by 1\n",
    "    print(\"No. of Upper case characters : \",upper_case) # printing the count of upper case\n",
    "    print(\"No. of lower case characters : \",lower_case) # printing the count of lower case\n",
    "    "
   ]
  },
  {
   "cell_type": "code",
   "execution_count": 17,
   "metadata": {},
   "outputs": [
    {
     "name": "stdout",
     "output_type": "stream",
     "text": [
      "No. of Upper case characters :  4\n",
      "No. of lower case characters :  33\n"
     ]
    }
   ],
   "source": [
    "up_low('Hello Mr. Rogers, how are you this fine Tuesday?')"
   ]
  },
  {
   "cell_type": "code",
   "execution_count": 22,
   "metadata": {},
   "outputs": [
    {
     "name": "stdout",
     "output_type": "stream",
     "text": [
      "Enter a string: 'Hello Mr. Rogers, how are you this fine Tuesday?\n",
      "Number of lowercase letters: 33\n",
      "Number of uppercase letters: 4\n"
     ]
    }
   ],
   "source": [
    "# using Collections module the above program\n",
    "\n",
    "import collections\n",
    "\n",
    "def count_letters(s):\n",
    "    counter = collections.Counter(s) # the Counter class from the collections module can be used \n",
    "                                    # to count the frequency of elements in a list or string.\n",
    "    lowercase_count = sum(counter[char] for char in counter if char.islower())\n",
    "    uppercase_count = sum(counter[char] for char in counter if char.isupper())\n",
    "    print(f\"Number of lowercase letters: {lowercase_count}\")\n",
    "    print(f\"Number of uppercase letters: {uppercase_count}\")\n",
    "\n",
    "string = input(\"Enter a string: \")\n",
    "count_letters(string)"
   ]
  },
  {
   "cell_type": "markdown",
   "metadata": {
    "colab_type": "text",
    "id": "KM0XQc4W5CUP"
   },
   "source": [
    "____\n",
    "**Write a Python function that takes a list and returns a new list with unique elements of the first list.**\n",
    "\n",
    "    Sample List : [1,1,1,1,2,2,3,3,3,3,4,5]\n",
    "    Unique List : [1, 2, 3, 4, 5]"
   ]
  },
  {
   "cell_type": "code",
   "execution_count": 23,
   "metadata": {
    "colab": {},
    "colab_type": "code",
    "id": "CUat5ZSr5CUR"
   },
   "outputs": [],
   "source": [
    "# Write a Python function that takes a list and returns a new list with unique elements of the first list.\n",
    "def unique_list(l): # defing a function with one parameter\n",
    "    s = set(l) # to remove duplicates we r changing the list to set\n",
    "    return(list(s)) # returning the usique set values in list"
   ]
  },
  {
   "cell_type": "code",
   "execution_count": 26,
   "metadata": {
    "colab": {},
    "colab_type": "code",
    "id": "tutsZ1Tb5CUV",
    "outputId": "74ef6735-045d-4e4d-e542-a9d469bb2f3a"
   },
   "outputs": [
    {
     "data": {
      "text/plain": [
       "[1, 2, 3, 4, 5]"
      ]
     },
     "execution_count": 26,
     "metadata": {},
     "output_type": "execute_result"
    }
   ],
   "source": [
    "unique_list([1,1,1,1,2,2,3,3,3,3,4,5]) # calling function"
   ]
  },
  {
   "cell_type": "markdown",
   "metadata": {
    "colab_type": "text",
    "id": "ITK_schK5CUb"
   },
   "source": [
    "____\n",
    "**Write a Python function to multiply all the numbers in a list.**\n",
    "\n",
    "    Sample List : [1, 2, 3, -4]\n",
    "    Expected Output : -24"
   ]
  },
  {
   "cell_type": "code",
   "execution_count": 27,
   "metadata": {
    "colab": {},
    "colab_type": "code",
    "id": "8f0Y4zBT5CUd"
   },
   "outputs": [],
   "source": [
    "# Write a Python function to multiply all the numbers in a list.\n",
    "\n",
    "def multiply(numbers): # deffinin a funtion with list of numbers as parameter\n",
    "    product = 1 # initialising product as 1\n",
    "    for i in numbers: # taking iteration till the completion of the list\n",
    "        product = product * i # product is multiplied by each element in every iteration\n",
    "    return(product) # returning the result"
   ]
  },
  {
   "cell_type": "code",
   "execution_count": 30,
   "metadata": {
    "colab": {},
    "colab_type": "code",
    "id": "nk_bByrm5CUi",
    "outputId": "8f382453-247f-4f01-fcb2-1a29186b2b79"
   },
   "outputs": [
    {
     "data": {
      "text/plain": [
       "-24"
      ]
     },
     "execution_count": 30,
     "metadata": {},
     "output_type": "execute_result"
    }
   ],
   "source": [
    "multiply([1,2,3,-4]) # Calling a function with list of numbers as parameter."
   ]
  },
  {
   "cell_type": "code",
   "execution_count": 8,
   "metadata": {},
   "outputs": [
    {
     "data": {
      "text/plain": [
       "-24"
      ]
     },
     "execution_count": 8,
     "metadata": {},
     "output_type": "execute_result"
    }
   ],
   "source": [
    "# Another method\n",
    "multiply = lambda args:args[0]*args[1]*args[2]*args[3] # using lambda we sending list of arguments as args and multiplying \n",
    "                                                       # each element in the listing by calling the elemtn with it's index.\n",
    "multiply([1,2,3,-4]) # Calling the function by passing 4 values."
   ]
  },
  {
   "cell_type": "markdown",
   "metadata": {
    "colab_type": "text",
    "id": "5lrg6QgD5CUm"
   },
   "source": [
    "____\n",
    "**Write a Python function that checks whether a passed string is palindrome or not.**\n",
    "\n",
    "Note: A palindrome is word, phrase, or sequence that reads the same backward as forward, e.g., madam or nurses run."
   ]
  },
  {
   "cell_type": "code",
   "execution_count": 1,
   "metadata": {
    "colab": {},
    "colab_type": "code",
    "id": "aQDoX-6Y5CUn"
   },
   "outputs": [],
   "source": [
    "# Write a Python function that checks whether a passed string is palindrome or not.\n",
    "\n",
    "def palindrome(s): # Defining a function with string as parameter.\n",
    "    new_string = s[-1::-1] # reversing a string by using slising technique in strings.\n",
    "    if s == new_string: # comparing original string with reversed string using if condition.\n",
    "        return(True) # if same it returns \"True\"\n",
    "    else:\n",
    "        return(False) # if not same it returns \"False\"\n",
    "    "
   ]
  },
  {
   "cell_type": "code",
   "execution_count": 24,
   "metadata": {
    "colab": {},
    "colab_type": "code",
    "id": "Jc6_b7hQ5CUy",
    "outputId": "a23457aa-65fd-4176-ff6d-587c40392b42"
   },
   "outputs": [
    {
     "data": {
      "text/plain": [
       "True"
      ]
     },
     "execution_count": 24,
     "metadata": {},
     "output_type": "execute_result"
    }
   ],
   "source": [
    "palindrome('refer') # calling the function by passing string as parameter."
   ]
  },
  {
   "cell_type": "markdown",
   "metadata": {},
   "source": [
    "## Given a number N.Find Sum of 1 to N Using Recursion"
   ]
  },
  {
   "cell_type": "code",
   "execution_count": 2,
   "metadata": {},
   "outputs": [
    {
     "name": "stdout",
     "output_type": "stream",
     "text": [
      "Enter a value : 10\n",
      "55\n"
     ]
    }
   ],
   "source": [
    "# Given a number N.Find Sum of 1 to N Using Recursion\n",
    "\n",
    "def summation(n): # Defining a function with name 'summation' and argument 'n'\n",
    "    if n == 1: # Checks if number is equal to '1' the function return '1'\n",
    "        return 1\n",
    "    else: # If the number is not 1 it returns the recursive function until the n becomes 1.\n",
    "        return summation(n-1)+n\n",
    "\n",
    "n = int(input(\"Enter a value : \")) # taking a number from the user.\n",
    "sum = summation(n) # calling function by passing the number as argument.\n",
    "print(sum) # printing the result.\n"
   ]
  },
  {
   "cell_type": "code",
   "execution_count": null,
   "metadata": {},
   "outputs": [],
   "source": []
  },
  {
   "cell_type": "markdown",
   "metadata": {},
   "source": [
    "### Define a function which can generate and print a list where the values are square of numbers between 1 and 20"
   ]
  },
  {
   "cell_type": "code",
   "execution_count": 54,
   "metadata": {},
   "outputs": [],
   "source": [
    "# Define a function which can generate and print a list where the values are square of numbers between 1 and 20\n",
    "\n",
    "def printList(): # Defining a function with the name 'printList'.\n",
    "    new_list=[] # creating a new list for storing squared numbers of numbers from 1 to 20.\n",
    "    for i in range(1,21): # The iterations will be taken upto the number 21.\n",
    "        new_list.append(i**2) # Till 20 each number is squared and appended in the new list.               \n",
    "    print(new_list)  # displaying the output.\n",
    "\n",
    "\n"
   ]
  },
  {
   "cell_type": "code",
   "execution_count": 55,
   "metadata": {},
   "outputs": [
    {
     "name": "stdout",
     "output_type": "stream",
     "text": [
      "[1, 4, 9, 16, 25, 36, 49, 64, 81, 100, 121, 144, 169, 196, 225, 256, 289, 324, 361, 400]\n"
     ]
    }
   ],
   "source": [
    "printList()"
   ]
  },
  {
   "cell_type": "markdown",
   "metadata": {},
   "source": [
    "### Define a function which can generate a dictionary where the keys are numbers between 1 and 20 (both included) and the values are square of keys. The function should just print the keys only.\n",
    "\n"
   ]
  },
  {
   "cell_type": "code",
   "execution_count": 4,
   "metadata": {},
   "outputs": [
    {
     "data": {
      "text/plain": [
       "[1, 2, 3, 4, 5, 6, 7, 8, 9, 10, 11, 12, 13, 14, 15, 16, 17, 18, 19, 20]"
      ]
     },
     "execution_count": 4,
     "metadata": {},
     "output_type": "execute_result"
    }
   ],
   "source": [
    "# Define a function which can generate a dictionary where the keys are numbers between 1 and 20 \n",
    "# (both included) and the values are square of keys. The function should just print the keys only.\n",
    "\n",
    "def printDict(): # defining a function with  name 'printDict'.\n",
    "    d = {x: x**2 for x in range(1, 21)} # creatig a dictionary takin keys as numbers and squared numbers as values with \n",
    "                                        # in the range(1,21)\n",
    "    l=[] # creating an empty list\n",
    "    for k in d.keys(): # the iteration will take palace until the dictionary keys will be completed.  \n",
    "        l.append(k) # only dictionary keys will be appended in new list 'l'        \n",
    "    return l # returning the keys list\n",
    "printDict() # calling a function"
   ]
  },
  {
   "cell_type": "markdown",
   "metadata": {},
   "source": [
    "##### Write a function that count the no of characters of the given input text\n",
    "- input\n",
    "    - innomatics research labs\n",
    "    \n",
    "- output\n",
    "    - innomatics :10\n",
    "    - research : 8\n",
    "    - labs : 4"
   ]
  },
  {
   "cell_type": "code",
   "execution_count": 82,
   "metadata": {},
   "outputs": [
    {
     "name": "stdout",
     "output_type": "stream",
     "text": [
      "innomatics: 10\n",
      "research: 8\n",
      "labs: 4\n"
     ]
    }
   ],
   "source": [
    "# Write a function that count the no of characters of the given input text:\n",
    "\n",
    "def num_char(x):\n",
    "    words = x.split()\n",
    "    length = {}\n",
    "    for i in words:\n",
    "        length[i] = len(i)\n",
    "    return(length)\n",
    "\n",
    "x = 'innomatics research labs'\n",
    "y = num_char(x)\n",
    "\n",
    "for word, count in y.items():\n",
    "    print(f'{word}: {count}')\n"
   ]
  },
  {
   "cell_type": "markdown",
   "metadata": {},
   "source": [
    "### Write a program which can map() to make a list whose elements are square of elements in [1,2,3,4,5,6,7,8,9,10].\n",
    "\n",
    "Using map() function"
   ]
  },
  {
   "cell_type": "code",
   "execution_count": 2,
   "metadata": {},
   "outputs": [
    {
     "name": "stdout",
     "output_type": "stream",
     "text": [
      "[1, 4, 9, 16, 25, 36, 49, 64, 81, 100]\n"
     ]
    }
   ],
   "source": [
    "# Write a program which can map() to make a list whose elements are square of elements in [1,2,3,4,5,6,7,8,9,10].\n",
    "\n",
    "# No different way of code is written as the requirment is specificly mentioned in problem description\n",
    "#def square(x):\n",
    "#    return(x**2)\n",
    "\n",
    "li = [1, 2, 3, 4, 5, 6, 7, 8, 9, 10]\n",
    "squaredNumbers=list(map(lambda x:x**2,li))\n",
    "\n",
    "print(list(squaredNumbers))  # converting the object into list"
   ]
  },
  {
   "cell_type": "markdown",
   "metadata": {},
   "source": [
    "### Write a program which can map() and filter() to make a list whose elements are square of even number in [1,2,3,4,5,6,7,8,9,10].\n",
    "##### using filter()"
   ]
  },
  {
   "cell_type": "code",
   "execution_count": 69,
   "metadata": {},
   "outputs": [
    {
     "name": "stdout",
     "output_type": "stream",
     "text": [
      "[4, 16, 36, 64, 100]\n"
     ]
    }
   ],
   "source": [
    "# Write a program which can map() and filter() to make a list whose elements are square of even number in \n",
    "# [1,2,3,4,5,6,7,8,9,10].\n",
    "\n",
    "def even(x):\n",
    "    if x % 2 == 0:\n",
    "        return(x)\n",
    "def square(x):\n",
    "    return(x**2)\n",
    "# first filters number by even number and then apply map() on the resultant elements\n",
    "li = [1, 2, 3, 4, 5, 6, 7, 8, 9, 10]\n",
    "evenNumbers = filter(even, li)\n",
    "squaredEvenNumbers = map(square, evenNumbers)\n",
    "print(list(squaredEvenNumbers))"
   ]
  },
  {
   "cell_type": "markdown",
   "metadata": {},
   "source": [
    "### Write a program which can filter() to make a list whose elements are even number between 1 and 20 (both included)"
   ]
  },
  {
   "cell_type": "code",
   "execution_count": 4,
   "metadata": {},
   "outputs": [
    {
     "name": "stdout",
     "output_type": "stream",
     "text": [
      "[2, 4, 6, 8, 10, 12, 14, 16, 18, 20]\n"
     ]
    }
   ],
   "source": [
    "# Write a program which can filter() to make a list whose elements are even number between 1 and 20 (both included)\n",
    "\n",
    "def even(x):\n",
    "    if x % 2 == 0:\n",
    "        return(x)\n",
    "    \n",
    "evenNumbers = filter(even, range(1, 21))\n",
    "print(list(evenNumbers))"
   ]
  },
  {
   "cell_type": "markdown",
   "metadata": {},
   "source": [
    "### $f(n)=f(n-1)+f(n-2)$ if n>1"
   ]
  },
  {
   "cell_type": "code",
   "execution_count": 60,
   "metadata": {},
   "outputs": [
    {
     "name": "stdout",
     "output_type": "stream",
     "text": [
      "Enter n value6\n",
      "8\n"
     ]
    }
   ],
   "source": [
    "# 𝑓(𝑛)=𝑓(𝑛−1)+𝑓(𝑛−2) if n>1:(fibonaccsi series 1,1,2,3,5,8,13....,(sum of previous two numbers would be the next number))\n",
    "\n",
    "def f(n): # Defining a function with 'n' as argument.\n",
    "    if n <= 1: # checking the number is less than or equal to 1 .\n",
    "        return n # if yes it returns 'n'.\n",
    "    else:\n",
    "        return f(n-1) + f(n-2) # if 'no' The function returns the recursive function.\n",
    "    \n",
    "n = int(input(\"Enter n value\")) # taking input from the user\n",
    "print(f(n)) # callinf function by passing 'n' as argument."
   ]
  },
  {
   "cell_type": "code",
   "execution_count": null,
   "metadata": {},
   "outputs": [],
   "source": []
  },
  {
   "cell_type": "markdown",
   "metadata": {
    "colab_type": "text",
    "id": "GKCWkFCm5CU_"
   },
   "source": [
    "# [Innomatics Research Labs](https:/innomatics.in/)\n",
    "[www.innomatics.in](https:/innomatics.in/)"
   ]
  },
  {
   "cell_type": "code",
   "execution_count": null,
   "metadata": {},
   "outputs": [],
   "source": []
  }
 ],
 "metadata": {
  "colab": {
   "name": "03 - Functions and Methods execrise.ipynb",
   "provenance": []
  },
  "kernelspec": {
   "display_name": "Python 3 (ipykernel)",
   "language": "python",
   "name": "python3"
  },
  "language_info": {
   "codemirror_mode": {
    "name": "ipython",
    "version": 3
   },
   "file_extension": ".py",
   "mimetype": "text/x-python",
   "name": "python",
   "nbconvert_exporter": "python",
   "pygments_lexer": "ipython3",
   "version": "3.9.13"
  }
 },
 "nbformat": 4,
 "nbformat_minor": 1
}
