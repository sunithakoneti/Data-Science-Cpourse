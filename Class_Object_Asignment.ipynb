{
 "cells": [
  {
   "cell_type": "code",
   "execution_count": null,
   "metadata": {
    "id": "gXQ_OQjp_ajF"
   },
   "outputs": [],
   "source": []
  },
  {
   "cell_type": "markdown",
   "metadata": {
    "id": "UlTyvTnVDRXI"
   },
   "source": [
    "## 1. Create Python class named `Student` and display its type"
   ]
  },
  {
   "cell_type": "code",
   "execution_count": 4,
   "metadata": {},
   "outputs": [
    {
     "name": "stdout",
     "output_type": "stream",
     "text": [
      "kavitha id is 27\n"
     ]
    }
   ],
   "source": [
    "#  Create Python class named Student and display its type.\n",
    "class Student:\n",
    "    id =27            # Taking the variables id and name under the class.\n",
    "    name = 'kavitha'\n",
    "    def display(self): # defining a function with self parameter to class class variables in this function.\n",
    "        print(f'{self.name} id is {self.id}')\n",
    "std = Student() # creating an object which is called instantiation.\n",
    "std.display() # calling the function with the object."
   ]
  },
  {
   "cell_type": "code",
   "execution_count": 7,
   "metadata": {
    "colab": {
     "base_uri": "https://localhost:8080/"
    },
    "id": "DCcHnvOSDU9N",
    "outputId": "bc177e1e-656f-4a02-ab9f-a47693dbfdcc"
   },
   "outputs": [
    {
     "name": "stdout",
     "output_type": "stream",
     "text": [
      "<class 'type'>\n"
     ]
    }
   ],
   "source": [
    "print(type(Student)) # finding type of a class with the help of type function."
   ]
  },
  {
   "cell_type": "markdown",
   "metadata": {
    "id": "nYjL6Efcx6ad"
   },
   "source": [
    "## 2. How to call a variable and function by creating a simple class\n"
   ]
  },
  {
   "cell_type": "code",
   "execution_count": 10,
   "metadata": {
    "colab": {
     "base_uri": "https://localhost:8080/"
    },
    "id": "2cVJl1pTyQtS",
    "outputId": "a490e4f4-11a8-44e4-fc4d-5fefcab06e34"
   },
   "outputs": [
    {
     "name": "stdout",
     "output_type": "stream",
     "text": [
      "This is Variable1\n",
      "I'm from function, This is Variable1\n"
     ]
    }
   ],
   "source": [
    "# How to call a variable and function by creating a simple class\n",
    "class Dog:\n",
    "    def __init__(self,name):\n",
    "        self.name = name     # Initialising name variable with __init__ constructor\n",
    "        \n",
    "    def var(self):      # defining a function with default parameter self.\n",
    "        print(self.name)  # calling class variable in a function\n",
    "        print(\"I'm from function, This is Variable1\")\n",
    "d = Dog(\"This is Variable1\") # sending parameter to class variable.\n",
    "d.var()\n",
    "     "
   ]
  },
  {
   "cell_type": "markdown",
   "metadata": {
    "id": "Qrn6EsJ7putu"
   },
   "source": [
    "## 3. Create a class with one `static variable` and two `instace variables`"
   ]
  },
  {
   "cell_type": "code",
   "execution_count": 38,
   "metadata": {
    "colab": {
     "base_uri": "https://localhost:8080/"
    },
    "id": "D5z1cympyQwS",
    "outputId": "83f642f9-4867-498f-b8b7-6b39101339f7"
   },
   "outputs": [
    {
     "name": "stdout",
     "output_type": "stream",
     "text": [
      "Innomatics is a static variable\n",
      "Instance_var1\n",
      "Instance_var2\n"
     ]
    }
   ],
   "source": [
    "# Create a class with one static variable and two instace variables\n",
    "class Demo():\n",
    "    institute = 'Innomatics' # isnstitute is static variable here.\n",
    "    print(Demo.institute , \"is a static variable\")\n",
    "    def __init__(self,var1,var2): # var1,var2 are two instance variables here.\n",
    "        self.var1 = var1\n",
    "        self.var2 = var2\n",
    "    def dis(self): \n",
    "        print(self.var1) # calling variables\n",
    "        print(self.var2)\n",
    "d1 = Demo(\"Instance_var1\",\"Instance_var2\") # Sending parameters to class\n",
    "d1.dis()\n",
    "    \n"
   ]
  },
  {
   "cell_type": "markdown",
   "metadata": {
    "id": "m2__2x3B_gub"
   },
   "source": [
    "## 4. Create a `Vehicle` class with max_speed and mileage instance attributes"
   ]
  },
  {
   "cell_type": "code",
   "execution_count": 39,
   "metadata": {
    "colab": {
     "base_uri": "https://localhost:8080/"
    },
    "id": "uTyOnoPN_qVJ",
    "outputId": "e4ed0414-9da1-4196-a802-41b39f455a3f"
   },
   "outputs": [
    {
     "name": "stdout",
     "output_type": "stream",
     "text": [
      "This is a Vehicle Class\n",
      "Max speed of a vehicle is :  240\n",
      "Mileage of Vehicle is :  18\n"
     ]
    }
   ],
   "source": [
    "# Create a Vehicle class with max_speed and mileage instance attributes.\n",
    "class Vehicle:\n",
    "    print(\"This is a Vehicle Class\")\n",
    "    # Taking mas_speed and mileage as instance variables.\n",
    "    def __init__(self,max_speed,mileage):\n",
    "        self.max_speed = max_speed\n",
    "        self.mileage = mileage\n",
    "    # defining a function to display vehicle speed and mileage.    \n",
    "    def display(self):\n",
    "        print(\"Max speed of a vehicle is : \",self.max_speed)\n",
    "        print(\"Mileage of Vehicle is : \",self.mileage)\n",
    "# creating an object to call the class by sending two parameters.       \n",
    "v = Vehicle(240,18)\n",
    "v.display()"
   ]
  },
  {
   "cell_type": "markdown",
   "metadata": {
    "id": "dGGYG_Sm1N4y"
   },
   "source": [
    "## 5. Create a simple class `Person` with constructer and one argument `name`"
   ]
  },
  {
   "cell_type": "code",
   "execution_count": null,
   "metadata": {
    "id": "zkAdBgQP1bNW"
   },
   "outputs": [],
   "source": [
    "#  Create a simple class Person with constructer and one argument name"
   ]
  },
  {
   "cell_type": "code",
   "execution_count": 16,
   "metadata": {
    "colab": {
     "base_uri": "https://localhost:8080/"
    },
    "id": "i5vQQoIu0X_f",
    "outputId": "2b8f7cd2-cb9d-43f2-afdf-8f20411ef6cc"
   },
   "outputs": [
    {
     "name": "stdout",
     "output_type": "stream",
     "text": [
      "This is a Simple Person Class with constructor\n",
      "Hello, My name is Ram\n"
     ]
    }
   ],
   "source": [
    "# A Sample class with init method\n",
    "class Person:\n",
    "    print(\"This is a Simple Person Class with constructor\")\n",
    "    \n",
    "    def __init__(self,name):\n",
    "        self.name = name\n",
    "    \n",
    "    def say_hi(self):\n",
    "        print(\"Hello, My name is\",self.name)   \n",
    "p = Person('Ram')\n",
    "p.say_hi()"
   ]
  },
  {
   "cell_type": "markdown",
   "metadata": {
    "id": "T9AQ6X3i2k6l"
   },
   "source": [
    "## 6. Create a class for `Students` information like `name, rollno, marks` and `school name` with static variable.\n",
    "- create a function for displaying student information\n",
    "- create one more function for getting students marks and percentage "
   ]
  },
  {
   "cell_type": "code",
   "execution_count": 40,
   "metadata": {
    "colab": {
     "base_uri": "https://localhost:8080/"
    },
    "id": "cX4Z5_nx2h-O",
    "outputId": "5e032c7a-407b-455b-aef3-84b673a017ae"
   },
   "outputs": [
    {
     "name": "stdout",
     "output_type": "stream",
     "text": [
      "Name: Rekha, RollNo: 10, MarksL 399, College: Innomatics\n",
      "Dictionary:  {'name': 'Rekha', 'rno': 10, 'marks': 399}\n",
      "Percentage of 399 out of 500 is: 79.80000000000001\n"
     ]
    }
   ],
   "source": [
    "# Create a class for Students information like name, rollno, marks and school name with static variable.\n",
    "class Student:\n",
    "    College = 'Innomatics' # College is static variable.\n",
    "    \n",
    "    def __init__(self,name,idno,marks): # name, idno and marks are instance varibles\n",
    "        self.name = name\n",
    "        self.idno = idno\n",
    "        self.marks =marks\n",
    "        \n",
    "    def strudent_info(self): # defining a function to print the student details.\n",
    "        print(f'Name: {self.name}, RollNo: {self.idno}, MarksL {self.marks}, College: {self.College}')\n",
    "        self.d = {'name': self.name, 'rno': self.idno, 'marks': self.marks}\n",
    "        print(\"Dictionary: \",self.d)\n",
    "        \n",
    "    def student_marks(self): # defining a function to calculate the percentage based on the marks and printing the percentage.\n",
    "        self.percentage = (self.marks / 500) * 100\n",
    "        print(f'Percentage of {self.marks} out of 500 is: {self.percentage}')\n",
    "# creating an object to call the methods defined in the class.        \n",
    "std = Student('Rekha',10,399)\n",
    "std.strudent_info()\n",
    "std.student_marks()"
   ]
  },
  {
   "cell_type": "markdown",
   "metadata": {
    "id": "x-zGvkOi_9PD"
   },
   "source": [
    "## 7. Create a child class `Bus` that will inherit all of the variables and methods of the `Vehicle` class"
   ]
  },
  {
   "cell_type": "code",
   "execution_count": null,
   "metadata": {
    "id": "5IppTc73__tp"
   },
   "outputs": [],
   "source": [
    "#  Create a child class Bus that will inherit all of the variables and methods of the Vehicle class"
   ]
  },
  {
   "cell_type": "code",
   "execution_count": 41,
   "metadata": {
    "colab": {
     "base_uri": "https://localhost:8080/"
    },
    "id": "Qf4ZRcg8ADOq",
    "outputId": "36f05d4e-d177-4b0a-f60d-85df44b22756"
   },
   "outputs": [
    {
     "name": "stdout",
     "output_type": "stream",
     "text": [
      "Vehicle is a Paarent class\n",
      "Bus is Child class which inherits the variables and functions from the parent class\n",
      "Vehicle name: School Van speed: 180 Mileage: 12\n",
      "Number Of Passengers: 40\n"
     ]
    }
   ],
   "source": [
    "class Vehicle:\n",
    "    print(\"Vehicle is a Paarent class\")\n",
    "    def __init__(self, v_name, v_speed, mileage):\n",
    "        self.v_name = v_name\n",
    "        self.v_speed = v_speed\n",
    "        self.mileage = mileage\n",
    "    def v_display(self):\n",
    "        print(f'Vehicle name: {self.v_name} speed: {self.v_speed} Mileage: {self.mileage}')\n",
    "\n",
    "class Bus(Vehicle):\n",
    "    print(\"Bus is Child class which inherits the variables and functions from the parent class\")\n",
    "    def __init__(self, v_name, v_speed, mileage, number_of_passengers):\n",
    "        super().__init__(v_name, v_speed, mileage)\n",
    "        self.number_of_passengers = number_of_passengers\n",
    "\n",
    "    def v_display(self):\n",
    "        super().v_display()\n",
    "        print(f\"Number Of Passengers: {self.number_of_passengers}\")\n",
    "\n",
    "b = Bus(\"School Van\", 180, 12, 40)\n",
    "b.v_display()"
   ]
  },
  {
   "cell_type": "markdown",
   "metadata": {
    "id": "Cex1VHlicvR0"
   },
   "source": [
    "## 8. Create a class `Employee` with two arguments `name and salary`\n",
    "- create a function which displays the employee information\n",
    "- Print total number of employees "
   ]
  },
  {
   "cell_type": "code",
   "execution_count": 1,
   "metadata": {
    "colab": {
     "base_uri": "https://localhost:8080/"
    },
    "id": "BcTNOVUiAIn7",
    "outputId": "eada07d0-cb16-4b0c-bdca-a1b360ad24b7"
   },
   "outputs": [
    {
     "name": "stdout",
     "output_type": "stream",
     "text": [
      "This is an Employee class\n",
      "Name:Zara, Salary: 2000\n",
      "Name:Manni, Salary: 5000\n",
      "Total number of Employees 2\n"
     ]
    }
   ],
   "source": [
    "# Create a class Employee with two arguments name and salary.\n",
    "class Employee:\n",
    "    print(\"This is an Employee class\")\n",
    "    emp_count = 0 #\n",
    "    def __init__(self,name,salary):\n",
    "        self.name = name\n",
    "        self.salary = salary\n",
    "        Employee.emp_count += 1\n",
    "    def emp_display(self):\n",
    "        print(f'Name:{self.name}, Salary: {self.salary}')\n",
    "\n",
    "emp1 = Employee('Zara', 2000)\n",
    "emp2 = Employee('Manni', 5000)\n",
    "emp1.emp_display()\n",
    "emp2.emp_display()\n",
    "print(\"Total number of Employees\",Employee.emp_count)"
   ]
  },
  {
   "cell_type": "code",
   "execution_count": null,
   "metadata": {
    "id": "BmFF6kFScPGl"
   },
   "outputs": [],
   "source": []
  }
 ],
 "metadata": {
  "colab": {
   "collapsed_sections": [],
   "name": "Class_Object_Asignment.ipynb",
   "provenance": []
  },
  "kernelspec": {
   "display_name": "Python 3 (ipykernel)",
   "language": "python",
   "name": "python3"
  },
  "language_info": {
   "codemirror_mode": {
    "name": "ipython",
    "version": 3
   },
   "file_extension": ".py",
   "mimetype": "text/x-python",
   "name": "python",
   "nbconvert_exporter": "python",
   "pygments_lexer": "ipython3",
   "version": "3.9.13"
  }
 },
 "nbformat": 4,
 "nbformat_minor": 1
}
