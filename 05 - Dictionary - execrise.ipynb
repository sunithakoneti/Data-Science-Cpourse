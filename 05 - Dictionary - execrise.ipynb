{
 "cells": [
  {
   "cell_type": "markdown",
   "metadata": {},
   "source": [
    "# Assignment Instructions\n",
    "\n",
    "`Hello Innominion,`\n",
    "\n",
    "- **Try to attempt all the questions in every possible way.**\n",
    "- **Some other topics are required to solve some questions. don't panic.**\n",
    "- **Those questions can be answered after the topics are taught.**\n",
    "\n",
    "\n",
    "- `Join Mentoring Session for the Support/Doubts Resolving with Our Technical Mentors (2.00 PM - 6.00 PM  Mon-Sat)` \n",
    "\n",
    "Happy Learning !!!"
   ]
  },
  {
   "cell_type": "markdown",
   "metadata": {},
   "source": [
    "###  Dictionary"
   ]
  },
  {
   "cell_type": "markdown",
   "metadata": {},
   "source": [
    "**`Question :`Create Dictionary for following information as \"person1\":**\n",
    "   - Name = John\n",
    "   - Gender= Male\n",
    "   - Occupation = Data Scientist\n",
    "   - Location  = Nizampet, Hyderabad"
   ]
  },
  {
   "cell_type": "code",
   "execution_count": 1,
   "metadata": {},
   "outputs": [],
   "source": [
    "# Creating a Dictionary for the following information as \"person1\":\n",
    "\n",
    "person1 = { 'Name' : 'John',\n",
    "            'Gender': 'Male',\n",
    "            'Occupation' : 'Data Scientist',\n",
    "           \n",
    "            'Location' : 'Nizampet , Hyderabad'}"
   ]
  },
  {
   "cell_type": "code",
   "execution_count": 2,
   "metadata": {},
   "outputs": [
    {
     "data": {
      "text/plain": [
       "{'Name': 'John',\n",
       " 'Gender': 'Male',\n",
       " 'Occupation': 'Data Scientist',\n",
       " 'Location': 'Nizampet , Hyderabad'}"
      ]
     },
     "execution_count": 2,
     "metadata": {},
     "output_type": "execute_result"
    }
   ],
   "source": [
    "person1 # calling the function"
   ]
  },
  {
   "cell_type": "markdown",
   "metadata": {},
   "source": [
    "> print keys in person1 as a list"
   ]
  },
  {
   "cell_type": "code",
   "execution_count": 6,
   "metadata": {},
   "outputs": [],
   "source": [
    "# print keys in person1 as a list\n",
    "\n",
    "# creating a dictionary \n",
    "person1 = { 'Name' : 'John',\n",
    "            'Gender': 'Male',\n",
    "            'Occupation' : 'Data Scientist',\n",
    "            'Location' : 'Nizampet , Hyderabad'}"
   ]
  },
  {
   "cell_type": "code",
   "execution_count": 7,
   "metadata": {},
   "outputs": [
    {
     "data": {
      "text/plain": [
       "{'Gender', 'Location', 'Name', 'Occupation'}"
      ]
     },
     "execution_count": 7,
     "metadata": {},
     "output_type": "execute_result"
    }
   ],
   "source": [
    "l = person1.keys() # by using keys() method assigning all the keys to the list\n",
    "l1 = set(l) # changing the list of keys into set\n",
    "l1"
   ]
  },
  {
   "cell_type": "markdown",
   "metadata": {},
   "source": [
    "> **`Question:` Remove Location in person1**"
   ]
  },
  {
   "cell_type": "code",
   "execution_count": 40,
   "metadata": {},
   "outputs": [],
   "source": [
    "# Remove Location in person1\n",
    "\n",
    "# Creating a dictionary \n",
    "\n",
    "person1 = { 'Age' : 27,\n",
    "            'Name' : 'John',\n",
    "            'Gender': 'Male',\n",
    "            'Occupation' : 'Data Scientist',\n",
    "            'Location' : 'Nizampet , Hyderabad'}"
   ]
  },
  {
   "cell_type": "code",
   "execution_count": 77,
   "metadata": {},
   "outputs": [
    {
     "name": "stdout",
     "output_type": "stream",
     "text": [
      "{'Age' : 27 ,\n",
      "'Name' : ' John ',\n",
      "'Gender': ' Male ',\n",
      "'Occupation' : ' Data Scientist '}\n"
     ]
    }
   ],
   "source": [
    "d = person1.pop('Location') # Removing Location information from the dictionary the 'Location' key\n",
    " #print(person1,end=\"\")\n",
    "# Printing the dictionary in the following format\n",
    "print(\"{'Age' :\",person1['Age'],\",\\n'Name' : '\",person1['Name'],\"',\\n'Gender': '\",person1['Gender'],\"',\\n'Occupation' : '\",person1['Occupation'],\"'}\")"
   ]
  },
  {
   "cell_type": "code",
   "execution_count": 41,
   "metadata": {},
   "outputs": [
    {
     "data": {
      "text/plain": [
       "{'Age': 27, 'Name': 'John', 'Gender': 'Male', 'Occupation': 'Data Scientist'}"
      ]
     },
     "execution_count": 41,
     "metadata": {},
     "output_type": "execute_result"
    }
   ],
   "source": [
    "# Method 2\n",
    "person1.pop('Location') # Removing Location information from the dictionary the 'Location' key\n",
    " #print(person1,end=\"\")\n",
    "person1"
   ]
  },
  {
   "cell_type": "code",
   "execution_count": 38,
   "metadata": {},
   "outputs": [],
   "source": [
    "# calling the dictionary in the following format\n",
    "person1 = {'Age' : person1['Age'],\n",
    "            'Name' : person1['Name'],\n",
    "            'Gender' : person1['Gender'],\n",
    "            'Occupation' : person1['Occupation']}    \n",
    "\n"
   ]
  },
  {
   "cell_type": "code",
   "execution_count": 39,
   "metadata": {},
   "outputs": [
    {
     "data": {
      "text/plain": [
       "{'Age': 27, 'Name': 'John', 'Gender': 'Male', 'Occupation': 'Data Scientist'}"
      ]
     },
     "execution_count": 39,
     "metadata": {},
     "output_type": "execute_result"
    }
   ],
   "source": [
    "person1"
   ]
  },
  {
   "cell_type": "markdown",
   "metadata": {},
   "source": [
    "> **`Question:` Create dictionary of person2 with**\n",
    "- Name  = Raghu Ram\n",
    "- Gender = Male\n",
    "- Age  = 25\n",
    "- Occupation = Data Scienctist"
   ]
  },
  {
   "cell_type": "code",
   "execution_count": 24,
   "metadata": {},
   "outputs": [],
   "source": [
    "#  Create dictionary of person2 with\n",
    "\n",
    "person2 = { 'Name' : 'Raghu Ram',\n",
    "            'Gender': 'Male',\n",
    "            'Age' : 25,\n",
    "            'Occupation' : 'Data Scientist'}"
   ]
  },
  {
   "cell_type": "code",
   "execution_count": 25,
   "metadata": {},
   "outputs": [],
   "source": [
    "# displaying the dictionary in the following format\n",
    "\n",
    "person2 = {'Age': person2['Age'],\n",
    "            'Name': person2['Name'],\n",
    "            'Gender': person2['Gender'],\n",
    "            'Occupation': person2['Occupation']}"
   ]
  },
  {
   "cell_type": "code",
   "execution_count": 42,
   "metadata": {},
   "outputs": [
    {
     "data": {
      "text/plain": [
       "{'Age': 25,\n",
       " 'Name': 'Raghu Ram',\n",
       " 'Gender': 'Male',\n",
       " 'Occupation': 'Data Scientist'}"
      ]
     },
     "execution_count": 42,
     "metadata": {},
     "output_type": "execute_result"
    }
   ],
   "source": [
    "person2 # calling function"
   ]
  },
  {
   "cell_type": "markdown",
   "metadata": {},
   "source": [
    "> **`Question:` Print the output as show below**"
   ]
  },
  {
   "cell_type": "code",
   "execution_count": 43,
   "metadata": {},
   "outputs": [
    {
     "name": "stdout",
     "output_type": "stream",
     "text": [
      "============================================ person1 ========================================================\n",
      "{'Gender': 'Male', 'Location': 'Nizampet, Hyderabad', 'Name': 'John', 'Occupation': 'Data Scientist'}\n",
      "============================================ person2 ========================================================\n",
      "{'Age': 25, 'Gender': 'Male', 'Name': 'Raghu Ram', 'Occupation': 'Data Scientist'}\n"
     ]
    }
   ],
   "source": [
    "# Print the output as show below\n",
    "person1 = {'Gender': 'Male', 'Location': 'Nizampet, Hyderabad', 'Name': 'John', 'Occupation': 'Data Scientist'}\n",
    "\n",
    "person2 = {'Age': 25, 'Gender': 'Male', 'Name': 'Raghu Ram', 'Occupation': 'Data Scientist'}\n",
    "\n",
    "print(\"============================================ person1 ========================================================\")\n",
    "print(person1)\n",
    "print(\"============================================ person2 ========================================================\")\n",
    "print(person2)"
   ]
  },
  {
   "cell_type": "markdown",
   "metadata": {},
   "source": [
    "# create a dictionary\n",
    "#### `Question:` remove the elements from that dictionary using different methods\n",
    "{1: 1, 2: 4, 3: 9, 4: 16, 5: 25,6:36,7:49}"
   ]
  },
  {
   "cell_type": "code",
   "execution_count": 38,
   "metadata": {},
   "outputs": [
    {
     "data": {
      "text/plain": [
       "9"
      ]
     },
     "execution_count": 38,
     "metadata": {},
     "output_type": "execute_result"
    }
   ],
   "source": [
    "#  remove the elements from that dictionary using different methods\n",
    "# method1\n",
    "\n",
    "d = {1: 1, 2: 4, 3: 9, 4: 16, 5: 25,6:36,7:49}\n",
    "\n",
    "del(d[4]) # deletes the key-value pair with key 4\n",
    " \n",
    "d.pop(3) # removes the key-value pair with key 3 and returns the value\n"
   ]
  },
  {
   "cell_type": "code",
   "execution_count": 39,
   "metadata": {},
   "outputs": [
    {
     "data": {
      "text/plain": [
       "{1: 1, 2: 4, 5: 25, 6: 36, 7: 49}"
      ]
     },
     "execution_count": 39,
     "metadata": {},
     "output_type": "execute_result"
    }
   ],
   "source": [
    "d # callin dictionary"
   ]
  },
  {
   "cell_type": "markdown",
   "metadata": {},
   "source": [
    "\n",
    "### `Question:` print the values from the given dictionary in descending order\n",
    "{0: 0, 1: 1, 3: 9, 5: 25, 7: 49, 9: 81}"
   ]
  },
  {
   "cell_type": "code",
   "execution_count": 48,
   "metadata": {},
   "outputs": [
    {
     "name": "stdout",
     "output_type": "stream",
     "text": [
      "[81, 49, 25, 9, 1, 0]\n"
     ]
    }
   ],
   "source": [
    "# print the values from the given dictionary in descending order\n",
    "\n",
    "dic = {0: 0, 1: 1, 3: 9, 5: 25, 7: 49, 9: 81}\n",
    "val = dic.values() # assigning dictionary values to \"values\"\n",
    "sorted_values = sorted(val, reverse=True # sorting the dictionary values using sorted() method\n",
    "print(sorted_values) # printing the values in descending order"
   ]
  },
  {
   "cell_type": "markdown",
   "metadata": {},
   "source": [
    "### `Question:` merge the below 3 dictionaries\n",
    "dict1 = { 'a': 1, 'b': 2 }\n",
    "dict2 = { 'b': 3, 'c': 4 }\n",
    "dict3 = { 'c': 5, 'd': 6 }"
   ]
  },
  {
   "cell_type": "code",
   "execution_count": 49,
   "metadata": {},
   "outputs": [],
   "source": [
    "# merge the below 3 dictionaries\n",
    "\n",
    "# creating three dictionaries\n",
    "\n",
    "dict1 = { 'a': 1, 'b': 2 } \n",
    "dict2 = { 'b': 3, 'c': 4 }\n",
    "dict3 = { 'c': 5, 'd': 6 }"
   ]
  },
  {
   "cell_type": "code",
   "execution_count": 59,
   "metadata": {},
   "outputs": [
    {
     "name": "stdout",
     "output_type": "stream",
     "text": [
      "{'a': 1, 'b': 3, 'c': 5, 'd': 6}\n"
     ]
    }
   ],
   "source": [
    "dict1.update(dict2) # updating dict1 with dict2 using update() method\n",
    "dict1.update(dict3) # updating dict1 again with dict3 using update() method\n",
    "\n",
    "print(dict1)\n"
   ]
  },
  {
   "cell_type": "markdown",
   "metadata": {},
   "source": [
    "**`Question:` change Charan’s salary to 8500 in the following dictionary**"
   ]
  },
  {
   "cell_type": "raw",
   "metadata": {},
   "source": [
    " #change Charan’s salary to 8500 in the following dictionary# \n",
    "sample_dict = {\n",
    "    'emp1': {'name': 'Jhony', 'salary': 7500},\n",
    "    'emp2': {'name': 'Ravi', 'salary': 8000},\n",
    "    'emp3': {'name': 'Charan', 'salary': 6500}\n",
    "}"
   ]
  },
  {
   "cell_type": "code",
   "execution_count": 2,
   "metadata": {},
   "outputs": [
    {
     "data": {
      "text/plain": [
       "{'emp1': {'name': 'Jhony', 'salary': 7500},\n",
       " 'emp2': {'name': 'Ravi', 'salary': 8000},\n",
       " 'emp3': {'name': 'Charan', 'salary': 8500}}"
      ]
     },
     "execution_count": 2,
     "metadata": {},
     "output_type": "execute_result"
    }
   ],
   "source": [
    "# change Charan’s salary to 8500 in the following dictionary\n",
    "sample_dict = {\n",
    "    'emp1': {'name': 'Jhony', 'salary': 7500},\n",
    "    'emp2': {'name': 'Ravi', 'salary': 8000},  # ctreating dictionary with three employees details\n",
    "    'emp3': {'name': 'Charan', 'salary': 6500}\n",
    "}\n",
    "\n",
    "# By using for loop and if condition changes charan's salary from 6500 to 8500\n",
    "\n",
    "for emp in sample_dict.values():\n",
    "    if emp['name'] == 'Charan':\n",
    "        emp['salary'] = 8500\n",
    "        \n",
    "# print all employeees details in the following format after updating charan's salary\n",
    "sample_dict =  {\n",
    "    'emp1': {'name': sample_dict['emp1']['name'], 'salary': sample_dict['emp1']['salary']},\n",
    "    'emp2': {'name': sample_dict['emp2']['name'], 'salary': sample_dict['emp2']['salary']},\n",
    "    'emp3': {'name': sample_dict['emp3']['name'], 'salary': sample_dict['emp3']['salary']}\n",
    "}\n",
    "sample_dict"
   ]
  },
  {
   "cell_type": "markdown",
   "metadata": {},
   "source": [
    "**`Question:` Print the value of key ‘history’ from the below dict**"
   ]
  },
  {
   "cell_type": "raw",
   "metadata": {},
   "source": [
    "sampleDict = {\n",
    "    \"class\": {\n",
    "        \"student\": {\n",
    "            \"name\": \"Mike\",\n",
    "            \"marks\": {\n",
    "                \"physics\": 70,\n",
    "                \"history\": 80\n",
    "            }\n",
    "        }\n",
    "    }\n",
    "}"
   ]
  },
  {
   "cell_type": "code",
   "execution_count": 78,
   "metadata": {},
   "outputs": [],
   "source": [
    "# Print the value of key ‘history’ from the below dict\n",
    "\n",
    "sampleDict = {\n",
    "    \"class\": {\n",
    "        \"student\": {\n",
    "            \"name\": \"Mike\",\n",
    "            \"marks\": {\n",
    "                \"physics\": 70,\n",
    "                \"history\": 80\n",
    "            }\n",
    "        }\n",
    "    }\n",
    "}"
   ]
  },
  {
   "cell_type": "code",
   "execution_count": 3,
   "metadata": {},
   "outputs": [
    {
     "ename": "NameError",
     "evalue": "name 'sampleDict' is not defined",
     "output_type": "error",
     "traceback": [
      "\u001b[1;31m---------------------------------------------------------------------------\u001b[0m",
      "\u001b[1;31mNameError\u001b[0m                                 Traceback (most recent call last)",
      "\u001b[1;32m~\\AppData\\Local\\Temp\\ipykernel_13444\\2523411744.py\u001b[0m in \u001b[0;36m<module>\u001b[1;34m\u001b[0m\n\u001b[0;32m      1\u001b[0m \u001b[1;31m# Based on the keys extracting history marks\u001b[0m\u001b[1;33m\u001b[0m\u001b[1;33m\u001b[0m\u001b[0m\n\u001b[0;32m      2\u001b[0m \u001b[1;33m\u001b[0m\u001b[0m\n\u001b[1;32m----> 3\u001b[1;33m \u001b[0mprint\u001b[0m\u001b[1;33m(\u001b[0m\u001b[0msampleDict\u001b[0m\u001b[1;33m[\u001b[0m\u001b[1;34m'class'\u001b[0m\u001b[1;33m]\u001b[0m\u001b[1;33m[\u001b[0m\u001b[1;34m'student'\u001b[0m\u001b[1;33m]\u001b[0m\u001b[1;33m[\u001b[0m\u001b[1;34m'marks'\u001b[0m\u001b[1;33m]\u001b[0m\u001b[1;33m[\u001b[0m\u001b[1;34m'history'\u001b[0m\u001b[1;33m]\u001b[0m\u001b[1;33m)\u001b[0m\u001b[1;33m\u001b[0m\u001b[1;33m\u001b[0m\u001b[0m\n\u001b[0m",
      "\u001b[1;31mNameError\u001b[0m: name 'sampleDict' is not defined"
     ]
    }
   ],
   "source": [
    "# Based on the keys extracting history marks\n",
    "\n",
    "print(sampleDict['class']['student']['marks']['history']) "
   ]
  },
  {
   "cell_type": "markdown",
   "metadata": {},
   "source": [
    "**`Question:` Rename a key Location to a Area in the following dictionary**"
   ]
  },
  {
   "cell_type": "raw",
   "metadata": {},
   "source": [
    "{'Gender': 'Male',\n",
    " 'Location': 'Nizampet, Hyderabad',\n",
    " 'Name': 'John',\n",
    " 'Occupation': 'Data Scientist'}"
   ]
  },
  {
   "cell_type": "code",
   "execution_count": 96,
   "metadata": {},
   "outputs": [],
   "source": [
    "#  Rename a key Location to a Area in the following dictionary\n",
    "\n",
    "sample ={'Gender': 'Male',\n",
    "         'Location': 'Nizampet, Hyderabad',\n",
    "         'Name': 'John',\n",
    "         'Occupation': 'Data Scientist'}"
   ]
  },
  {
   "cell_type": "code",
   "execution_count": 97,
   "metadata": {},
   "outputs": [],
   "source": [
    "if 'Location' in sample:  # changing 'Location' key with 'Area'\n",
    "    sample['Area'] = sample.pop('Location')\n",
    "else:\n",
    "    print(\"Key 'Location' not found in the dictionary.\")"
   ]
  },
  {
   "cell_type": "code",
   "execution_count": 98,
   "metadata": {},
   "outputs": [
    {
     "data": {
      "text/plain": [
       "{'Gender': 'Male',\n",
       " 'Name': 'John',\n",
       " 'Occupation': 'Data Scientist',\n",
       " 'Area': 'Nizampet, Hyderabad'}"
      ]
     },
     "execution_count": 98,
     "metadata": {},
     "output_type": "execute_result"
    }
   ],
   "source": [
    "sample"
   ]
  },
  {
   "cell_type": "markdown",
   "metadata": {},
   "source": [
    "## Tasks"
   ]
  },
  {
   "cell_type": "code",
   "execution_count": 34,
   "metadata": {},
   "outputs": [
    {
     "name": "stdout",
     "output_type": "stream",
     "text": [
      "please Enter user name : gopi\n",
      "Enter your password : 5432\n",
      "Invalid username or password\n"
     ]
    }
   ],
   "source": [
    "#  if the username and password matches print hello username\n",
    "\n",
    "# Creating database\n",
    "database = {'ram':1234,\n",
    "            'raghu':5678,\n",
    "            'kanav':1357}\n",
    "\n",
    "# Taking input from the user\n",
    "\n",
    "user_name = input(\"please Enter user name : \") \n",
    "password = int(input(\"Enter your password : \"))\n",
    "\n",
    "# check the given input with the database, if found the database display \"hello username\"\n",
    "if user_name in database and database[user_name] == password:\n",
    "    print(\"Hello \" + user_name)\n",
    "else: # if the input is not in the database ssy \"invalid output\"\n",
    "    print(\"Invalid username or password\")        "
   ]
  },
  {
   "cell_type": "code",
   "execution_count": 35,
   "metadata": {},
   "outputs": [
    {
     "name": "stdout",
     "output_type": "stream",
     "text": [
      "Invalid username or password. Do you want to add this user to the database (yes/no)? yes\n",
      "User added to the database.\n"
     ]
    }
   ],
   "source": [
    "# if the username and password doesnot match, ask, you want me to add into the database\n",
    "\n",
    "# if user wants to add the input given by him ask for confirmation yes/no\n",
    "add_to_database = input(\"Invalid username or password. Do you want to add this user to the database (yes/no)? \")\n",
    "\n",
    "if add_to_database.lower() == 'yes': # if yes add the input given by user to database \n",
    "    database[user_name] = password\n",
    "    print(\"User added to the database.\")\n",
    "else:\n",
    "    print(\"Access denied.\")\n",
    "\n",
    "    "
   ]
  },
  {
   "cell_type": "code",
   "execution_count": 36,
   "metadata": {},
   "outputs": [
    {
     "data": {
      "text/plain": [
       "{'ram': 1234, 'raghu': 5678, 'kanav': 1357, 'gopi': 5432}"
      ]
     },
     "execution_count": 36,
     "metadata": {},
     "output_type": "execute_result"
    }
   ],
   "source": [
    "#   calling updated database\n",
    "database\n"
   ]
  },
  {
   "cell_type": "markdown",
   "metadata": {},
   "source": [
    "**`Question:` database = {'ram':1234,'raghu':5678,'kanav':1357}**\n",
    "## Tasks :-\n",
    "### 1. if the username and password matches print hello username\n",
    "### 2. if the username and password doesnot match, ask, you want me to add into the database\n",
    "### 3. show the updated database list\n"
   ]
  },
  {
   "cell_type": "markdown",
   "metadata": {},
   "source": [
    "# [Innomatics Research Labs](https:/innomatics.in/)\n",
    "[www.innomatics.in](https:/innomatics.in/)"
   ]
  },
  {
   "cell_type": "code",
   "execution_count": null,
   "metadata": {},
   "outputs": [],
   "source": []
  }
 ],
 "metadata": {
  "kernelspec": {
   "display_name": "Python 3 (ipykernel)",
   "language": "python",
   "name": "python3"
  },
  "language_info": {
   "codemirror_mode": {
    "name": "ipython",
    "version": 3
   },
   "file_extension": ".py",
   "mimetype": "text/x-python",
   "name": "python",
   "nbconvert_exporter": "python",
   "pygments_lexer": "ipython3",
   "version": "3.9.13"
  }
 },
 "nbformat": 4,
 "nbformat_minor": 2
}
