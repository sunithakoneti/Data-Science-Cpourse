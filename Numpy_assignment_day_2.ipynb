{
 "cells": [
  {
   "cell_type": "markdown",
   "metadata": {
    "id": "KRH0lpS88abX"
   },
   "source": [
    "### NumPy Exercises\n",
    "##### Now that we've learned about NumPy let's test your knowledge. We'll start off with a few simple tasks and then you'll be asked some more complicated questions.\n",
    "##### IMPORTANT NOTE! Make sure you don't run the cells directly above the example output shown, otherwise you will end up writing over the example output!"
   ]
  },
  {
   "cell_type": "markdown",
   "metadata": {
    "id": "9KzpS47XBTWm"
   },
   "source": [
    "##### import numpy as np\n"
   ]
  },
  {
   "cell_type": "code",
   "execution_count": 2,
   "metadata": {},
   "outputs": [],
   "source": [
    "import numpy as np"
   ]
  },
  {
   "cell_type": "markdown",
   "metadata": {
    "id": "V6ntuSvDBZ2G"
   },
   "source": [
    "###### 1. Write a NumPy program to find the missing data in a given array."
   ]
  },
  {
   "cell_type": "code",
   "execution_count": 8,
   "metadata": {
    "id": "Z94k4mpaBClu"
   },
   "outputs": [
    {
     "name": "stdout",
     "output_type": "stream",
     "text": [
      "Original array: \n",
      "[[ 3.  3. nan  1.]\n",
      " [10. 12. 10.  9.]\n",
      " [ 5. nan  1. nan]]\n",
      "Find the missing data of the said array: \n",
      "[[False False  True False]\n",
      " [False False False False]\n",
      " [False  True False  True]]\n"
     ]
    }
   ],
   "source": [
    "### Write a NumPy program to find the missing data in a given array.\n",
    "arr = np.array([[3,3,np.nan,1],[10,12,10,9],[5,np.nan,1,np.nan]])\n",
    "print(\"Original array: \")\n",
    "print(arr)\n",
    "mask = np.isnan(arr)\n",
    "mask\n",
    "print(\"Find the missing data of the said array: \")\n",
    "print(mask)\n",
    "\n"
   ]
  },
  {
   "cell_type": "markdown",
   "metadata": {
    "id": "jT038BYtB0la"
   },
   "source": [
    "##### 2. Write a NumPy program to check whether two arrays are equal (element wise) or not."
   ]
  },
  {
   "cell_type": "code",
   "execution_count": 65,
   "metadata": {
    "id": "0aJczGNjBfL1"
   },
   "outputs": [
    {
     "name": "stdout",
     "output_type": "stream",
     "text": [
      "Both the arrays have equal elements\n"
     ]
    }
   ],
   "source": [
    "### Write a NumPy program to check whether two arrays are equal (element wise) or not\n",
    "arr = np.arange(0,6).reshape(2,3)\n",
    "arr1 = np.arange(0,6).reshape(2,3)\n",
    "if np.array_equal(arr,arr1):\n",
    "    print(\"Both the arrays have equal elements\")\n",
    "else:\n",
    "    print(\"Arrays are not equal\")\n"
   ]
  },
  {
   "cell_type": "markdown",
   "metadata": {
    "id": "XhX1H1M_CI7S"
   },
   "source": [
    "###### 3. Write a NumPy program to create a 4x4 array with random values, now create a new array from the said array swapping first and last rows."
   ]
  },
  {
   "cell_type": "code",
   "execution_count": 28,
   "metadata": {
    "id": "3HazIhbtBfOq"
   },
   "outputs": [
    {
     "name": "stdout",
     "output_type": "stream",
     "text": [
      "Original array : \n",
      "[[ 1 13  2  9]\n",
      " [ 5  4  4  2]\n",
      " [ 0  7  1  9]\n",
      " [ 6 10  3  0]]\n",
      "New array after swapping first rows of the said array : \n",
      "[[ 6 10  3  0]\n",
      " [ 5  4  4  2]\n",
      " [ 0  7  1  9]\n",
      " [ 1 13  2  9]]\n"
     ]
    }
   ],
   "source": [
    "## Write a NumPy program to create a 4x4 array with random values, now create a new array from the said array swapping first and\n",
    "# last rows.\n",
    "arr = np.random.randint(0,15,(4,4))\n",
    "print(\"Original array : \")\n",
    "print(arr)\n",
    "new_arr = np.copy(arr)\n",
    "new_arr[0], new_arr[-1] = new_arr[-1], new_arr[0]\n",
    "new_arr1 = np.copy(new_arr)\n",
    "new_arr1[-1], new_arr1[0] = arr[0], arr[-1]\n",
    "print(\"New array after swapping first rows of the said array : \")\n",
    "print(new_arr1)\n"
   ]
  },
  {
   "cell_type": "code",
   "execution_count": 62,
   "metadata": {
    "colab": {
     "base_uri": "https://localhost:8080/"
    },
    "id": "FFNk8me9BfRL",
    "outputId": "10d0f2d3-97b5-4a46-ff16-44136e72c9d9"
   },
   "outputs": [
    {
     "name": "stdout",
     "output_type": "stream",
     "text": [
      "Original array: \n",
      "[[ 0  1  2  3]\n",
      " [ 4  5  6  7]\n",
      " [ 8  9 10 11]\n",
      " [12 13 14 15]]\n",
      "New array after swapping first rows of the said array : \n",
      "[[12 13 14 15]\n",
      " [ 4  5  6  7]\n",
      " [ 8  9 10 11]\n",
      " [ 0  1  2  3]]\n"
     ]
    }
   ],
   "source": [
    "## method 2\n",
    "arr =np.arange(0,16).reshape(4,4)\n",
    "print(\"Original array: \")\n",
    "print(arr)\n",
    "arr1 = np.copy(arr)\n",
    "arr1[0] = arr[3]\n",
    "arr2 = np.copy(arr1)\n",
    "arr2[3] = arr[0]\n",
    "print(\"New array after swapping first rows of the said array : \")\n",
    "print(arr2)\n"
   ]
  },
  {
   "cell_type": "markdown",
   "metadata": {
    "id": "BYgy22u_kqsB"
   },
   "source": [
    "###### 4. Write a NumPy program to convert a list and tuple into arrays."
   ]
  },
  {
   "cell_type": "code",
   "execution_count": 31,
   "metadata": {
    "id": "Hgmgw7J2BfUQ"
   },
   "outputs": [
    {
     "name": "stdout",
     "output_type": "stream",
     "text": [
      "Array from list: [1 2 3 4 5]\n",
      "Array from tuple: [ 6  7  8  9 10]\n"
     ]
    }
   ],
   "source": [
    "### Write a NumPy program to convert a list and tuple into arrays.\n",
    "# Convert a list into a NumPy array\n",
    "list1 = [1, 2, 3, 4, 5]\n",
    "array1 = np.array(list1)\n",
    "print(\"Array from list:\", array1)\n",
    "\n",
    "# Convert a tuple into a NumPy array\n",
    "tuple1 = (6, 7, 8, 9, 10)\n",
    "array2 = np.array(tuple1)\n",
    "print(\"Array from tuple:\", array2)"
   ]
  },
  {
   "cell_type": "markdown",
   "metadata": {
    "id": "jzp2hg44k5O0"
   },
   "source": [
    "###### 5. Write a NumPy program to find common values between two arrays."
   ]
  },
  {
   "cell_type": "code",
   "execution_count": 38,
   "metadata": {},
   "outputs": [
    {
     "name": "stdout",
     "output_type": "stream",
     "text": [
      "2\n",
      "2\n",
      "3\n",
      "3\n",
      "4\n",
      "4\n",
      "5\n",
      "6\n"
     ]
    }
   ],
   "source": [
    "### Write a NumPy program to find common values between two arrays\n",
    "\n",
    "arr = np.array([[1,2,3],[4,5,6]])\n",
    "arr1 = np.array([[4,3,2],[2,3,4],[5,6,7]])\n",
    "for i in np.nditer(arr):\n",
    "    for j in np.nditer(arr1):\n",
    "        if i == j:\n",
    "            print(j)"
   ]
  },
  {
   "cell_type": "code",
   "execution_count": 36,
   "metadata": {
    "id": "1QMJVl3LBfWm"
   },
   "outputs": [
    {
     "name": "stdout",
     "output_type": "stream",
     "text": [
      "[[10 12  5]\n",
      " [13  9 11]\n",
      " [ 1  8 11]]\n",
      "[[10 10  5]\n",
      " [ 9 10  2]\n",
      " [ 2  8  0]]\n",
      "10\n",
      "10\n",
      "10\n",
      "5\n",
      "9\n",
      "8\n"
     ]
    }
   ],
   "source": [
    "### Method 2\n",
    "arr = np.random.randint(0,15,(3,3))\n",
    "arr1 = np.random.randint(0,15,(3,3))\n",
    "print(arr)\n",
    "print(arr1)\n",
    "for i in np.nditer(arr):\n",
    "    for j in np.nditer(arr1):\n",
    "        if i == j:\n",
    "            print(j)"
   ]
  },
  {
   "cell_type": "markdown",
   "metadata": {
    "id": "Llt6X9k66TMD"
   },
   "source": [
    "###### 6. Write a NumPy program to create a new shape to an array without changing its data."
   ]
  },
  {
   "cell_type": "code",
   "execution_count": 43,
   "metadata": {
    "id": "rNh8SssUBfZQ"
   },
   "outputs": [
    {
     "name": "stdout",
     "output_type": "stream",
     "text": [
      "Reshape 3x2: \n",
      "[[1 2]\n",
      " [3 4]\n",
      " [4 5]]\n",
      "Reshape 2x3: \n",
      "[[1 2 3]\n",
      " [4 4 5]]\n"
     ]
    }
   ],
   "source": [
    "### Write a NumPy program to create a new shape to an array without changing its data.\n",
    "arr = np.array([[1,2],[3,4],[4,5]])\n",
    "print(\"Reshape 3x2: \")\n",
    "print(arr)\n",
    "arr1 = np.reshape(arr,(2,3))\n",
    "print(\"Reshape 2x3: \")\n",
    "print(arr1)"
   ]
  },
  {
   "cell_type": "code",
   "execution_count": 44,
   "metadata": {},
   "outputs": [
    {
     "name": "stdout",
     "output_type": "stream",
     "text": [
      "Reshape 2x10: \n",
      "[[11 17  4 19  6 18  7  2  6 13]\n",
      " [11 18 18 14 16  4  2 14  7  5]]\n",
      "Reshape 4x5: \n",
      "[[11 17  4 19  6]\n",
      " [18  7  2  6 13]\n",
      " [11 18 18 14 16]\n",
      " [ 4  2 14  7  5]]\n"
     ]
    }
   ],
   "source": [
    "#### Method2\n",
    "arr = np.random.randint(0,20,(2,10))\n",
    "print(\"Reshape 2x10: \")\n",
    "print(arr)\n",
    "arr1 = np.reshape(arr,(4,5))\n",
    "print(\"Reshape 4x5: \")\n",
    "print(arr1)"
   ]
  },
  {
   "cell_type": "markdown",
   "metadata": {
    "id": "nf03MRSR7JFB"
   },
   "source": [
    "###### 7. Write a NumPy program to count the frequency of unique values in numpy array."
   ]
  },
  {
   "cell_type": "code",
   "execution_count": 51,
   "metadata": {
    "id": "NqJxDKOs6dZN"
   },
   "outputs": [
    {
     "name": "stdout",
     "output_type": "stream",
     "text": [
      "Original array: \n",
      "[10 10 20 10 20 20 20 30 30 50 40 40]\n",
      "Frequency of unique values of the said array: \n",
      "[[10 20 30 40 50]\n",
      " [ 3  4  2  2  1]]\n"
     ]
    }
   ],
   "source": [
    "###  Write a NumPy program to count the frequency of unique values in numpy array\n",
    "arr = np.array([10,10,20,10,20,20,20,30,30,50,40,40])\n",
    "print(\"Original array: \")\n",
    "print(arr)\n",
    "unique_vals, counts = np.unique(arr, return_counts=True)\n",
    "arr2 = np.array([unique_vals,counts])\n",
    "print(\"Frequency of unique values of the said array: \")\n",
    "print(arr2)"
   ]
  },
  {
   "cell_type": "markdown",
   "metadata": {
    "id": "a5wvDisr9SGS"
   },
   "source": [
    "###### 8. Write a NumPy program to broadcast on different shapes of arrays where p(3,3) + q(3)."
   ]
  },
  {
   "cell_type": "code",
   "execution_count": 52,
   "metadata": {
    "id": "B3hjEaCw6dfJ"
   },
   "outputs": [
    {
     "name": "stdout",
     "output_type": "stream",
     "text": [
      "Array_1\n",
      "[[0 0 0]\n",
      " [1 2 3]\n",
      " [4 5 6]]\n",
      "Array_2\n",
      "[10 11 12]\n",
      "New array:\n",
      "[[10 11 12]\n",
      " [11 13 15]\n",
      " [14 16 18]]\n"
     ]
    }
   ],
   "source": [
    "### Write a NumPy program to broadcast on different shapes of arrays where p(3,3) + q(3).\n",
    "arr1 = np.array([[0,0,0],[1,2,3],[4,5,6]])\n",
    "arr2 = np.array([10,11,12])\n",
    "print(\"Array_1\")\n",
    "print(arr1)\n",
    "print(\"Array_2\")\n",
    "print(arr2)\n",
    "arr3 = arr1 + arr2\n",
    "print(\"New array:\")\n",
    "print(arr3)"
   ]
  },
  {
   "cell_type": "markdown",
   "metadata": {
    "id": "W9mCoSxU92BL"
   },
   "source": [
    "###### 9. Write a NumPy program to extract all the elements of the second row from a given (4x4) array."
   ]
  },
  {
   "cell_type": "code",
   "execution_count": 53,
   "metadata": {
    "id": "V88Mi3yhBfgI"
   },
   "outputs": [
    {
     "name": "stdout",
     "output_type": "stream",
     "text": [
      "Original array\n",
      "[[ 0  1  2  3]\n",
      " [ 4  5  6  7]\n",
      " [ 8  9 10 11]\n",
      " [12 13 14 15]]\n",
      "Extracted data : second row \n",
      "[[4 5 6 7]]\n"
     ]
    }
   ],
   "source": [
    "### Write a NumPy program to extract all the elements of the second row from a given (4x4) array.\n",
    "arr = np.arange(0,16)\n",
    "arr1 = np.reshape(arr,(4,4))\n",
    "print(\"Original array\")\n",
    "print(arr1)\n",
    "arr2 = arr1[1:2,:]\n",
    "print(\"Extracted data : second row \")\n",
    "print(arr2)\n"
   ]
  },
  {
   "cell_type": "code",
   "execution_count": 56,
   "metadata": {
    "colab": {
     "base_uri": "https://localhost:8080/"
    },
    "id": "ybbGis1E91S8",
    "outputId": "42123911-acc4-47c0-ccd1-be25b3b76737"
   },
   "outputs": [
    {
     "name": "stdout",
     "output_type": "stream",
     "text": [
      "Original array:\n",
      "[[ 0  1  2  3]\n",
      " [ 4  5  6  7]\n",
      " [ 8  9 10 11]\n",
      " [12 13 14 15]]\n",
      "\n",
      "Extracted data: Second row\n",
      "[4 5 6 7]\n"
     ]
    }
   ],
   "source": [
    "## Another way\n",
    "import numpy as np\n",
    "arr_data = np.arange(0,16).reshape((4, 4))\n",
    "print(\"Original array:\")\n",
    "print(arr_data)\n",
    "print(\"\\nExtracted data: Second row\")\n",
    "print(arr_data[1,:])"
   ]
  },
  {
   "cell_type": "markdown",
   "metadata": {
    "id": "t76Rc47gATll"
   },
   "source": [
    "###### 10. Write a NumPy program to extract third and fourth elements of the first and second rows from a given (4x4) array."
   ]
  },
  {
   "cell_type": "code",
   "execution_count": 60,
   "metadata": {
    "id": "tLyK4ieP91V_"
   },
   "outputs": [
    {
     "name": "stdout",
     "output_type": "stream",
     "text": [
      "Original array: \n",
      "[[ 0  1  2  3]\n",
      " [ 4  5  6  7]\n",
      " [ 8  9 10 11]\n",
      " [12 13 14 15]]\n",
      "Extracted data: Third and fourth elements of the first and second rows\n",
      "[[2 3]\n",
      " [6 7]]\n"
     ]
    }
   ],
   "source": [
    "## Write a NumPy program to extract third and fourth elements of the first and second rows from a given (4x4) array.\n",
    "arr = np.arange(0,16).reshape(4,4)\n",
    "print(\"Original array: \")\n",
    "print(arr)\n",
    "arr1 = np.array([arr[0,2:4],arr[1,2:4]])\n",
    "print(\"Extracted data: Third and fourth elements of the first and second rows\")\n",
    "print(arr1)"
   ]
  },
  {
   "cell_type": "markdown",
   "metadata": {
    "id": "mES8f4RDFxtM"
   },
   "source": [
    "###### 11. Write a NumPy program to get the dates of yesterday, today and tomorrow."
   ]
  },
  {
   "cell_type": "code",
   "execution_count": 57,
   "metadata": {
    "id": "fyBw7Uo-Aoad"
   },
   "outputs": [
    {
     "name": "stdout",
     "output_type": "stream",
     "text": [
      "Yesterday: 2023-02-19\n",
      "Today: 2023-02-20\n",
      "Tomorrow: 2023-02-21\n"
     ]
    }
   ],
   "source": [
    "### Write a NumPy program to get the dates of yesterday, today and tomorrow.\n",
    "import datetime\n",
    "w\n",
    "# Get today's date\n",
    "today = np.datetime64(datetime.date.today())\n",
    "\n",
    "# Get yesterday's date\n",
    "yesterday = np.datetime64(datetime.date.today() - datetime.timedelta(days=1))\n",
    "\n",
    "# Get tomorrow's date\n",
    "tomorrow = np.datetime64(datetime.date.today() + datetime.timedelta(days=1))\n",
    "\n",
    "# Print the dates\n",
    "print(\"Yesterday:\", yesterday)\n",
    "print(\"Today:\", today)\n",
    "print(\"Tomorrow:\", tomorrow)"
   ]
  },
  {
   "cell_type": "markdown",
   "metadata": {
    "id": "-y3xiL7_GZ3D"
   },
   "source": [
    "###### 12. Write a NumPy program to find the first Monday in May 2017."
   ]
  },
  {
   "cell_type": "code",
   "execution_count": 3,
   "metadata": {
    "id": "roe76-pSGNX4"
   },
   "outputs": [
    {
     "name": "stdout",
     "output_type": "stream",
     "text": [
      "First Monday in May 2017 is:\n",
      "2017-05-01\n"
     ]
    }
   ],
   "source": [
    "## Write a NumPy program to find the first Monday in May 2017.\n",
    "# Set the date to May 2017\n",
    "date = np.datetime64('2017-05')\n",
    "\n",
    "# Find the first Monday in May 2017\n",
    "first_monday = np.busday_offset(date, 0, roll='forward', weekmask='Mon')\n",
    "# the function is being used to calculate the first Monday following the given date.\n",
    "# The date parameter specifies the starting date, 0 specifies the number of business days to offset (i.e., zero days), \n",
    "# and roll='forward' indicates that if the starting date is not a business day, the function should return the next business day. \n",
    "#The weekmask='Mon' parameter specifies that only Mondays are considered business days.\n",
    "\n",
    "# Print the result\n",
    "print(\"First Monday in May 2017 is:\")\n",
    "print(first_monday)"
   ]
  },
  {
   "cell_type": "code",
   "execution_count": null,
   "metadata": {},
   "outputs": [],
   "source": []
  },
  {
   "cell_type": "code",
   "execution_count": null,
   "metadata": {},
   "outputs": [],
   "source": []
  }
 ],
 "metadata": {
  "colab": {
   "collapsed_sections": [],
   "name": "Numpy_assignment_day_2.ipynb",
   "provenance": []
  },
  "kernelspec": {
   "display_name": "Python 3 (ipykernel)",
   "language": "python",
   "name": "python3"
  },
  "language_info": {
   "codemirror_mode": {
    "name": "ipython",
    "version": 3
   },
   "file_extension": ".py",
   "mimetype": "text/x-python",
   "name": "python",
   "nbconvert_exporter": "python",
   "pygments_lexer": "ipython3",
   "version": "3.9.13"
  }
 },
 "nbformat": 4,
 "nbformat_minor": 1
}
