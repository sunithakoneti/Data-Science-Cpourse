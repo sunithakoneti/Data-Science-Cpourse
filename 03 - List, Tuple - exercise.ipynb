{
 "cells": [
  {
   "cell_type": "markdown",
   "metadata": {},
   "source": [
    "# Assignment Instructions\n",
    "\n",
    "`Hello Innominion,`\n",
    "\n",
    "- **Try to attempt all the questions in every possible way.**\n",
    "- **Some other topics are required to solve some questions. don't panic.**\n",
    "- **Those questions can be answered after the topics are taught.**\n",
    "\n",
    "\n",
    "- `Join Mentoring Session for the Support/Doubts Resolving with Our Technical Mentors (2.00 PM - 6.00 PM  Mon-Sat)` \n",
    "\n",
    "Happy Learning !!!"
   ]
  },
  {
   "cell_type": "markdown",
   "metadata": {},
   "source": [
    "###  LIST"
   ]
  },
  {
   "cell_type": "markdown",
   "metadata": {},
   "source": [
    "`Question:`:Create a list of numbers\n",
    "> nums = [1,2,3,4] "
   ]
  },
  {
   "cell_type": "markdown",
   "metadata": {},
   "source": [
    "#### Answer"
   ]
  },
  {
   "cell_type": "code",
   "execution_count": 2,
   "metadata": {},
   "outputs": [
    {
     "data": {
      "text/plain": [
       "[1, 2, 3, 4]"
      ]
     },
     "execution_count": 2,
     "metadata": {},
     "output_type": "execute_result"
    }
   ],
   "source": [
    "#Create a list of numbers nums = [1,2,3,4]\n",
    "nums=[1,2,3,4]\n",
    "nums"
   ]
  },
  {
   "cell_type": "markdown",
   "metadata": {},
   "source": [
    "** `Question:` Remove number \"3\" in a list**"
   ]
  },
  {
   "cell_type": "markdown",
   "metadata": {},
   "source": [
    "#### Answer"
   ]
  },
  {
   "cell_type": "code",
   "execution_count": 4,
   "metadata": {},
   "outputs": [
    {
     "data": {
      "text/plain": [
       "[1, 2, 4]"
      ]
     },
     "execution_count": 4,
     "metadata": {},
     "output_type": "execute_result"
    }
   ],
   "source": [
    "# Method 1  Remove number \"3\" in a list**\n",
    "\n",
    "nums=[1,2,3,4]\n",
    "nums[0:2:1]+nums[3:]"
   ]
  },
  {
   "cell_type": "code",
   "execution_count": 7,
   "metadata": {},
   "outputs": [
    {
     "data": {
      "text/plain": [
       "[1, 2, 4]"
      ]
     },
     "execution_count": 7,
     "metadata": {},
     "output_type": "execute_result"
    }
   ],
   "source": [
    "# Method 2\n",
    "nums=[1,2,3,4]\n",
    "nums.remove(3)\n",
    "nums"
   ]
  },
  {
   "cell_type": "code",
   "execution_count": 10,
   "metadata": {},
   "outputs": [
    {
     "data": {
      "text/plain": [
       "[1, 2, 4]"
      ]
     },
     "execution_count": 10,
     "metadata": {},
     "output_type": "execute_result"
    }
   ],
   "source": [
    "# Method 3\n",
    "nums=[1,2,3,4]\n",
    "nums.pop(2)\n",
    "nums\n"
   ]
  },
  {
   "cell_type": "code",
   "execution_count": 11,
   "metadata": {},
   "outputs": [
    {
     "data": {
      "text/plain": [
       "[1, 2, 4]"
      ]
     },
     "execution_count": 11,
     "metadata": {},
     "output_type": "execute_result"
    }
   ],
   "source": [
    "# Method 4\n",
    "nums=[1,2,3,4]\n",
    "del(nums[2])\n",
    "nums"
   ]
  },
  {
   "cell_type": "markdown",
   "metadata": {},
   "source": [
    "**`Question:` :Insert number \"1\" in 0th position**\n",
    "- lst = [2,3,4]"
   ]
  },
  {
   "cell_type": "markdown",
   "metadata": {},
   "source": [
    "#### Answer"
   ]
  },
  {
   "cell_type": "code",
   "execution_count": 12,
   "metadata": {},
   "outputs": [
    {
     "data": {
      "text/plain": [
       "[1, 2, 3, 4]"
      ]
     },
     "execution_count": 12,
     "metadata": {},
     "output_type": "execute_result"
    }
   ],
   "source": [
    "# Insert number \"1\" in 0th position lst = [2,3,4]\n",
    "nums=[2,3,4]\n",
    "nums.insert(0,1)\n",
    "nums"
   ]
  },
  {
   "cell_type": "markdown",
   "metadata": {},
   "source": [
    "**`Question:` Insert \"two-and-half\" in 2nd position**"
   ]
  },
  {
   "cell_type": "markdown",
   "metadata": {},
   "source": [
    "#### Answer"
   ]
  },
  {
   "cell_type": "code",
   "execution_count": 13,
   "metadata": {},
   "outputs": [
    {
     "data": {
      "text/plain": [
       "[1, 2, 'two-and-half', 3, 4]"
      ]
     },
     "execution_count": 13,
     "metadata": {},
     "output_type": "execute_result"
    }
   ],
   "source": [
    "#Insert \"two-and-half\" in 2nd position\n",
    "nums=[1,2,3,4]\n",
    "nums.insert(2,\"two-and-half\")\n",
    "nums\n"
   ]
  },
  {
   "cell_type": "markdown",
   "metadata": {},
   "source": [
    "**`Question:` phrase = \"Don't panic!\"**\n",
    "- **Convert above text into list**"
   ]
  },
  {
   "cell_type": "markdown",
   "metadata": {},
   "source": [
    "#### Answer"
   ]
  },
  {
   "cell_type": "code",
   "execution_count": 15,
   "metadata": {},
   "outputs": [],
   "source": [
    "#  phrase = \"Don't panic!\" \n",
    "phrase = \"Don't panic!\" "
   ]
  },
  {
   "cell_type": "markdown",
   "metadata": {},
   "source": [
    "*convert into list*"
   ]
  },
  {
   "cell_type": "code",
   "execution_count": 16,
   "metadata": {},
   "outputs": [],
   "source": [
    "# Convert above text into list\n",
    "l=list(phrase)"
   ]
  },
  {
   "cell_type": "code",
   "execution_count": 17,
   "metadata": {},
   "outputs": [
    {
     "data": {
      "text/plain": [
       "['D', 'o', 'n', \"'\", 't', ' ', 'p', 'a', 'n', 'i', 'c', '!']"
      ]
     },
     "execution_count": 17,
     "metadata": {},
     "output_type": "execute_result"
    }
   ],
   "source": [
    "l"
   ]
  },
  {
   "cell_type": "markdown",
   "metadata": {},
   "source": [
    "`Question:` Remove ** '** and **!** in the list"
   ]
  },
  {
   "cell_type": "markdown",
   "metadata": {},
   "source": [
    "#### Answer"
   ]
  },
  {
   "cell_type": "code",
   "execution_count": 18,
   "metadata": {},
   "outputs": [
    {
     "data": {
      "text/plain": [
       "['D', 'o', 'n', 't', ' ', 'p', 'a', 'n', 'i', 'c']"
      ]
     },
     "execution_count": 18,
     "metadata": {},
     "output_type": "execute_result"
    }
   ],
   "source": [
    "# Remove ** '** and ! in the list\n",
    "l.remove(\"'\")\n",
    "l.remove(\"!\")\n",
    "l"
   ]
  },
  {
   "cell_type": "markdown",
   "metadata": {},
   "source": [
    "**`Question:` Remove \"p\" , \"a\", \"n\",\"D\" and extend at the last**"
   ]
  },
  {
   "cell_type": "markdown",
   "metadata": {},
   "source": [
    "#### Answer"
   ]
  },
  {
   "cell_type": "code",
   "execution_count": 19,
   "metadata": {},
   "outputs": [],
   "source": [
    "# Remove \"p\" , \"a\", \"n\",\"D\" and extend at the last\n",
    "l.remove(\"p\")\n",
    "l.remove(\"a\")\n",
    "l.remove(\"n\")\n",
    "l.remove(\"D\")"
   ]
  },
  {
   "cell_type": "code",
   "execution_count": 21,
   "metadata": {},
   "outputs": [
    {
     "data": {
      "text/plain": [
       "['o', 't', ' ', 'n', 'i', 'c', 'p', 'a', 'n', 'D']"
      ]
     },
     "execution_count": 21,
     "metadata": {},
     "output_type": "execute_result"
    }
   ],
   "source": [
    "l.extend([\"p\",\"a\",\"n\",\"D\"])\n",
    "l"
   ]
  },
  {
   "cell_type": "markdown",
   "metadata": {},
   "source": [
    "**`Question:` Join the given list ['p', 'a', 'n', 'D', 'a']**"
   ]
  },
  {
   "cell_type": "markdown",
   "metadata": {},
   "source": [
    "#### Answer"
   ]
  },
  {
   "cell_type": "code",
   "execution_count": 24,
   "metadata": {},
   "outputs": [
    {
     "name": "stdout",
     "output_type": "stream",
     "text": [
      "'panDa'\n"
     ]
    }
   ],
   "source": [
    "# Join the given list ['p', 'a', 'n', 'D', 'a']\n",
    "list = ['p', 'a', 'n', 'D', 'a']\n",
    "result = \"\".join(list)\n",
    "print(\"'\"+result+\"'\")"
   ]
  },
  {
   "cell_type": "markdown",
   "metadata": {},
   "source": [
    "###  Tuples"
   ]
  },
  {
   "cell_type": "markdown",
   "metadata": {},
   "source": [
    "**`Question:` Create a tuples for numbers 31,24,35,85 as nums**"
   ]
  },
  {
   "cell_type": "code",
   "execution_count": null,
   "metadata": {},
   "outputs": [],
   "source": [
    "# Create a tuples for numbers 31,24,35,85 as nums"
   ]
  },
  {
   "cell_type": "markdown",
   "metadata": {},
   "source": [
    "#### Answer"
   ]
  },
  {
   "cell_type": "code",
   "execution_count": 2,
   "metadata": {},
   "outputs": [
    {
     "data": {
      "text/plain": [
       "tuple"
      ]
     },
     "execution_count": 2,
     "metadata": {},
     "output_type": "execute_result"
    }
   ],
   "source": [
    "nums=(31,24,35,85)\n",
    "type(nums)\n"
   ]
  },
  {
   "cell_type": "code",
   "execution_count": 27,
   "metadata": {},
   "outputs": [
    {
     "data": {
      "text/plain": [
       "(31, 24, 35, 85)"
      ]
     },
     "execution_count": 27,
     "metadata": {},
     "output_type": "execute_result"
    }
   ],
   "source": [
    "nums"
   ]
  },
  {
   "cell_type": "markdown",
   "metadata": {},
   "source": [
    "**`Question:` Remove number \"35\" in a tuple**\n",
    "\n",
    "*Hint:* Convert into list"
   ]
  },
  {
   "cell_type": "markdown",
   "metadata": {},
   "source": [
    "#### Answer"
   ]
  },
  {
   "cell_type": "code",
   "execution_count": 10,
   "metadata": {},
   "outputs": [
    {
     "data": {
      "text/plain": [
       "(31, 24, 85)"
      ]
     },
     "execution_count": 10,
     "metadata": {},
     "output_type": "execute_result"
    }
   ],
   "source": [
    "# Remove number \"35\" in a tuple**\n",
    "nums=(31,24,35,85)\n",
    "l=list(nums)\n",
    "l.remove(35)\n",
    "t=tuple(l)\n",
    "t"
   ]
  },
  {
   "cell_type": "markdown",
   "metadata": {},
   "source": [
    "**Extent** tuple (85,19)"
   ]
  },
  {
   "cell_type": "markdown",
   "metadata": {},
   "source": [
    "#### Answer"
   ]
  },
  {
   "cell_type": "code",
   "execution_count": null,
   "metadata": {},
   "outputs": [],
   "source": [
    "# Extent tuple (85,19)"
   ]
  },
  {
   "cell_type": "code",
   "execution_count": 11,
   "metadata": {},
   "outputs": [
    {
     "data": {
      "text/plain": [
       "(31, 24, 85, 85, 19)"
      ]
     },
     "execution_count": 11,
     "metadata": {},
     "output_type": "execute_result"
    }
   ],
   "source": [
    "l1=list(t)\n",
    "l1.extend([85,19])\n",
    "t1=tuple(l1)\n",
    "t1"
   ]
  },
  {
   "cell_type": "markdown",
   "metadata": {},
   "source": [
    "**`Question:` Write code to check whether an element ('i') exists within a tuple.**\n",
    "- tpl = ('i','n''n','0')"
   ]
  },
  {
   "cell_type": "markdown",
   "metadata": {},
   "source": [
    "#### Answer"
   ]
  },
  {
   "cell_type": "code",
   "execution_count": 16,
   "metadata": {},
   "outputs": [],
   "source": [
    "# Write code to check whether an element ('i') exists within a tuple.\n",
    "# tpl = ('i','n''n','0')\n",
    "tpl = ('i','n','n','o')\n",
    "    "
   ]
  },
  {
   "cell_type": "code",
   "execution_count": 17,
   "metadata": {},
   "outputs": [
    {
     "name": "stdout",
     "output_type": "stream",
     "text": [
      "True\n"
     ]
    }
   ],
   "source": [
    "\n",
    "if 'i' in tpl:\n",
    "    print(\"True\")\n",
    "else:\n",
    "    print(\"false\")"
   ]
  },
  {
   "cell_type": "markdown",
   "metadata": {},
   "source": [
    "**`Question:` Write a python code to replace/insert the value**\n",
    "- list = ['Hello',100,[],'innomatics']"
   ]
  },
  {
   "cell_type": "markdown",
   "metadata": {},
   "source": [
    "#### Answer"
   ]
  },
  {
   "cell_type": "code",
   "execution_count": 19,
   "metadata": {},
   "outputs": [
    {
     "data": {
      "text/plain": [
       "['Hello', 100, [200], 'innomatics']"
      ]
     },
     "execution_count": 19,
     "metadata": {},
     "output_type": "execute_result"
    }
   ],
   "source": [
    "# Write a python code to replace/insert the value\n",
    "# list = ['Hello',100,[],'innomatics']\n",
    "\n",
    "lst = ['Hello',100,[],'innomatics']\n",
    "lst[2].append(200)\n",
    "lst\n"
   ]
  },
  {
   "cell_type": "markdown",
   "metadata": {},
   "source": [
    "**`Question:` Write a Python program to reverse a tuple.**"
   ]
  },
  {
   "cell_type": "markdown",
   "metadata": {},
   "source": [
    "#### Answer"
   ]
  },
  {
   "cell_type": "code",
   "execution_count": 25,
   "metadata": {},
   "outputs": [
    {
     "data": {
      "text/plain": [
       "('s', 'c', 'i', 't', 'a', 'm', 'o', 'n', 'n', 'I')"
      ]
     },
     "execution_count": 25,
     "metadata": {},
     "output_type": "execute_result"
    }
   ],
   "source": [
    "# Write a Python program to reverse a tuple.\n",
    "\n",
    "tpl = (\"Innomatics\")\n",
    "l=list(tpl)\n",
    "l.reverse()\n",
    "tpl1 = tuple(l)\n",
    "tpl1\n",
    "    \n"
   ]
  },
  {
   "cell_type": "code",
   "execution_count": 2,
   "metadata": {},
   "outputs": [
    {
     "data": {
      "text/plain": [
       "(1, 2, 3, 4)"
      ]
     },
     "execution_count": 2,
     "metadata": {},
     "output_type": "execute_result"
    }
   ],
   "source": [
    "# It's worth noting that if you want to create a tuple with a single element, you must include a comma after the element,\n",
    "#otherwise it will be interpreted as an expression enclosed in parentheses.     \n",
    "\n",
    "tpl = (1,2,3)+(4,)\n",
    "tpl"
   ]
  },
  {
   "cell_type": "markdown",
   "metadata": {},
   "source": [
    "**`Question:` Write a Python program to add one more value at last postion of tuples in a list**\n",
    "- tpl = [(10, 20, 40), (40, 50, 60), (70, 80, 90)]\n",
    "- `hint- use for loop`"
   ]
  },
  {
   "cell_type": "markdown",
   "metadata": {},
   "source": [
    "#### Answer"
   ]
  },
  {
   "cell_type": "code",
   "execution_count": 1,
   "metadata": {},
   "outputs": [
    {
     "name": "stdout",
     "output_type": "stream",
     "text": [
      "[(10, 20, 40, 100), (40, 50, 60, 100), (70, 80, 90, 100)]\n"
     ]
    }
   ],
   "source": [
    "# write a Python program to add one more value at last postion of tuples in a list\n",
    "\n",
    "tpl = [(10, 20, 40), (40, 50, 60), (70, 80, 90)] # list of three tuples\n",
    "# new_value = 100\n",
    "\n",
    "result = [i + (100,) for i in tpl] # Adding 100 in the last of every tople unitill the iterations takes place.\n",
    "\n",
    "print(result) # Printing result\n"
   ]
  },
  {
   "cell_type": "code",
   "execution_count": 11,
   "metadata": {},
   "outputs": [
    {
     "name": "stdout",
     "output_type": "stream",
     "text": [
      "[(10, 20, 40, 100), (40, 50, 60, 100), (70, 80, 90, 100)]\n"
     ]
    }
   ],
   "source": [
    "# Another way\n",
    "\n",
    "tpl = [(10, 20, 40), (40, 50, 60), (70, 80, 90)]\n",
    "new_value = 100 # the value added is to be assigned to new_value.\n",
    "result=[] # Initialising result with empty list.\n",
    "for i in tpl: # The iteration will takes place till the commpletion of the list.\n",
    "    result.append(i+(new_value,)) # Each tuple is appended with the newvalue.\n",
    "print(result) # Printing the result"
   ]
  },
  {
   "cell_type": "markdown",
   "metadata": {},
   "source": [
    "**`Question:` Write a Python program to replace last value of tuples in a list**\n",
    "- tpl = [(10, 20, 40), (40, 50, 60), (70, 80, 90)]\n",
    "- `hint- use for loop`"
   ]
  },
  {
   "cell_type": "markdown",
   "metadata": {},
   "source": [
    "#### Answer"
   ]
  },
  {
   "cell_type": "code",
   "execution_count": 2,
   "metadata": {},
   "outputs": [
    {
     "name": "stdout",
     "output_type": "stream",
     "text": [
      "[(10, 20, 100), (40, 50, 100), (70, 80, 100)]\n"
     ]
    }
   ],
   "source": [
    "# Write a Python program to replace last value of tuples in a list\n",
    "\n",
    "tpl = [(10, 20, 40), (40, 50, 60), (70, 80, 90)] # tpl is a list of three tuples\n",
    "new_value = 100  # the value added is to be assigned to new_value.\n",
    "result=[] 3 # Initialising result with empty list.\n",
    "for i in tpl: # taking iterations till the completion of the list.\n",
    "    result.append(tuple([i[0],i[1],new_value])) # Appending new value with the third element of each tuple in the list. \n",
    "print(result) # printig the result after replacing the value.\n",
    "    "
   ]
  },
  {
   "cell_type": "code",
   "execution_count": 6,
   "metadata": {},
   "outputs": [
    {
     "name": "stdout",
     "output_type": "stream",
     "text": [
      "[(10, 20, 100), (40, 50, 100), (70, 80, 100)]\n"
     ]
    }
   ],
   "source": [
    " # Method 2 using list comprehension\n",
    "    \n",
    "tpl = [(10, 20, 40), (40, 50, 60), (70, 80, 90)]\n",
    "result = [(x[0], x[1], 100) for x in tpl]\n",
    "print(result)\n"
   ]
  },
  {
   "cell_type": "markdown",
   "metadata": {},
   "source": [
    "### `Question:` If the following string is given as input to the program:\n",
    "\n",
    "- '5 2 3 6 6 5'\n",
    "\n",
    "#### FInd the secong higest value from that"
   ]
  },
  {
   "cell_type": "markdown",
   "metadata": {},
   "source": [
    "#### Answer"
   ]
  },
  {
   "cell_type": "code",
   "execution_count": 6,
   "metadata": {},
   "outputs": [
    {
     "name": "stdout",
     "output_type": "stream",
     "text": [
      "[5, 2, 4, 6, 2, 2]\n",
      "the second Highest number in the string is : 5\n"
     ]
    }
   ],
   "source": [
    "# Method 1\n",
    "# If the following string is given as input to the program:\n",
    "# string = '5 2 4 6 2 2'\n",
    "# FInd the secong higest value from that\n",
    "\n",
    "string = '5 2 4 6 2 2' \n",
    "s = string.split() # splitting a string into list of characters using split() method.\n",
    "nums=[] # Initialising nums with empty list.\n",
    "for i in s: # iterations witll takes place till the completion of the list.\n",
    "    nums.append(int(i)) # changing each character to int and addin to new list nums using append() method.\n",
    "print(nums) # print the new list\n",
    "s1 = set(nums) # To remove duplicates from the list , convertin list to set.\n",
    "s1.remove(max(s1)) # Removing first largest number from the list by using remove() and max() method.\n",
    "second_highest=max(s1) # max of remainin list becomes second highest of the first list.\n",
    "print(\"the second Highest number in the string is :\",second_highest) # printing the second highest number from the given string."
   ]
  },
  {
   "cell_type": "markdown",
   "metadata": {},
   "source": [
    "#### Answer"
   ]
  },
  {
   "cell_type": "code",
   "execution_count": 7,
   "metadata": {},
   "outputs": [
    {
     "name": "stdout",
     "output_type": "stream",
     "text": [
      "[5, 2, 4, 6, 2, 2]\n",
      "5\n"
     ]
    }
   ],
   "source": [
    "# Method 2\n",
    "\n",
    "# If the following string is given as input to the program:\n",
    "# string = '5 2 4 6 2 2'\n",
    "# FInd the secong higest value from that\n",
    "\n",
    "string = '5 2 4 6 2 2'\n",
    "numbers = [int(num) for num in string.split()] # changing each and everry character to integer and iterating till\n",
    "                                               # the completion of the list.\n",
    "print(numbers) # printing the list of numbers\n",
    "unique_numbers = set(numbers) # convert the list into set to remove duplicates by using set().\n",
    "unique_numbers.remove(max(unique_numbers)) # Remove first highest number from the set using remove() method.\n",
    "second_highest = max(unique_numbers) # fine second highest from the remaininng set by using max() method. \n",
    "print(second_highest) # printing second highest number."
   ]
  },
  {
   "cell_type": "markdown",
   "metadata": {},
   "source": [
    "### `Question:` By using list comprehension, please write a program to print the list after removing the 0th,4th,5th numbers in [12,24,35,70,88,120,155]."
   ]
  },
  {
   "cell_type": "markdown",
   "metadata": {},
   "source": [
    "#### Answer"
   ]
  },
  {
   "cell_type": "code",
   "execution_count": 8,
   "metadata": {},
   "outputs": [
    {
     "name": "stdout",
     "output_type": "stream",
     "text": [
      "[24, 35, 70, 155]\n"
     ]
    }
   ],
   "source": [
    "# By using list comprehension, please write a program to print the list after removing the 0th,4th,5th numbers \n",
    "#in [12,24,35,70,88,120,155].\n",
    "\n",
    "numbers = [12,24,35,70,88,120,155] # List of numberrs assigned to numbers variable.\n",
    "new_list = [num for i, num in enumerate(numbers) if i not in [0, 4, 5]] # removing 0th, 4th and 5th position numbers by iterating\n",
    "            # the loop till the end of the list.\n",
    "            # by using enumerate() method we r taking index of the numebers and correspoding numbers as list.\n",
    "            # using if condition , remove 0,4 and 5th positions by comparing each index.\n",
    "            # sendin the remaining values to new_list.\n",
    "print(new_list) # printing new_list"
   ]
  },
  {
   "cell_type": "code",
   "execution_count": 9,
   "metadata": {},
   "outputs": [
    {
     "name": "stdout",
     "output_type": "stream",
     "text": [
      "[24, 35, 70, 155]\n"
     ]
    }
   ],
   "source": [
    "# with out using List comprehension:\n",
    "\n",
    "numbers=[12,24,35,70,88,120,155]\n",
    "new_list=[]\n",
    "for i,num in enumerate(numbers):\n",
    "    if i not in [0,4,5]:\n",
    "        new_list.append(num)\n",
    "print(new_list)\n",
    "    \n",
    "    "
   ]
  },
  {
   "cell_type": "code",
   "execution_count": 19,
   "metadata": {},
   "outputs": [
    {
     "name": "stdout",
     "output_type": "stream",
     "text": [
      "[24, 35, 70, 155]\n"
     ]
    }
   ],
   "source": [
    "# Another Method\n",
    "numbers = [12, 24, 35, 70, 88, 120, 155]\n",
    "for i in [5,4,0]:\n",
    "    numbers.pop(i)\n",
    "print(numbers)\n"
   ]
  },
  {
   "cell_type": "markdown",
   "metadata": {},
   "source": [
    "### `Question:` With a given tuple (1,2,3,4,5,6,7,8,9,10), write a program to print the first half values in one line and the last half values in one line."
   ]
  },
  {
   "cell_type": "markdown",
   "metadata": {},
   "source": [
    "#### Answer"
   ]
  },
  {
   "cell_type": "code",
   "execution_count": 9,
   "metadata": {},
   "outputs": [
    {
     "name": "stdout",
     "output_type": "stream",
     "text": [
      "(1, 2, 3, 4, 5)\n",
      "(6, 7, 8, 9, 10)\n"
     ]
    }
   ],
   "source": [
    "#With a given tuple (1,2,3,4,5,6,7,8,9,10), \n",
    "#write a program to print the first half values in one line and the last half values in one line.\n",
    "\n",
    "tpl = (1,2,3,4,5,6,7,8,9,10) # Taking a tuple with 10 numbers.\n",
    "tuple_len = len(tpl) # finding lenght of the tuple by using len() method and the value is assigned to a variable.\n",
    "first_half = tpl[:tuple_len//2] # slise the list to half and assign first half to one variable.\n",
    "second_half = tpl[tuple_len//2:] # slise the second half of the list using slising techniques and assign the second half to\n",
    "                                # another variable.\n",
    "print(first_half) # print first half of the tuple.\n",
    "print(second_half) # print second half of the tuple.\n"
   ]
  },
  {
   "cell_type": "markdown",
   "metadata": {},
   "source": [
    "### `Question:` Write a program to generate and print another tuple whose values are even numbers in the given tuple (1,2,3,4,5,6,7,8,9,10)"
   ]
  },
  {
   "cell_type": "markdown",
   "metadata": {},
   "source": [
    "#### Answer"
   ]
  },
  {
   "cell_type": "code",
   "execution_count": 1,
   "metadata": {},
   "outputs": [
    {
     "name": "stdout",
     "output_type": "stream",
     "text": [
      "(2, 4, 6, 8, 10)\n"
     ]
    }
   ],
   "source": [
    "#Write a program to generate and print another tuple whose values are even numbers in the given tuple (1,2,3,4,5,6,7,8,9,10)\n",
    "\n",
    "given_tuple = (1,2,3,4,5,6,7,8,9,10) # Taking a tuple with ten numbers\n",
    "even_list = [] # Taking an empty list and assigned to a variable. \n",
    "for i in given_tuple: # iterations has to be taken place untill the tuple becomes empty.\n",
    "    if i % 2 == 0: # it checks every element of tuple is divisible by 2.\n",
    "        even_list.append(i) # if yes that element has to added to new list.\n",
    "print(tuple(even_list)) # Convertin the object to tuple.\n",
    "                         "
   ]
  },
  {
   "cell_type": "markdown",
   "metadata": {},
   "source": [
    "# `Descriptive Questions`"
   ]
  },
  {
   "cell_type": "markdown",
   "metadata": {},
   "source": [
    "### 1. Explain the difference between list and tuple?"
   ]
  },
  {
   "cell_type": "markdown",
   "metadata": {},
   "source": [
    "#### The main differences between a list and a tuple in Python are:\n",
    "\n",
    "- Mutability: Lists are mutable, which means you can change their content (add, remove, modify elements), while tuples are immutable, which means you cannot modify their content once created.\n",
    "\n",
    "- Syntax: Lists are defined with square brackets [], while tuples are defined with round parentheses ().\n",
    "\n",
    "- Performance: Tuples are faster than lists when it comes to access time and memory usage, since tuples are immutable and their elements are stored in a single block of memory.\n",
    "\n",
    "- Use cases: Lists are more flexible and commonly used when you need to store and manipulate dynamic data, while tuples are commonly used to store and pass around fixed and immutable data, such as dates or coordinates."
   ]
  },
  {
   "cell_type": "markdown",
   "metadata": {},
   "source": [
    "### 2. Explain the difference between append() and extend() with examples"
   ]
  },
  {
   "cell_type": "markdown",
   "metadata": {},
   "source": [
    "#### The difference between append() and extend() methods\n",
    "\n",
    "- The append() and extend() methods in Python are both used to add elements to a list\n",
    "- append() method is used to add a single element to the end of the list\n",
    "- extend() method is used to add multiple elements to the end of the list. \n",
    "- It takes an iterable (e.g. list, tuple, string) as an argument and adds each element of that iterable to the end of the list:\n"
   ]
  },
  {
   "cell_type": "code",
   "execution_count": 29,
   "metadata": {},
   "outputs": [
    {
     "data": {
      "text/plain": [
       "[1, 2, 3, 4]"
      ]
     },
     "execution_count": 29,
     "metadata": {},
     "output_type": "execute_result"
    }
   ],
   "source": [
    "# Example of append()\n",
    "l=[1,2,3]\n",
    "l.append(4)\n",
    "l"
   ]
  },
  {
   "cell_type": "code",
   "execution_count": 30,
   "metadata": {},
   "outputs": [
    {
     "data": {
      "text/plain": [
       "[1, 2, 3, 4, 5, 6, 7, 8]"
      ]
     },
     "execution_count": 30,
     "metadata": {},
     "output_type": "execute_result"
    }
   ],
   "source": [
    "# Example of extend()\n",
    "l=[1,2,3,4]\n",
    "l.extend([5,6,7,8])\n",
    "l"
   ]
  },
  {
   "cell_type": "markdown",
   "metadata": {},
   "source": [
    "### 3. Explain the difference between pop() and remove() with examples"
   ]
  },
  {
   "cell_type": "markdown",
   "metadata": {},
   "source": [
    "#### The differece between pop() ad remove():\n",
    "\n",
    "- pop() and remove() methods in Python are used to remove elements from a list.\n",
    "- pop() method removes and returns the element at the specified index or the last element by default.\n",
    "- remove() method removes the first occurrence of the specified element."
   ]
  },
  {
   "cell_type": "code",
   "execution_count": 33,
   "metadata": {},
   "outputs": [
    {
     "data": {
      "text/plain": [
       "[1, 2, 3, 5]"
      ]
     },
     "execution_count": 33,
     "metadata": {},
     "output_type": "execute_result"
    }
   ],
   "source": [
    "# Example of pop()\n",
    "l1=[1,2,3,4,5,6]\n",
    "l1.pop() # if we don't specify any index it removes last element from the list\n",
    "l1\n",
    "l1.pop(3) # if we specify index it removes only specified index value.\n",
    "l1"
   ]
  },
  {
   "cell_type": "code",
   "execution_count": 35,
   "metadata": {},
   "outputs": [
    {
     "data": {
      "text/plain": [
       "[1, 2, 3, 5, 6]"
      ]
     },
     "execution_count": 35,
     "metadata": {},
     "output_type": "execute_result"
    }
   ],
   "source": [
    "# Example of remove()\n",
    "l2=[1,2,3,4,5,6]\n",
    "l2.remove(4) # it removes 4 from the list\n",
    "l2"
   ]
  },
  {
   "cell_type": "markdown",
   "metadata": {},
   "source": [
    "# [Innomatics Research Labs](https:/innomatics.in/)\n",
    "[www.innomatics.in](https:/innomatics.in/)"
   ]
  }
 ],
 "metadata": {
  "kernelspec": {
   "display_name": "Python 3 (ipykernel)",
   "language": "python",
   "name": "python3"
  },
  "language_info": {
   "codemirror_mode": {
    "name": "ipython",
    "version": 3
   },
   "file_extension": ".py",
   "mimetype": "text/x-python",
   "name": "python",
   "nbconvert_exporter": "python",
   "pygments_lexer": "ipython3",
   "version": "3.9.13"
  }
 },
 "nbformat": 4,
 "nbformat_minor": 2
}
