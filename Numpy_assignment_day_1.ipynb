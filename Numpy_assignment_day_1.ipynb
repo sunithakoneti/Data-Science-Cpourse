{
 "cells": [
  {
   "cell_type": "markdown",
   "metadata": {
    "id": "F6px4MSR51Gu"
   },
   "source": [
    "### NumPy Exercises\n",
    "##### Now that we've learned about NumPy let's test your knowledge. We'll start off with a few simple tasks and then you'll be asked some more complicated questions.\n",
    "##### IMPORTANT NOTE! Make sure you don't run the cells directly above the example output shown, otherwise you will end up writing over the example output!"
   ]
  },
  {
   "cell_type": "code",
   "execution_count": 2,
   "metadata": {
    "id": "Qe-tLGBa2sNS"
   },
   "outputs": [],
   "source": [
    "import numpy as np"
   ]
  },
  {
   "cell_type": "markdown",
   "metadata": {
    "id": "TAAoEMyE6bj6"
   },
   "source": [
    "#####1.  Write a NumPy program to create an array of 10 zeros,10 ones, 10 fives."
   ]
  },
  {
   "cell_type": "code",
   "execution_count": 17,
   "metadata": {
    "id": "_BxASjIo6B1X"
   },
   "outputs": [
    {
     "name": "stdout",
     "output_type": "stream",
     "text": [
      "An array of 10 Zeros: \n",
      "[0. 0. 0. 0. 0. 0. 0. 0. 0. 0.]\n",
      "An array of 10 ones : \n",
      "[1. 1. 1. 1. 1. 1. 1. 1. 1. 1.]\n",
      "An array of 10 fives : \n",
      "[5. 5. 5. 5. 5. 5. 5. 5. 5. 5.]\n"
     ]
    }
   ],
   "source": [
    "###  Write a NumPy program to create an array of 10 zeros,10 ones, 10 fives.\n",
    "a = np.zeros(10)  \n",
    "print(\"An array of 10 Zeros: \") \n",
    "print(a)\n",
    "b = np.ones(10)\n",
    "print(\"An array of 10 ones : \") \n",
    "print(b)\n",
    "c = np.full(10,5,dtype=float)\n",
    "print(\"An array of 10 fives : \") \n",
    "print(c)\n",
    "\n"
   ]
  },
  {
   "cell_type": "markdown",
   "metadata": {
    "id": "6gbrDc0_6ja8"
   },
   "source": [
    "#####2.  Write a NumPy program to create an array of the integers from 30 to 70."
   ]
  },
  {
   "cell_type": "code",
   "execution_count": 20,
   "metadata": {
    "id": "Rrdz7C556B4Y"
   },
   "outputs": [
    {
     "name": "stdout",
     "output_type": "stream",
     "text": [
      "Array of the integers from 30 to 70\n",
      "[30 31 32 33 34 35 36 37 38 39 40 41 42 43 44 45 46 47 48 49 50 51 52 53\n",
      " 54 55 56 57 58 59 60 61 62 63 64 65 66 67 68 69 70]\n"
     ]
    }
   ],
   "source": [
    "### Write a NumPy program to create an array of the integers from 30 to 70.\n",
    "a = [i for i in range(30,71)]\n",
    "arr = np.array(a,dtype=int)\n",
    "print(\"Array of the integers from 30 to 70\")\n",
    "print(arr)"
   ]
  },
  {
   "cell_type": "markdown",
   "metadata": {
    "id": "-1Z-hSI66oXd"
   },
   "source": [
    "######3. Write a NumPy program to create an array of all the even integers from 10 to 50."
   ]
  },
  {
   "cell_type": "code",
   "execution_count": 21,
   "metadata": {
    "id": "-TwKGj2o6nBV"
   },
   "outputs": [
    {
     "name": "stdout",
     "output_type": "stream",
     "text": [
      "Array of all the even integers from 10 to 50\n",
      "[10 12 14 16 18 20 22 24 26 28 30 32 34 36 38 40 42 44 46 48]\n"
     ]
    }
   ],
   "source": [
    "### Write a NumPy program to create an array of all the even integers from 10 to 50.\n",
    "b = [i for i in range(10,50) if i%2 == 0]\n",
    "arr1 = np.array(b,dtype=int)\n",
    "print(\"Array of all the even integers from 10 to 50\")\n",
    "print(arr1)\n"
   ]
  },
  {
   "cell_type": "markdown",
   "metadata": {
    "id": "av8golKd6z8l"
   },
   "source": [
    "######4. Write a NumPy program to create a 3x3 identity matrix."
   ]
  },
  {
   "cell_type": "code",
   "execution_count": 22,
   "metadata": {
    "id": "A4oaHF5L6nDB"
   },
   "outputs": [
    {
     "name": "stdout",
     "output_type": "stream",
     "text": [
      "3x3 matrix: \n",
      "[[1. 0. 0.]\n",
      " [0. 1. 0.]\n",
      " [0. 0. 1.]]\n"
     ]
    }
   ],
   "source": [
    "###  Write a NumPy program to create a 3x3 identity matrix.\n",
    "Identity_matrix = np.eye(3)\n",
    "print(\"3x3 matrix: \")\n",
    "print(Identity_matrix)"
   ]
  },
  {
   "cell_type": "markdown",
   "metadata": {
    "id": "bmfuxShM-nvi"
   },
   "source": [
    "##### 5. Write a NumPy program to generate a random number between 0 and 1"
   ]
  },
  {
   "cell_type": "code",
   "execution_count": 26,
   "metadata": {
    "id": "ufPWx-Bo6nFv"
   },
   "outputs": [
    {
     "name": "stdout",
     "output_type": "stream",
     "text": [
      "The random number between 0 and 1: \n",
      "[0.66670654]\n"
     ]
    }
   ],
   "source": [
    "### Write a NumPy program to generate a random number between 0 and 1\n",
    "a = np.random.rand(1)\n",
    "print(\"The random number between 0 and 1: \")\n",
    "print(a)"
   ]
  },
  {
   "cell_type": "markdown",
   "metadata": {
    "id": "hm-lJXi--3px"
   },
   "source": [
    "###### 6. Write a NumPy program to generate an array of 15 random numbers from a standard normal distribution."
   ]
  },
  {
   "cell_type": "code",
   "execution_count": 27,
   "metadata": {
    "id": "tFPEvuTr6nMg"
   },
   "outputs": [
    {
     "name": "stdout",
     "output_type": "stream",
     "text": [
      "15 random numbers from a standard notrmal distribution: \n",
      "[ 1.2076844  -0.47466918  0.27126601  0.22511299  0.62715813  0.35223226\n",
      " -1.28423531  0.14095776 -0.06219385 -0.01245859 -0.09743366  1.72261849\n",
      " -1.44920672 -1.45602557 -0.86944721]\n"
     ]
    }
   ],
   "source": [
    "## Write a NumPy program to generate an array of 15 random numbers from a standard normal distribution.\n",
    "b = np.random.randn(15)\n",
    "print(\"15 random numbers from a standard notrmal distribution: \")\n",
    "print(b)\n"
   ]
  },
  {
   "cell_type": "markdown",
   "metadata": {
    "id": "UIMv6m1t_G7q"
   },
   "source": [
    "###### 7. Write a NumPy program to create a 3X4 array using and iterate over it."
   ]
  },
  {
   "cell_type": "code",
   "execution_count": 36,
   "metadata": {
    "id": "WyYvr-ly-7y5"
   },
   "outputs": [
    {
     "name": "stdout",
     "output_type": "stream",
     "text": [
      "Original array: \n",
      "[[10 11 12 13]\n",
      " [14 15 16 17]\n",
      " [18 19 20 21]]\n",
      "Each element of the array is :\n",
      "[10, 11, 12, 13, 14, 15, 16, 17, 18, 19, 20, 21]\n"
     ]
    }
   ],
   "source": [
    "## Write a NumPy program to create a 3X4 array using and iterate over it.\n",
    "c = [[10,11,12,13],[14,15,16,17],[18,19,20,21]]\n",
    "arr = np.array(c)\n",
    "print(\"Original array: \")\n",
    "print(arr)\n",
    "l = [element for i in arr for element in i]\n",
    "print(\"Each element of the array is :\")\n",
    "print(l)\n"
   ]
  },
  {
   "cell_type": "markdown",
   "metadata": {
    "id": "pMshtaUT_fT0"
   },
   "source": [
    "###### 8. Write a NumPy program to multiply the values ​​of two given vectors."
   ]
  },
  {
   "cell_type": "code",
   "execution_count": 43,
   "metadata": {
    "id": "hD8Uk9J0_JxY"
   },
   "outputs": [
    {
     "name": "stdout",
     "output_type": "stream",
     "text": [
      "Vector-1\n",
      "[1 8 3 5]\n",
      "Vector-2\n",
      "[10  1  4 10]\n",
      "Multiply the values of two said vectors: \n",
      "[10  8 12 50]\n"
     ]
    }
   ],
   "source": [
    "## Write a NumPy program to multiply the values ​​of two given vectors.\n",
    "a = np.array([1,8,3,5]) # changing a list to a vector or array\n",
    "print(\"Vector-1\")\n",
    "print(a)\n",
    "b = np.array([10,1,4,10]) # changing a list to a vector or array \n",
    "print(\"Vector-2\")\n",
    "print(b)\n",
    "product = list(map(lambda x,y:x*y,a,b)) # multiplyin two values of two given vectors using map and lambda functions.\n",
    "print(\"Multiply the values of two said vectors: \")\n",
    "print(np.array(product)) # changing a list to array or vector"
   ]
  },
  {
   "cell_type": "code",
   "execution_count": 5,
   "metadata": {},
   "outputs": [
    {
     "name": "stdout",
     "output_type": "stream",
     "text": [
      "Vector-1\n",
      "[1 8 3 5]\n",
      "Vector-2\n",
      "[10  1  4 10]\n",
      "Multiply the values of two said vectors : \n",
      "[10  8 12 50]\n"
     ]
    }
   ],
   "source": [
    "# method 2\n",
    "a = np.array([1,8,3,5]) # changing a list to a vector or array\n",
    "print(\"Vector-1\")\n",
    "print(a)\n",
    "b = np.array([10,1,4,10]) # changing a list to a vector or array \n",
    "print(\"Vector-2\")\n",
    "print(b)\n",
    "product = np.multiply(a,b)\n",
    "print(\"Multiply the values of two said vectors : \")\n",
    "print(product)"
   ]
  },
  {
   "cell_type": "markdown",
   "metadata": {
    "id": "h7ny_Xci_07Q"
   },
   "source": [
    "###### 9. Write a NumPy program to reverse an array (first element becomes last)."
   ]
  },
  {
   "cell_type": "code",
   "execution_count": 52,
   "metadata": {
    "id": "CQZLCU4Z_J0M"
   },
   "outputs": [
    {
     "name": "stdout",
     "output_type": "stream",
     "text": [
      "Original array: \n",
      "[12 13 14 15 16 17 18 19 20 21 22 23 24 25 26 27 28 29 30 31 32 33 34 35\n",
      " 36 37]\n",
      "Reverse array:\n",
      "[37 36 35 34 33 32 31 30 29 28 27 26 25 24 23 22 21 20 19 18 17 16 15 14\n",
      " 13 12]\n"
     ]
    }
   ],
   "source": [
    "### Write a NumPy program to reverse an array (first element becomes last).\n",
    "arr = [i for i in range(12,38)]\n",
    "a = np.array(arr)\n",
    "print(\"Original array: \")\n",
    "print(a)\n",
    "reversed_array = a[-1::-1] # reversing an array using sliding technique\n",
    "print(\"Reverse array:\")\n",
    "print(reversed_array)\n"
   ]
  },
  {
   "cell_type": "markdown",
   "metadata": {
    "id": "-y0LYMweAC3M"
   },
   "source": [
    "##### 10. Write a NumPy program to create a 5x5 zero matrix with elements on the main diagonal equal to 1, 2, 3, 4, 5."
   ]
  },
  {
   "cell_type": "code",
   "execution_count": 60,
   "metadata": {
    "id": "nJnstERf_J5T"
   },
   "outputs": [
    {
     "name": "stdout",
     "output_type": "stream",
     "text": [
      "[[1 0 0 0 0]\n",
      " [0 2 0 0 0]\n",
      " [0 0 3 0 0]\n",
      " [0 0 0 4 0]\n",
      " [0 0 0 0 5]]\n"
     ]
    }
   ],
   "source": [
    "## Write a NumPy program to create a 5x5 zero matrix with elements on the main diagonal equal to 1, 2, 3, 4, 5.\n",
    "arr_1 = np.zeros((5,5),dtype=int)\n",
    "new_arr = np.diag([1,2,3,4,5]) # we r using diag function to change diagonal values from zeros to 1,2,3,4,5.\n",
    "print(new_arr)"
   ]
  },
  {
   "cell_type": "markdown",
   "metadata": {
    "id": "h7nmiqKNAYH1"
   },
   "source": [
    "###### 11. Write a NumPy program to compute sum of all elements, sum of each column and sum of each row of a given array."
   ]
  },
  {
   "cell_type": "code",
   "execution_count": 6,
   "metadata": {
    "id": "zWHfl9BS_J-a"
   },
   "outputs": [
    {
     "name": "stdout",
     "output_type": "stream",
     "text": [
      "Original array: \n",
      "[[0 1]\n",
      " [2 3]]\n",
      "sum of all elemnts: \n",
      "Total sum: 6\n",
      "sum of row elemnts\n",
      "Row sum: [1 5]\n",
      "sum of column elemnts\n",
      "Column sum: [2 4]\n"
     ]
    }
   ],
   "source": [
    "## Method 1\n",
    "## Write a NumPy program to compute sum of all elements, sum of each column and sum of each row of a given array.\n",
    "\n",
    "arr = np.array([[0, 1], [2, 3]])\n",
    "print(\"Original array: \")\n",
    "print(arr)\n",
    "\n",
    "print(\"sum of all elemnts: \")\n",
    "# Sum of all elements\n",
    "total_sum = np.sum(arr)\n",
    "print(\"Total sum:\", total_sum)\n",
    "print(\"sum of row elemnts\")\n",
    "# Sum of each row\n",
    "row_sum = np.sum(arr, axis=1)\n",
    "print(\"Row sum:\", row_sum)\n",
    "print(\"sum of column elemnts\")\n",
    "# Sum of each column\n",
    "col_sum = np.sum(arr, axis=0)\n",
    "print(\"Column sum:\", col_sum)\n",
    "        \n"
   ]
  },
  {
   "cell_type": "code",
   "execution_count": 7,
   "metadata": {},
   "outputs": [
    {
     "name": "stdout",
     "output_type": "stream",
     "text": [
      "Original array: \n",
      "[[0 1]\n",
      " [2 3]]\n",
      "sum of all elemnts: \n",
      "Total sum: 6\n",
      "sum of row elemnts\n",
      "Row sum: [1, 5]\n",
      "sum of column elemnts\n",
      "Column sum: [2, 4]\n"
     ]
    }
   ],
   "source": [
    "## Method 2\n",
    "## Write a NumPy program to compute sum of all elements, sum of each column and sum of each row of a given array.\n",
    "arr = np.array([[0, 1], [2, 3]])\n",
    "print(\"Original array: \")\n",
    "print(arr)\n",
    "\n",
    "print(\"sum of all elemnts: \")\n",
    "# Sum of all elements\n",
    "total_sum = np.sum(arr)\n",
    "print(\"Total sum:\", total_sum)\n",
    "print(\"sum of row elemnts\")\n",
    "# Sum of each row\n",
    "row_sum = [arr[0][0] + arr[0][1],arr[1][0] + arr[1][1]]\n",
    "print(\"Row sum:\", row_sum) \n",
    "print(\"sum of column elemnts\")\n",
    "# Sum of each column\n",
    "col_sum = [arr[0][0] + arr[1][0],arr[0][1] + arr[1][1]]\n",
    "print(\"Column sum:\", col_sum)\n"
   ]
  },
  {
   "cell_type": "markdown",
   "metadata": {
    "id": "4JSLT9ImAnKn"
   },
   "source": [
    "###### 12. Write a NumPy program to compute the inner product of two given vectors."
   ]
  },
  {
   "cell_type": "code",
   "execution_count": 3,
   "metadata": {
    "id": "cBGxcHxe_KEt"
   },
   "outputs": [
    {
     "name": "stdout",
     "output_type": "stream",
     "text": [
      "Original Vectors: \n",
      "[4 5]\n",
      "[ 7 10]\n",
      "Inner product of said vectors:\n",
      "78\n"
     ]
    }
   ],
   "source": [
    "## Write a NumPy program to compute the inner product of two given vectors.\n",
    "vector1 = np.array([4, 5])\n",
    "vector2 = np.array([7,10])\n",
    "print(\"Original Vectors: \")\n",
    "print(vector1)\n",
    "print(vector2)\n",
    "\n",
    "# Compute the inner product of the two vectors\n",
    "inner_product = np.dot(vector1, vector2)\n",
    "\n",
    "print(\"Inner product of said vectors:\")\n",
    "print(inner_product)"
   ]
  },
  {
   "cell_type": "code",
   "execution_count": 8,
   "metadata": {},
   "outputs": [
    {
     "name": "stdout",
     "output_type": "stream",
     "text": [
      "Original Vectors: \n",
      "[4 5]\n",
      "[ 7 10]\n",
      "Inner product of said vectors:\n",
      "[28 50]\n"
     ]
    }
   ],
   "source": [
    "## Write a NumPy program to compute the inner product of two given vectors.\n",
    "vector1 = np.array([4, 5])\n",
    "vector2 = np.array([7,10])\n",
    "print(\"Original Vectors: \")\n",
    "print(vector1)\n",
    "print(vector2)\n",
    "\n",
    "# Compute the inner product of the two vectors\n",
    "inner_product = np.multiply(vector1, vector2)\n",
    "\n",
    "print(\"Inner product of said vectors:\")\n",
    "print(inner_product)"
   ]
  }
 ],
 "metadata": {
  "colab": {
   "collapsed_sections": [],
   "name": "Numpy_assignment_day_1.ipynb",
   "provenance": []
  },
  "kernelspec": {
   "display_name": "Python 3 (ipykernel)",
   "language": "python",
   "name": "python3"
  },
  "language_info": {
   "codemirror_mode": {
    "name": "ipython",
    "version": 3
   },
   "file_extension": ".py",
   "mimetype": "text/x-python",
   "name": "python",
   "nbconvert_exporter": "python",
   "pygments_lexer": "ipython3",
   "version": "3.9.13"
  }
 },
 "nbformat": 4,
 "nbformat_minor": 1
}
